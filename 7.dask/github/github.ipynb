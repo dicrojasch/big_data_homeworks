{
 "cells": [
  {
   "cell_type": "markdown",
   "id": "941c13f1-ca4f-4b9b-b716-1d1f38b8793e",
   "metadata": {},
   "source": [
    "<div style=\"text-align: right\"> \n",
    "Universidad Nacional de Colombia <br>\n",
    "Maestría en Ciencias - Estadística <br>\n",
    "Big Data - Métodos Intensivos de Computación Estadística -2023829 <br>\n",
    "Semestre 2021-1 \n",
    "</div> "
   ]
  },
  {
   "cell_type": "markdown",
   "id": "907757cb-fafa-40a9-8371-3ea3bc5d39a4",
   "metadata": {},
   "source": [
    "<div style=\"text-align: right\"> \n",
    "Estudiante: Diego Clemente Rojas Chingate   <br>\n",
    "</div> \n"
   ]
  },
  {
   "cell_type": "markdown",
   "id": "c22f6b5a-c55e-4a78-9793-256d0f7865c7",
   "metadata": {},
   "source": [
    "# Dataset Reddit comments"
   ]
  },
  {
   "cell_type": "markdown",
   "id": "8c8d1c86-de26-4af9-ab90-46f208cd5396",
   "metadata": {},
   "source": [
    "Dataset de cada evento público de Github de los años 2014 y 2015 almacenado como \"gzip\" que contiene un Json delimitado por líneas (El esquema cambia entre 2014 y 2015). [Fuente](https://github.com/dask/dask-tutorial/blob/main/Homework.ipynb)"
   ]
  },
  {
   "cell_type": "markdown",
   "id": "5f04e479-0272-4ad1-8d38-0d26fbddfd0f",
   "metadata": {},
   "source": [
    "Realizar lo siguiente:\n",
    "\n",
    "1. [Usar \"dask.bag\" para inspeccionar los datos.](#1.-Usar-\"dask.bag\"-para-inspeccionar-los-datos.)\n",
    "\n",
    "2. [Profundizar en funciones como \"pluck\" y \"filter\".](#2.-Profundizar-en-funciones-como-\"pluck\"-y-\"filter\".)\n",
    "\n",
    "3. [¿Quién fue el Commiter más popular de 2015?](#3.-¿Quién-fue-el-Commiter-más-popular-de-2015?)"
   ]
  },
  {
   "cell_type": "markdown",
   "id": "de941f6b-6ba7-49c2-b1d9-46c2fe63674b",
   "metadata": {},
   "source": [
    "# 1. Usar \"dask.bag\" para inspeccionar los datos."
   ]
  },
  {
   "cell_type": "markdown",
   "id": "63708e28-7581-4f1c-bd0d-ab66e51de48a",
   "metadata": {},
   "source": [
    "### Expresión para obtener los archivos de las carpetas \"./data/2014\" y \"./data/2015\""
   ]
  },
  {
   "cell_type": "code",
   "execution_count": 1,
   "id": "352dab51-c934-4a7d-b77c-a75ce0d332a8",
   "metadata": {},
   "outputs": [],
   "source": [
    "import os\n",
    "\n",
    "data_2014 = os.path.join('./data/2014', '2014*.json.gz')\n",
    "data_2015 = os.path.join('./data/2015', '0*/2015*.json.gz')"
   ]
  },
  {
   "cell_type": "markdown",
   "id": "6842c798-b170-4826-b004-78e15c7ae123",
   "metadata": {},
   "source": [
    "### Obtener los Bag de los archivos correspondientes a 2014 y 2015"
   ]
  },
  {
   "cell_type": "code",
   "execution_count": 2,
   "id": "ddc40fbf-6a9e-4f3a-8a9c-1c2b4e4ec86f",
   "metadata": {},
   "outputs": [],
   "source": [
    "import dask.bag as db\n",
    "\n",
    "bag_data_2014 = db.read_text(data_2014)\n",
    "bag_data_2015 = db.read_text(data_2015)\n"
   ]
  },
  {
   "cell_type": "markdown",
   "id": "1c78e532-ed46-4875-91f1-a04163e7def1",
   "metadata": {},
   "source": [
    "### Primeras 5 líneas (cada línea es un objeto JSON) de 2014"
   ]
  },
  {
   "cell_type": "code",
   "execution_count": 3,
   "id": "5df7127a-5b83-4b10-91b6-363b01a69b3e",
   "metadata": {},
   "outputs": [
    {
     "data": {
      "text/plain": [
       "('{\"created_at\":\"2014-01-01T00:02:02-08:00\",\"payload\":{\"shas\":[[\"84d3daa33301d74a10cce1fc340e306b19108208\",\"a4c90bd95206b987e4df905ee9f57ba9e064c73a@gmail.com\",\"Clicking on link opens it in new tab now\",\"Shrayas\",true],[\"403f4884d3e1ae2651345304d989275c69eed65e\",\"7b6523a745c0da3ed6e33c034f58cffde1f9de21@gmail.com\",\"Merge pull request #28 from shrayas/open-link-in-new-tab\\\\n\\\\nClicking on link opens it in new tab now\",\"Raghotham S\",true]],\"size\":2,\"ref\":\"refs/heads/master\",\"head\":\"403f4884d3e1ae2651345304d989275c69eed65e\"},\"public\":true,\"type\":\"PushEvent\",\"url\":\"https://github.com/raghothams/sharURL/compare/dea5599b6c...403f4884d3\",\"actor\":\"raghothams\",\"actor_attributes\":{\"login\":\"raghothams\",\"type\":\"User\",\"gravatar_id\":\"4a1a459a7121d36bbd0ad15b59735b50\",\"name\":\"Raghotham S\",\"company\":\"SAP Labs Pvt. Ltd.\",\"location\":\"Bangalore\",\"email\":\"7b6523a745c0da3ed6e33c034f58cffde1f9de21@gmail.com\"},\"repository\":{\"id\":11090251,\"name\":\"sharURL\",\"url\":\"https://github.com/raghothams/sharURL\",\"description\":\"Web app for sharing URL with group of people\",\"watchers\":1,\"stargazers\":1,\"forks\":1,\"fork\":false,\"size\":1530,\"owner\":\"raghothams\",\"private\":false,\"open_issues\":5,\"has_issues\":true,\"has_downloads\":true,\"has_wiki\":true,\"language\":\"JavaScript\",\"created_at\":\"2013-07-01T02:24:30-07:00\",\"pushed_at\":\"2014-01-01T00:02:02-08:00\",\"master_branch\":\"master\"}}\\n',\n",
       " '{\"created_at\":\"2014-01-01T00:02:02-08:00\",\"payload\":{\"action\":\"closed\",\"number\":28,\"pull_request\":{\"url\":\"https://api.github.com/repos/raghothams/sharURL/pulls/28\",\"id\":11168887,\"html_url\":\"https://github.com/raghothams/sharURL/pull/28\",\"diff_url\":\"https://github.com/raghothams/sharURL/pull/28.diff\",\"patch_url\":\"https://github.com/raghothams/sharURL/pull/28.patch\",\"issue_url\":\"https://github.com/raghothams/sharURL/pull/28\",\"number\":28,\"state\":\"closed\",\"title\":\"Clicking on link opens it in new tab now\",\"user\":{\"login\":\"shrayas\",\"id\":240368,\"avatar_url\":\"https://gravatar.com/avatar/04916cffc8dea77475189ac7ed480420?d=https%3A%2F%2Fidenticons.github.com%2Ff29aa139e90025ff44dd23f1f3ec8b58.png&r=x\",\"gravatar_id\":\"04916cffc8dea77475189ac7ed480420\",\"url\":\"https://api.github.com/users/shrayas\",\"html_url\":\"https://github.com/shrayas\",\"followers_url\":\"https://api.github.com/users/shrayas/followers\",\"following_url\":\"https://api.github.com/users/shrayas/following{/other_user}\",\"gists_url\":\"https://api.github.com/users/shrayas/gists{/gist_id}\",\"starred_url\":\"https://api.github.com/users/shrayas/starred{/owner}{/repo}\",\"subscriptions_url\":\"https://api.github.com/users/shrayas/subscriptions\",\"organizations_url\":\"https://api.github.com/users/shrayas/orgs\",\"repos_url\":\"https://api.github.com/users/shrayas/repos\",\"events_url\":\"https://api.github.com/users/shrayas/events{/privacy}\",\"received_events_url\":\"https://api.github.com/users/shrayas/received_events\",\"type\":\"User\",\"site_admin\":false},\"body\":\"Links used to be opened in the same tab, hence breaking the flow.\",\"created_at\":\"2014-01-01T07:58:44Z\",\"updated_at\":\"2014-01-01T08:02:02Z\",\"closed_at\":\"2014-01-01T08:02:02Z\",\"merged_at\":\"2014-01-01T08:02:02Z\",\"merge_commit_sha\":\"ef74fa88aa543f7035fa69f7a9ab7352705b69d4\",\"assignee\":null,\"milestone\":null,\"commits_url\":\"https://github.com/raghothams/sharURL/pull/28/commits\",\"review_comments_url\":\"https://github.com/raghothams/sharURL/pull/28/comments\",\"review_comment_url\":\"/repos/raghothams/sharURL/pulls/comments/{number}\",\"comments_url\":\"https://api.github.com/repos/raghothams/sharURL/issues/28/comments\",\"statuses_url\":\"https://api.github.com/repos/raghothams/sharURL/statuses/84d3daa33301d74a10cce1fc340e306b19108208\",\"head\":{\"label\":\"shrayas:open-link-in-new-tab\",\"ref\":\"open-link-in-new-tab\",\"sha\":\"84d3daa33301d74a10cce1fc340e306b19108208\",\"user\":{\"login\":\"shrayas\",\"id\":240368,\"avatar_url\":\"https://gravatar.com/avatar/04916cffc8dea77475189ac7ed480420?d=https%3A%2F%2Fidenticons.github.com%2Ff29aa139e90025ff44dd23f1f3ec8b58.png&r=x\",\"gravatar_id\":\"04916cffc8dea77475189ac7ed480420\",\"url\":\"https://api.github.com/users/shrayas\",\"html_url\":\"https://github.com/shrayas\",\"followers_url\":\"https://api.github.com/users/shrayas/followers\",\"following_url\":\"https://api.github.com/users/shrayas/following{/other_user}\",\"gists_url\":\"https://api.github.com/users/shrayas/gists{/gist_id}\",\"starred_url\":\"https://api.github.com/users/shrayas/starred{/owner}{/repo}\",\"subscriptions_url\":\"https://api.github.com/users/shrayas/subscriptions\",\"organizations_url\":\"https://api.github.com/users/shrayas/orgs\",\"repos_url\":\"https://api.github.com/users/shrayas/repos\",\"events_url\":\"https://api.github.com/users/shrayas/events{/privacy}\",\"received_events_url\":\"https://api.github.com/users/shrayas/received_events\",\"type\":\"User\",\"site_admin\":false},\"repo\":{\"id\":11402218,\"name\":\"sharURL\",\"full_name\":\"shrayas/sharURL\",\"owner\":{\"login\":\"shrayas\",\"id\":240368,\"avatar_url\":\"https://gravatar.com/avatar/04916cffc8dea77475189ac7ed480420?d=https%3A%2F%2Fidenticons.github.com%2Ff29aa139e90025ff44dd23f1f3ec8b58.png&r=x\",\"gravatar_id\":\"04916cffc8dea77475189ac7ed480420\",\"url\":\"https://api.github.com/users/shrayas\",\"html_url\":\"https://github.com/shrayas\",\"followers_url\":\"https://api.github.com/users/shrayas/followers\",\"following_url\":\"https://api.github.com/users/shrayas/following{/other_user}\",\"gists_url\":\"https://api.github.com/users/shrayas/gists{/gist_id}\",\"starred_url\":\"https://api.github.com/users/shrayas/starred{/owner}{/repo}\",\"subscriptions_url\":\"https://api.github.com/users/shrayas/subscriptions\",\"organizations_url\":\"https://api.github.com/users/shrayas/orgs\",\"repos_url\":\"https://api.github.com/users/shrayas/repos\",\"events_url\":\"https://api.github.com/users/shrayas/events{/privacy}\",\"received_events_url\":\"https://api.github.com/users/shrayas/received_events\",\"type\":\"User\",\"site_admin\":false},\"private\":false,\"html_url\":\"https://github.com/shrayas/sharURL\",\"description\":\"Web app for sharing URL with group of people\",\"fork\":true,\"url\":\"https://api.github.com/repos/shrayas/sharURL\",\"forks_url\":\"https://api.github.com/repos/shrayas/sharURL/forks\",\"keys_url\":\"https://api.github.com/repos/shrayas/sharURL/keys{/key_id}\",\"collaborators_url\":\"https://api.github.com/repos/shrayas/sharURL/collaborators{/collaborator}\",\"teams_url\":\"https://api.github.com/repos/shrayas/sharURL/teams\",\"hooks_url\":\"https://api.github.com/repos/shrayas/sharURL/hooks\",\"issue_events_url\":\"https://api.github.com/repos/shrayas/sharURL/issues/events{/number}\",\"events_url\":\"https://api.github.com/repos/shrayas/sharURL/events\",\"assignees_url\":\"https://api.github.com/repos/shrayas/sharURL/assignees{/user}\",\"branches_url\":\"https://api.github.com/repos/shrayas/sharURL/branches{/branch}\",\"tags_url\":\"https://api.github.com/repos/shrayas/sharURL/tags\",\"blobs_url\":\"https://api.github.com/repos/shrayas/sharURL/git/blobs{/sha}\",\"git_tags_url\":\"https://api.github.com/repos/shrayas/sharURL/git/tags{/sha}\",\"git_refs_url\":\"https://api.github.com/repos/shrayas/sharURL/git/refs{/sha}\",\"trees_url\":\"https://api.github.com/repos/shrayas/sharURL/git/trees{/sha}\",\"statuses_url\":\"https://api.github.com/repos/shrayas/sharURL/statuses/{sha}\",\"languages_url\":\"https://api.github.com/repos/shrayas/sharURL/languages\",\"stargazers_url\":\"https://api.github.com/repos/shrayas/sharURL/stargazers\",\"contributors_url\":\"https://api.github.com/repos/shrayas/sharURL/contributors\",\"subscribers_url\":\"https://api.github.com/repos/shrayas/sharURL/subscribers\",\"subscription_url\":\"https://api.github.com/repos/shrayas/sharURL/subscription\",\"commits_url\":\"https://api.github.com/repos/shrayas/sharURL/commits{/sha}\",\"git_commits_url\":\"https://api.github.com/repos/shrayas/sharURL/git/commits{/sha}\",\"comments_url\":\"https://api.github.com/repos/shrayas/sharURL/comments{/number}\",\"issue_comment_url\":\"https://api.github.com/repos/shrayas/sharURL/issues/comments/{number}\",\"contents_url\":\"https://api.github.com/repos/shrayas/sharURL/contents/{+path}\",\"compare_url\":\"https://api.github.com/repos/shrayas/sharURL/compare/{base}...{head}\",\"merges_url\":\"https://api.github.com/repos/shrayas/sharURL/merges\",\"archive_url\":\"https://api.github.com/repos/shrayas/sharURL/{archive_format}{/ref}\",\"downloads_url\":\"https://api.github.com/repos/shrayas/sharURL/downloads\",\"issues_url\":\"https://api.github.com/repos/shrayas/sharURL/issues{/number}\",\"pulls_url\":\"https://api.github.com/repos/shrayas/sharURL/pulls{/number}\",\"milestones_url\":\"https://api.github.com/repos/shrayas/sharURL/milestones{/number}\",\"notifications_url\":\"https://api.github.com/repos/shrayas/sharURL/notifications{?since,all,participating}\",\"labels_url\":\"https://api.github.com/repos/shrayas/sharURL/labels{/name}\",\"releases_url\":\"https://api.github.com/repos/shrayas/sharURL/releases{/id}\",\"created_at\":\"2013-07-14T11:47:37Z\",\"updated_at\":\"2014-01-01T08:02:02Z\",\"pushed_at\":\"2014-01-01T07:58:07Z\",\"git_url\":\"git://github.com/shrayas/sharURL.git\",\"ssh_url\":\"git@github.com:shrayas/sharURL.git\",\"clone_url\":\"https://github.com/shrayas/sharURL.git\",\"svn_url\":\"https://github.com/shrayas/sharURL\",\"homepage\":null,\"size\":1073,\"stargazers_count\":0,\"watchers_count\":0,\"language\":\"JavaScript\",\"has_issues\":false,\"has_downloads\":true,\"has_wiki\":true,\"forks_count\":0,\"mirror_url\":null,\"open_issues_count\":0,\"forks\":0,\"open_issues\":0,\"watchers\":0,\"default_branch\":\"master\",\"master_branch\":\"master\"}},\"base\":{\"label\":\"raghothams:master\",\"ref\":\"master\",\"sha\":\"dea5599b6c3c1d203c92bab2a5ca0298f637f00b\",\"user\":{\"login\":\"raghothams\",\"id\":1147540,\"avatar_url\":\"https://gravatar.com/avatar/4a1a459a7121d36bbd0ad15b59735b50?d=https%3A%2F%2Fidenticons.github.com%2F620cac81ae2956238c51ba07966e2b85.png&r=x\",\"gravatar_id\":\"4a1a459a7121d36bbd0ad15b59735b50\",\"url\":\"https://api.github.com/users/raghothams\",\"html_url\":\"https://github.com/raghothams\",\"followers_url\":\"https://api.github.com/users/raghothams/followers\",\"following_url\":\"https://api.github.com/users/raghothams/following{/other_user}\",\"gists_url\":\"https://api.github.com/users/raghothams/gists{/gist_id}\",\"starred_url\":\"https://api.github.com/users/raghothams/starred{/owner}{/repo}\",\"subscriptions_url\":\"https://api.github.com/users/raghothams/subscriptions\",\"organizations_url\":\"https://api.github.com/users/raghothams/orgs\",\"repos_url\":\"https://api.github.com/users/raghothams/repos\",\"events_url\":\"https://api.github.com/users/raghothams/events{/privacy}\",\"received_events_url\":\"https://api.github.com/users/raghothams/received_events\",\"type\":\"User\",\"site_admin\":false},\"repo\":{\"id\":11090251,\"name\":\"sharURL\",\"full_name\":\"raghothams/sharURL\",\"owner\":{\"login\":\"raghothams\",\"id\":1147540,\"avatar_url\":\"https://gravatar.com/avatar/4a1a459a7121d36bbd0ad15b59735b50?d=https%3A%2F%2Fidenticons.github.com%2F620cac81ae2956238c51ba07966e2b85.png&r=x\",\"gravatar_id\":\"4a1a459a7121d36bbd0ad15b59735b50\",\"url\":\"https://api.github.com/users/raghothams\",\"html_url\":\"https://github.com/raghothams\",\"followers_url\":\"https://api.github.com/users/raghothams/followers\",\"following_url\":\"https://api.github.com/users/raghothams/following{/other_user}\",\"gists_url\":\"https://api.github.com/users/raghothams/gists{/gist_id}\",\"starred_url\":\"https://api.github.com/users/raghothams/starred{/owner}{/repo}\",\"subscriptions_url\":\"https://api.github.com/users/raghothams/subscriptions\",\"organizations_url\":\"https://api.github.com/users/raghothams/orgs\",\"repos_url\":\"https://api.github.com/users/raghothams/repos\",\"events_url\":\"https://api.github.com/users/raghothams/events{/privacy}\",\"received_events_url\":\"https://api.github.com/users/raghothams/received_events\",\"type\":\"User\",\"site_admin\":false},\"private\":false,\"html_url\":\"https://github.com/raghothams/sharURL\",\"description\":\"Web app for sharing URL with group of people\",\"fork\":false,\"url\":\"https://api.github.com/repos/raghothams/sharURL\",\"forks_url\":\"https://api.github.com/repos/raghothams/sharURL/forks\",\"keys_url\":\"https://api.github.com/repos/raghothams/sharURL/keys{/key_id}\",\"collaborators_url\":\"https://api.github.com/repos/raghothams/sharURL/collaborators{/collaborator}\",\"teams_url\":\"https://api.github.com/repos/raghothams/sharURL/teams\",\"hooks_url\":\"https://api.github.com/repos/raghothams/sharURL/hooks\",\"issue_events_url\":\"https://api.github.com/repos/raghothams/sharURL/issues/events{/number}\",\"events_url\":\"https://api.github.com/repos/raghothams/sharURL/events\",\"assignees_url\":\"https://api.github.com/repos/raghothams/sharURL/assignees{/user}\",\"branches_url\":\"https://api.github.com/repos/raghothams/sharURL/branches{/branch}\",\"tags_url\":\"https://api.github.com/repos/raghothams/sharURL/tags\",\"blobs_url\":\"https://api.github.com/repos/raghothams/sharURL/git/blobs{/sha}\",\"git_tags_url\":\"https://api.github.com/repos/raghothams/sharURL/git/tags{/sha}\",\"git_refs_url\":\"https://api.github.com/repos/raghothams/sharURL/git/refs{/sha}\",\"trees_url\":\"https://api.github.com/repos/raghothams/sharURL/git/trees{/sha}\",\"statuses_url\":\"https://api.github.com/repos/raghothams/sharURL/statuses/{sha}\",\"languages_url\":\"https://api.github.com/repos/raghothams/sharURL/languages\",\"stargazers_url\":\"https://api.github.com/repos/raghothams/sharURL/stargazers\",\"contributors_url\":\"https://api.github.com/repos/raghothams/sharURL/contributors\",\"subscribers_url\":\"https://api.github.com/repos/raghothams/sharURL/subscribers\",\"subscription_url\":\"https://api.github.com/repos/raghothams/sharURL/subscription\",\"commits_url\":\"https://api.github.com/repos/raghothams/sharURL/commits{/sha}\",\"git_commits_url\":\"https://api.github.com/repos/raghothams/sharURL/git/commits{/sha}\",\"comments_url\":\"https://api.github.com/repos/raghothams/sharURL/comments{/number}\",\"issue_comment_url\":\"https://api.github.com/repos/raghothams/sharURL/issues/comments/{number}\",\"contents_url\":\"https://api.github.com/repos/raghothams/sharURL/contents/{+path}\",\"compare_url\":\"https://api.github.com/repos/raghothams/sharURL/compare/{base}...{head}\",\"merges_url\":\"https://api.github.com/repos/raghothams/sharURL/merges\",\"archive_url\":\"https://api.github.com/repos/raghothams/sharURL/{archive_format}{/ref}\",\"downloads_url\":\"https://api.github.com/repos/raghothams/sharURL/downloads\",\"issues_url\":\"https://api.github.com/repos/raghothams/sharURL/issues{/number}\",\"pulls_url\":\"https://api.github.com/repos/raghothams/sharURL/pulls{/number}\",\"milestones_url\":\"https://api.github.com/repos/raghothams/sharURL/milestones{/number}\",\"notifications_url\":\"https://api.github.com/repos/raghothams/sharURL/notifications{?since,all,participating}\",\"labels_url\":\"https://api.github.com/repos/raghothams/sharURL/labels{/name}\",\"releases_url\":\"https://api.github.com/repos/raghothams/sharURL/releases{/id}\",\"created_at\":\"2013-07-01T09:24:30Z\",\"updated_at\":\"2014-01-01T08:02:02Z\",\"pushed_at\":\"2014-01-01T08:02:02Z\",\"git_url\":\"git://github.com/raghothams/sharURL.git\",\"ssh_url\":\"git@github.com:raghothams/sharURL.git\",\"clone_url\":\"https://github.com/raghothams/sharURL.git\",\"svn_url\":\"https://github.com/raghothams/sharURL\",\"homepage\":null,\"size\":1530,\"stargazers_count\":1,\"watchers_count\":1,\"language\":\"JavaScript\",\"has_issues\":true,\"has_downloads\":true,\"has_wiki\":true,\"forks_count\":1,\"mirror_url\":null,\"open_issues_count\":9,\"forks\":1,\"open_issues\":9,\"watchers\":1,\"default_branch\":\"master\",\"master_branch\":\"master\"}},\"_links\":{\"self\":{\"href\":\"https://api.github.com/repos/raghothams/sharURL/pulls/28\"},\"html\":{\"href\":\"https://github.com/raghothams/sharURL/pull/28\"},\"issue\":{\"href\":\"https://api.github.com/repos/raghothams/sharURL/issues/28\"},\"comments\":{\"href\":\"https://api.github.com/repos/raghothams/sharURL/issues/28/comments\"},\"review_comments\":{\"href\":\"https://api.github.com/repos/raghothams/sharURL/pulls/28/comments\"},\"statuses\":{\"href\":\"https://api.github.com/repos/raghothams/sharURL/statuses/84d3daa33301d74a10cce1fc340e306b19108208\"}},\"merged\":true,\"mergeable\":null,\"mergeable_state\":\"unknown\",\"merged_by\":{\"login\":\"raghothams\",\"id\":1147540,\"avatar_url\":\"https://gravatar.com/avatar/4a1a459a7121d36bbd0ad15b59735b50?d=https%3A%2F%2Fidenticons.github.com%2F620cac81ae2956238c51ba07966e2b85.png&r=x\",\"gravatar_id\":\"4a1a459a7121d36bbd0ad15b59735b50\",\"url\":\"https://api.github.com/users/raghothams\",\"html_url\":\"https://github.com/raghothams\",\"followers_url\":\"https://api.github.com/users/raghothams/followers\",\"following_url\":\"https://api.github.com/users/raghothams/following{/other_user}\",\"gists_url\":\"https://api.github.com/users/raghothams/gists{/gist_id}\",\"starred_url\":\"https://api.github.com/users/raghothams/starred{/owner}{/repo}\",\"subscriptions_url\":\"https://api.github.com/users/raghothams/subscriptions\",\"organizations_url\":\"https://api.github.com/users/raghothams/orgs\",\"repos_url\":\"https://api.github.com/users/raghothams/repos\",\"events_url\":\"https://api.github.com/users/raghothams/events{/privacy}\",\"received_events_url\":\"https://api.github.com/users/raghothams/received_events\",\"type\":\"User\",\"site_admin\":false},\"comments\":0,\"review_comments\":0,\"commits\":1,\"additions\":1,\"deletions\":1,\"changed_files\":1}},\"public\":true,\"type\":\"PullRequestEvent\",\"url\":\"https://github.com/raghothams/sharURL/pull/28\",\"actor\":\"raghothams\",\"actor_attributes\":{\"login\":\"raghothams\",\"type\":\"User\",\"gravatar_id\":\"4a1a459a7121d36bbd0ad15b59735b50\",\"name\":\"Raghotham S\",\"company\":\"SAP Labs Pvt. Ltd.\",\"location\":\"Bangalore\",\"email\":\"7b6523a745c0da3ed6e33c034f58cffde1f9de21@gmail.com\"},\"repository\":{\"id\":11090251,\"name\":\"sharURL\",\"url\":\"https://github.com/raghothams/sharURL\",\"description\":\"Web app for sharing URL with group of people\",\"watchers\":1,\"stargazers\":1,\"forks\":1,\"fork\":false,\"size\":1530,\"owner\":\"raghothams\",\"private\":false,\"open_issues\":5,\"has_issues\":true,\"has_downloads\":true,\"has_wiki\":true,\"language\":\"JavaScript\",\"created_at\":\"2013-07-01T02:24:30-07:00\",\"pushed_at\":\"2014-01-01T00:02:02-08:00\",\"master_branch\":\"master\"}}\\n',\n",
       " '{\"created_at\":\"2014-01-01T00:02:01-08:00\",\"payload\":{\"action\":\"opened\",\"issue\":24938482,\"number\":6},\"public\":true,\"type\":\"IssuesEvent\",\"url\":\"https://github.com/terkel/terkel.jp-stylesheets/issues/6\",\"actor\":\"terkel\",\"actor_attributes\":{\"login\":\"terkel\",\"type\":\"User\",\"gravatar_id\":\"dc3f88b2c2c4210e3068d94ce7c25bf2\",\"name\":\"Takeru Suzuki\",\"company\":\"Shiftbrain Inc.\",\"blog\":\"http://terkel.jp/\",\"location\":\"Japan\",\"email\":\"faf92ec7f43fdadbd9a07a390db08ae9483f79a3@gmail.com\"},\"repository\":{\"id\":4113385,\"name\":\"terkel.jp-stylesheets\",\"url\":\"https://github.com/terkel/terkel.jp-stylesheets\",\"description\":\"Stylesheets for terkel.jp\",\"homepage\":\"\",\"watchers\":10,\"stargazers\":10,\"forks\":2,\"fork\":false,\"size\":302,\"owner\":\"terkel\",\"private\":false,\"open_issues\":5,\"has_issues\":true,\"has_downloads\":true,\"has_wiki\":true,\"language\":\"CSS\",\"created_at\":\"2012-04-23T06:31:27-07:00\",\"pushed_at\":\"2013-12-31T23:54:20-08:00\",\"master_branch\":\"master\"}}\\n',\n",
       " '{\"created_at\":\"2014-01-01T00:02:01-08:00\",\"payload\":{\"shas\":[[\"6127f1258c3e2fc702833abe5a4cba671fa281e9\",\"e8b147f112583cfd78595f107880e066280b241a@outlook.com\",\"update GitIgnore\",\"Jorge Figueroa (Qosmio W8)\",true],[\"fc7697095229e52bac56049dc2f5a316c61d2bfc\",\"e8b147f112583cfd78595f107880e066280b241a@outlook.com\",\"Missing NuGet Package\",\"Jorge Figueroa (Qosmio W8)\",true]],\"size\":2,\"ref\":\"refs/heads/master\",\"head\":\"fc7697095229e52bac56049dc2f5a316c61d2bfc\"},\"public\":true,\"type\":\"PushEvent\",\"url\":\"https://github.com/yknx4/AndroidMediaSync/compare/505a2a898b...fc76970952\",\"actor\":\"yknx4\",\"actor_attributes\":{\"login\":\"yknx4\",\"type\":\"User\",\"gravatar_id\":\"d0809d88ba908aa63f325b567d97a17d\",\"email\":\"da39a3ee5e6b4b0d3255bfef95601890afd80709\"},\"repository\":{\"id\":15559176,\"name\":\"AndroidMediaSync\",\"url\":\"https://github.com/yknx4/AndroidMediaSync\",\"description\":\"Tool to keep files synced with an android device,\",\"watchers\":0,\"stargazers\":0,\"forks\":0,\"fork\":false,\"size\":0,\"owner\":\"yknx4\",\"private\":false,\"open_issues\":0,\"has_issues\":true,\"has_downloads\":true,\"has_wiki\":true,\"created_at\":\"2013-12-31T17:35:29-08:00\",\"pushed_at\":\"2014-01-01T00:02:00-08:00\",\"master_branch\":\"master\"}}\\n',\n",
       " '{\"created_at\":\"2014-01-01T00:02:01-08:00\",\"payload\":{\"ref\":\"2-14-spec-stub-chain-args\",\"ref_type\":\"branch\"},\"public\":true,\"type\":\"DeleteEvent\",\"url\":\"https://github.com/\",\"actor\":\"myronmarston\",\"actor_attributes\":{\"login\":\"myronmarston\",\"type\":\"User\",\"gravatar_id\":\"42d4590355a1404230fbc9aff4dd377b\",\"name\":\"Myron Marston\",\"company\":\"Moz\",\"blog\":\"myronmars.to/n\",\"location\":\"Seattle, WA\",\"email\":\"fd109d70772fe3df3ddfb042c9ca965a43dc0441@gmail.com\"},\"repository\":{\"id\":238983,\"name\":\"rspec-mocks\",\"url\":\"https://github.com/rspec/rspec-mocks\",\"description\":\"RSpec\\'s \\'test double\\' framework, with support for stubbing and mocking\",\"homepage\":\"http://relishapp.com/rspec/rspec-mocks\",\"watchers\":333,\"stargazers\":333,\"forks\":134,\"fork\":false,\"size\":8630,\"owner\":\"rspec\",\"private\":false,\"open_issues\":20,\"has_issues\":true,\"has_downloads\":false,\"has_wiki\":true,\"language\":\"Ruby\",\"created_at\":\"2009-06-29T08:56:06-07:00\",\"pushed_at\":\"2014-01-01T00:02:01-08:00\",\"master_branch\":\"master\",\"organization\":\"rspec\"}}\\n')"
      ]
     },
     "execution_count": 3,
     "metadata": {},
     "output_type": "execute_result"
    }
   ],
   "source": [
    "bag_data_2014.take(5)"
   ]
  },
  {
   "cell_type": "markdown",
   "id": "0c72ac21-5907-4506-abcb-e9ad3eb58c7a",
   "metadata": {},
   "source": [
    "### Primeras 5 líneas (cada línea es un objeto JSON) de 2015"
   ]
  },
  {
   "cell_type": "code",
   "execution_count": 4,
   "id": "ffb5545f-a599-42a4-9934-51f60b60f860",
   "metadata": {},
   "outputs": [
    {
     "data": {
      "text/plain": [
       "('{\"id\":\"2489368070\",\"type\":\"PushEvent\",\"actor\":{\"id\":9152315,\"login\":\"davidjhulse\",\"gravatar_id\":\"\",\"url\":\"https://api.github.com/users/davidjhulse\",\"avatar_url\":\"https://avatars.githubusercontent.com/u/9152315?\"},\"repo\":{\"id\":28635890,\"name\":\"davidjhulse/davesbingrewardsbot\",\"url\":\"https://api.github.com/repos/davidjhulse/davesbingrewardsbot\"},\"payload\":{\"push_id\":536740396,\"size\":1,\"distinct_size\":1,\"ref\":\"refs/heads/master\",\"head\":\"a9b22a6d80c1e0bb49c1cf75a3c075b642c28f81\",\"before\":\"86ffa724b4d70fce46e760f8cc080f5ec3d7d85f\",\"commits\":[{\"sha\":\"a9b22a6d80c1e0bb49c1cf75a3c075b642c28f81\",\"author\":{\"email\":\"da8d7d1118ca5befd4d0d3e4f449c76ba6f1ee7e@live.com\",\"name\":\"davidjhulse\"},\"message\":\"Altered BingBot.jar\\\\n\\\\nFixed issue with multiple account support\",\"distinct\":true,\"url\":\"https://api.github.com/repos/davidjhulse/davesbingrewardsbot/commits/a9b22a6d80c1e0bb49c1cf75a3c075b642c28f81\"}]},\"public\":true,\"created_at\":\"2015-01-01T00:00:00Z\"}\\n',\n",
       " '{\"id\":\"2489368072\",\"type\":\"PushEvent\",\"actor\":{\"id\":5581438,\"login\":\"jmoon018\",\"gravatar_id\":\"\",\"url\":\"https://api.github.com/users/jmoon018\",\"avatar_url\":\"https://avatars.githubusercontent.com/u/5581438?\"},\"repo\":{\"id\":26392647,\"name\":\"jmoon018/rshell-unit-tester\",\"url\":\"https://api.github.com/repos/jmoon018/rshell-unit-tester\"},\"payload\":{\"push_id\":536740397,\"size\":1,\"distinct_size\":1,\"ref\":\"refs/heads/master\",\"head\":\"56688cc528224d40679b7e83c105b27367443a8c\",\"before\":\"d5a69a84e4d95c1c2cbc0a828172f9ce94db35c6\",\"commits\":[{\"sha\":\"56688cc528224d40679b7e83c105b27367443a8c\",\"author\":{\"email\":\"61dcbbf08c9f7aaa2b1d0a9ce0b90608a83988c2@ucr.edu\",\"name\":\"Jamal Moon\"},\"message\":\"Can be run from outside of bin. Fixed multi-line issue\",\"distinct\":true,\"url\":\"https://api.github.com/repos/jmoon018/rshell-unit-tester/commits/56688cc528224d40679b7e83c105b27367443a8c\"}]},\"public\":true,\"created_at\":\"2015-01-01T00:00:00Z\"}\\n',\n",
       " '{\"id\":\"2489368089\",\"type\":\"CreateEvent\",\"actor\":{\"id\":6352424,\"login\":\"christoferpeterson\",\"gravatar_id\":\"\",\"url\":\"https://api.github.com/users/christoferpeterson\",\"avatar_url\":\"https://avatars.githubusercontent.com/u/6352424?\"},\"repo\":{\"id\":28677542,\"name\":\"christoferpeterson/Vadek\",\"url\":\"https://api.github.com/repos/christoferpeterson/Vadek\"},\"payload\":{\"ref\":\"master\",\"ref_type\":\"branch\",\"master_branch\":\"master\",\"description\":\"Making an HTML5 game from scratch.\",\"pusher_type\":\"user\"},\"public\":true,\"created_at\":\"2015-01-01T00:00:01Z\"}\\n',\n",
       " '{\"id\":\"2489368095\",\"type\":\"PushEvent\",\"actor\":{\"id\":66577,\"login\":\"JakeWharton\",\"gravatar_id\":\"\",\"url\":\"https://api.github.com/users/JakeWharton\",\"avatar_url\":\"https://avatars.githubusercontent.com/u/66577?\"},\"repo\":{\"id\":5152285,\"name\":\"square/okhttp\",\"url\":\"https://api.github.com/repos/square/okhttp\"},\"payload\":{\"push_id\":536740405,\"size\":8,\"distinct_size\":1,\"ref\":\"refs/heads/jw/websocket-call\",\"head\":\"bc9aa8a0c999232d2675cf5ba60e9c9d03f2a806\",\"before\":\"8590ddf9fe54fe27d24f25dd66729993e63a5d61\",\"commits\":[{\"sha\":\"ec572201658b566373845657a8aca7bc6d6214a4\",\"author\":{\"email\":\"9ec2b9d5f2203d75c2b0f7885bd663d9d57a2d20@squareup.com\",\"name\":\"Jake Wharton\"},\"message\":\"Remove unused method.\",\"distinct\":false,\"url\":\"https://api.github.com/repos/square/okhttp/commits/ec572201658b566373845657a8aca7bc6d6214a4\"},{\"sha\":\"bfa25f05bd5786c990fccb513f56375a4f98d95b\",\"author\":{\"email\":\"a5c95b3d7cb4d0ae05a15c79c79ab458dc2c8f9e@swank.ca\",\"name\":\"Jesse Wilson\"},\"message\":\"Merge pull request #1262 from square/jw/unused\\\\n\\\\nRemove unused method.\",\"distinct\":false,\"url\":\"https://api.github.com/repos/square/okhttp/commits/bfa25f05bd5786c990fccb513f56375a4f98d95b\"},{\"sha\":\"6909923b89d98fef39600a170aa50e566dbb730a\",\"author\":{\"email\":\"a64cc9f76231f0ec4acb28039b9f699588583cb0@gmail.com\",\"name\":\"Christian Becker\"},\"message\":\"Update CHANGELOG.md\",\"distinct\":false,\"url\":\"https://api.github.com/repos/square/okhttp/commits/6909923b89d98fef39600a170aa50e566dbb730a\"},{\"sha\":\"2ca6dfd055d480a4ef3520af39ad4b7ba02d5491\",\"author\":{\"email\":\"a5c95b3d7cb4d0ae05a15c79c79ab458dc2c8f9e@swank.ca\",\"name\":\"Jesse Wilson\"},\"message\":\"Merge pull request #1263 from ChristianBecker/patch-1\\\\n\\\\nUpdate CHANGELOG.md\",\"distinct\":false,\"url\":\"https://api.github.com/repos/square/okhttp/commits/2ca6dfd055d480a4ef3520af39ad4b7ba02d5491\"},{\"sha\":\"5527a1764d973d293faffe31faddf205e3f37641\",\"author\":{\"email\":\"b559ba3411cf55dd74bd9675d6ce4d094c2e3438@squareup.com\",\"name\":\"Jesse Wilson\"},\"message\":\"We now fall back to TLS 1.0.\",\"distinct\":false,\"url\":\"https://api.github.com/repos/square/okhttp/commits/5527a1764d973d293faffe31faddf205e3f37641\"},{\"sha\":\"31ec212f84edbe04b9b705f521ed7dc3bd7ddc3a\",\"author\":{\"email\":\"9ec2b9d5f2203d75c2b0f7885bd663d9d57a2d20@squareup.com\",\"name\":\"Jake Wharton\"},\"message\":\"Skip buffer allocation when not needed.\",\"distinct\":false,\"url\":\"https://api.github.com/repos/square/okhttp/commits/31ec212f84edbe04b9b705f521ed7dc3bd7ddc3a\"},{\"sha\":\"7756c4e4fe1cd703cff07d218da2fecb30f916c6\",\"author\":{\"email\":\"a5c95b3d7cb4d0ae05a15c79c79ab458dc2c8f9e@swank.ca\",\"name\":\"Jesse Wilson\"},\"message\":\"Merge pull request #1264 from square/jw/kill-two-allocations\\\\n\\\\nSkip buffer allocation when not needed.\",\"distinct\":false,\"url\":\"https://api.github.com/repos/square/okhttp/commits/7756c4e4fe1cd703cff07d218da2fecb30f916c6\"},{\"sha\":\"bc9aa8a0c999232d2675cf5ba60e9c9d03f2a806\",\"author\":{\"email\":\"9ec2b9d5f2203d75c2b0f7885bd663d9d57a2d20@squareup.com\",\"name\":\"Jake Wharton\"},\"message\":\"Add a web socket call concept for connecting.\\\\n\\\\nSimilar to HTTP and Call, the WebSocketCall is a representation of a pending HTTP request and subsequent upgrade to speak web sockets. Upon synchronous execution you are handed a WebSocket instance for synchronous writing and also pass in a WebSocketListener for async callbacks due to reading.\\\\n\\\\nThe API changes in this commits also generalize WebSocket such that it\\'s agnostic to being a client or server peer.\",\"distinct\":true,\"url\":\"https://api.github.com/repos/square/okhttp/commits/bc9aa8a0c999232d2675cf5ba60e9c9d03f2a806\"}]},\"public\":true,\"created_at\":\"2015-01-01T00:00:01Z\",\"org\":{\"id\":82592,\"login\":\"square\",\"gravatar_id\":\"\",\"url\":\"https://api.github.com/orgs/square\",\"avatar_url\":\"https://avatars.githubusercontent.com/u/82592?\"}}\\n',\n",
       " '{\"id\":\"2489368104\",\"type\":\"PushEvent\",\"actor\":{\"id\":9221683,\"login\":\"git4ruby\",\"gravatar_id\":\"\",\"url\":\"https://api.github.com/users/git4ruby\",\"avatar_url\":\"https://avatars.githubusercontent.com/u/9221683?\"},\"repo\":{\"id\":28520835,\"name\":\"git4ruby/movie_review1\",\"url\":\"https://api.github.com/repos/git4ruby/movie_review1\"},\"payload\":{\"push_id\":536740413,\"size\":1,\"distinct_size\":1,\"ref\":\"refs/heads/master\",\"head\":\"97a402b54bfd562b8cefd11f1361cd5af41b0535\",\"before\":\"bc6e2f2a7d2095f8881d44d737506c14c1e07561\",\"commits\":[{\"sha\":\"97a402b54bfd562b8cefd11f1361cd5af41b0535\",\"author\":{\"email\":\"0b727f1f5f209fb32b7d5f0f03dfd6734cdab338@gmail.com\",\"name\":\"Mohit\"},\"message\":\"init\",\"distinct\":true,\"url\":\"https://api.github.com/repos/git4ruby/movie_review1/commits/97a402b54bfd562b8cefd11f1361cd5af41b0535\"}]},\"public\":true,\"created_at\":\"2015-01-01T00:00:03Z\"}\\n')"
      ]
     },
     "execution_count": 4,
     "metadata": {},
     "output_type": "execute_result"
    }
   ],
   "source": [
    "bag_data_2015.take(5)"
   ]
  },
  {
   "cell_type": "markdown",
   "id": "99d1c9fb-5cbb-4ff2-a74f-1e710f76ce2b",
   "metadata": {},
   "source": [
    "### Mejorar la visualización de cada JSON en vez de mostrarlo como una línea "
   ]
  },
  {
   "cell_type": "code",
   "execution_count": 5,
   "id": "81f9990b-5642-44a7-87ed-61ecf0322aa2",
   "metadata": {},
   "outputs": [],
   "source": [
    "import json\n",
    "bag_data_2014_json = bag_data_2014.map(json.loads)\n",
    "bag_data_2015_json = bag_data_2015.map(json.loads)"
   ]
  },
  {
   "cell_type": "markdown",
   "id": "5fb853a4-2e7a-45dc-b9d5-41e6d0eb21d7",
   "metadata": {},
   "source": [
    "### Primera línea de 2014"
   ]
  },
  {
   "cell_type": "code",
   "execution_count": 6,
   "id": "db2d436f-cb5b-4a18-b0ee-91e3a8674324",
   "metadata": {},
   "outputs": [
    {
     "data": {
      "text/plain": [
       "({'created_at': '2014-01-01T00:02:02-08:00',\n",
       "  'payload': {'shas': [['84d3daa33301d74a10cce1fc340e306b19108208',\n",
       "     'a4c90bd95206b987e4df905ee9f57ba9e064c73a@gmail.com',\n",
       "     'Clicking on link opens it in new tab now',\n",
       "     'Shrayas',\n",
       "     True],\n",
       "    ['403f4884d3e1ae2651345304d989275c69eed65e',\n",
       "     '7b6523a745c0da3ed6e33c034f58cffde1f9de21@gmail.com',\n",
       "     'Merge pull request #28 from shrayas/open-link-in-new-tab\\n\\nClicking on link opens it in new tab now',\n",
       "     'Raghotham S',\n",
       "     True]],\n",
       "   'size': 2,\n",
       "   'ref': 'refs/heads/master',\n",
       "   'head': '403f4884d3e1ae2651345304d989275c69eed65e'},\n",
       "  'public': True,\n",
       "  'type': 'PushEvent',\n",
       "  'url': 'https://github.com/raghothams/sharURL/compare/dea5599b6c...403f4884d3',\n",
       "  'actor': 'raghothams',\n",
       "  'actor_attributes': {'login': 'raghothams',\n",
       "   'type': 'User',\n",
       "   'gravatar_id': '4a1a459a7121d36bbd0ad15b59735b50',\n",
       "   'name': 'Raghotham S',\n",
       "   'company': 'SAP Labs Pvt. Ltd.',\n",
       "   'location': 'Bangalore',\n",
       "   'email': '7b6523a745c0da3ed6e33c034f58cffde1f9de21@gmail.com'},\n",
       "  'repository': {'id': 11090251,\n",
       "   'name': 'sharURL',\n",
       "   'url': 'https://github.com/raghothams/sharURL',\n",
       "   'description': 'Web app for sharing URL with group of people',\n",
       "   'watchers': 1,\n",
       "   'stargazers': 1,\n",
       "   'forks': 1,\n",
       "   'fork': False,\n",
       "   'size': 1530,\n",
       "   'owner': 'raghothams',\n",
       "   'private': False,\n",
       "   'open_issues': 5,\n",
       "   'has_issues': True,\n",
       "   'has_downloads': True,\n",
       "   'has_wiki': True,\n",
       "   'language': 'JavaScript',\n",
       "   'created_at': '2013-07-01T02:24:30-07:00',\n",
       "   'pushed_at': '2014-01-01T00:02:02-08:00',\n",
       "   'master_branch': 'master'}},)"
      ]
     },
     "execution_count": 6,
     "metadata": {},
     "output_type": "execute_result"
    }
   ],
   "source": [
    "bag_data_2014_json.take(1)"
   ]
  },
  {
   "cell_type": "markdown",
   "id": "20cfe551-1a2c-4cf5-b434-3be2d8058746",
   "metadata": {},
   "source": [
    "### Primera línea de 2015"
   ]
  },
  {
   "cell_type": "code",
   "execution_count": 7,
   "id": "871f7a96-1ae8-40fd-b7dd-042eca25757a",
   "metadata": {},
   "outputs": [
    {
     "data": {
      "text/plain": [
       "({'id': '2489368070',\n",
       "  'type': 'PushEvent',\n",
       "  'actor': {'id': 9152315,\n",
       "   'login': 'davidjhulse',\n",
       "   'gravatar_id': '',\n",
       "   'url': 'https://api.github.com/users/davidjhulse',\n",
       "   'avatar_url': 'https://avatars.githubusercontent.com/u/9152315?'},\n",
       "  'repo': {'id': 28635890,\n",
       "   'name': 'davidjhulse/davesbingrewardsbot',\n",
       "   'url': 'https://api.github.com/repos/davidjhulse/davesbingrewardsbot'},\n",
       "  'payload': {'push_id': 536740396,\n",
       "   'size': 1,\n",
       "   'distinct_size': 1,\n",
       "   'ref': 'refs/heads/master',\n",
       "   'head': 'a9b22a6d80c1e0bb49c1cf75a3c075b642c28f81',\n",
       "   'before': '86ffa724b4d70fce46e760f8cc080f5ec3d7d85f',\n",
       "   'commits': [{'sha': 'a9b22a6d80c1e0bb49c1cf75a3c075b642c28f81',\n",
       "     'author': {'email': 'da8d7d1118ca5befd4d0d3e4f449c76ba6f1ee7e@live.com',\n",
       "      'name': 'davidjhulse'},\n",
       "     'message': 'Altered BingBot.jar\\n\\nFixed issue with multiple account support',\n",
       "     'distinct': True,\n",
       "     'url': 'https://api.github.com/repos/davidjhulse/davesbingrewardsbot/commits/a9b22a6d80c1e0bb49c1cf75a3c075b642c28f81'}]},\n",
       "  'public': True,\n",
       "  'created_at': '2015-01-01T00:00:00Z'},)"
      ]
     },
     "execution_count": 7,
     "metadata": {},
     "output_type": "execute_result"
    }
   ],
   "source": [
    "bag_data_2015_json.take(1)"
   ]
  },
  {
   "cell_type": "markdown",
   "id": "d117dd90-0f07-4a87-bcd1-f2a9cdaf010e",
   "metadata": {},
   "source": [
    "### ¿Cuántos eventos Github hubieron en 2014?"
   ]
  },
  {
   "cell_type": "code",
   "execution_count": 9,
   "id": "8d00a0e8-8f6a-4bd1-934f-f0c51217a7ea",
   "metadata": {
    "tags": []
   },
   "outputs": [
    {
     "data": {
      "text/plain": [
       "9001106"
      ]
     },
     "execution_count": 9,
     "metadata": {},
     "output_type": "execute_result"
    }
   ],
   "source": [
    "bag_data_2014_json.count().compute()"
   ]
  },
  {
   "cell_type": "markdown",
   "id": "41d980d6-5eb7-4a73-b602-edf145bdb718",
   "metadata": {},
   "source": [
    "### ¿Cuántos eventos Github hubieron en 2015?"
   ]
  },
  {
   "cell_type": "code",
   "execution_count": 10,
   "id": "314098c7-e53b-43b1-933e-098a09580e1c",
   "metadata": {},
   "outputs": [
    {
     "data": {
      "text/plain": [
       "28506909"
      ]
     },
     "execution_count": 10,
     "metadata": {},
     "output_type": "execute_result"
    }
   ],
   "source": [
    "bag_data_2015_json.count().compute()"
   ]
  },
  {
   "cell_type": "markdown",
   "id": "9e37ee20-76b6-4716-a16b-11ef70c822e9",
   "metadata": {},
   "source": [
    "## 2. Profundizar en funciones como \"pluck\" y \"filter\"."
   ]
  },
  {
   "cell_type": "markdown",
   "id": "2899734d-c363-4253-9ab2-7cad6e6fa770",
   "metadata": {
    "tags": []
   },
   "source": [
    "### ¿Cuántos eventos del tipo 'PushEvent' hubieron en 2014?"
   ]
  },
  {
   "cell_type": "code",
   "execution_count": 11,
   "id": "c4939010-48f5-48b9-ae75-1b8d6830ddf0",
   "metadata": {
    "tags": []
   },
   "outputs": [
    {
     "data": {
      "text/plain": [
       "4496746"
      ]
     },
     "execution_count": 11,
     "metadata": {},
     "output_type": "execute_result"
    }
   ],
   "source": [
    "bag_data_2014_json.filter(lambda record: record['type'] == 'PushEvent').count().compute()"
   ]
  },
  {
   "cell_type": "markdown",
   "id": "5adea269-cd41-49f3-b4a4-9dc04ec479a0",
   "metadata": {
    "tags": []
   },
   "source": [
    "### ¿Cuántos eventos del tipo 'PushEvent' hubieron en 2015?"
   ]
  },
  {
   "cell_type": "code",
   "execution_count": 12,
   "id": "55aaafe2-94ac-4623-a288-d78620f90bd6",
   "metadata": {
    "tags": []
   },
   "outputs": [
    {
     "data": {
      "text/plain": [
       "14271557"
      ]
     },
     "execution_count": 12,
     "metadata": {},
     "output_type": "execute_result"
    }
   ],
   "source": [
    "bag_data_2015_json.filter(lambda record: record['type'] == 'PushEvent').count().compute()"
   ]
  },
  {
   "cell_type": "markdown",
   "id": "f2d3692a-53f0-417f-a1e9-687faf99dece",
   "metadata": {},
   "source": [
    "### ¿Cuántos eventos Github corresponden al usuario 'raghothams' en 2014?"
   ]
  },
  {
   "cell_type": "code",
   "execution_count": 13,
   "id": "d6123954-41e1-47f0-9eed-fa406d391d5f",
   "metadata": {
    "tags": []
   },
   "outputs": [
    {
     "data": {
      "text/plain": [
       "44"
      ]
     },
     "execution_count": 13,
     "metadata": {},
     "output_type": "execute_result"
    }
   ],
   "source": [
    "bag_data_2014_json.filter(lambda record: record['actor'] == 'raghothams').count().compute()"
   ]
  },
  {
   "cell_type": "markdown",
   "id": "29aaba90-714c-4ad9-8df4-629d81502b8c",
   "metadata": {},
   "source": [
    "### ¿Cuántos eventos Github corresponden al usuario 'davidjhulse' en 2015?"
   ]
  },
  {
   "cell_type": "code",
   "execution_count": 14,
   "id": "56fb5ad7-325e-4436-9909-8b2b3e887e8a",
   "metadata": {},
   "outputs": [
    {
     "data": {
      "text/plain": [
       "2"
      ]
     },
     "execution_count": 14,
     "metadata": {},
     "output_type": "execute_result"
    }
   ],
   "source": [
    "bag_data_2015_json.filter(lambda record: record['actor']['login'] == 'davidjhulse').count().compute()"
   ]
  },
  {
   "cell_type": "markdown",
   "id": "56a14dd4-0f47-4877-ad60-11996ffafb6e",
   "metadata": {},
   "source": [
    "### ¿Qué repositorios usó el usuario 'terkel' en 2014?"
   ]
  },
  {
   "cell_type": "code",
   "execution_count": 15,
   "id": "5e7fbbf1-57e4-44c7-99c0-fba355c6f9eb",
   "metadata": {
    "tags": []
   },
   "outputs": [
    {
     "data": {
      "text/plain": [
       "['terkel.jp-stylesheets',\n",
       " 'a-font-garde',\n",
       " 'gh-test',\n",
       " 'book-of-modern-frontend-tooling']"
      ]
     },
     "execution_count": 15,
     "metadata": {},
     "output_type": "execute_result"
    }
   ],
   "source": [
    "bag_data_2014_json.filter(lambda record: record['actor'] == 'terkel').pluck('repository').pluck('name').distinct().compute()"
   ]
  },
  {
   "cell_type": "markdown",
   "id": "e41ae5c7-23d1-4ae6-ac6f-f19e03260062",
   "metadata": {},
   "source": [
    "### ¿Qué repositorios usó el usuario 'jmoon018' en 2015?"
   ]
  },
  {
   "cell_type": "code",
   "execution_count": 16,
   "id": "4769c2d2-4b94-4af6-b1bc-414f44f6703b",
   "metadata": {},
   "outputs": [
    {
     "data": {
      "text/plain": [
       "['jmoon018/rshell-unit-tester',\n",
       " 'jmoon018/Pac-Vim',\n",
       " 'jmoon018/PacVim',\n",
       " 'jmoon018/jmoon018.github.io',\n",
       " 'Keenan144/flash_cards',\n",
       " 'wolfram74/world_full_of_squirrels',\n",
       " 'jmoon018/mtd-f',\n",
       " 'jmoon018/Squirrel-Cards',\n",
       " 'jmoon018/TreeTraversal',\n",
       " 'sf-squirrels-2015/ph2-pA-week-1-passion-project',\n",
       " 'jmoon018/ph2-pA-week-1-passion-project',\n",
       " 'Keenan144/Survey_Gorilla',\n",
       " 'adellhk/ps_overflow',\n",
       " 'jmoon018/decoupled_par_overflow']"
      ]
     },
     "execution_count": 16,
     "metadata": {},
     "output_type": "execute_result"
    }
   ],
   "source": [
    "bag_data_2015_json.filter(lambda record: record['actor']['login'] == 'jmoon018').pluck('repo').pluck('name').distinct().compute()"
   ]
  },
  {
   "cell_type": "markdown",
   "id": "737c1999-e614-48dd-8245-dd06b0a2ee22",
   "metadata": {},
   "source": [
    "## 3. ¿Quién fue el Commiter más popular de 2015?"
   ]
  },
  {
   "cell_type": "code",
   "execution_count": 52,
   "id": "f4a64fe4-10de-4a71-b46e-6f89aa37d990",
   "metadata": {},
   "outputs": [
    {
     "data": {
      "text/plain": [
       "[(562157, 'mirror-updates'),\n",
       " (105482, 'KenanSulayman'),\n",
       " (74510, 'greatfire'),\n",
       " (52133, 'greatfirebot'),\n",
       " (40960, 'k-okada'),\n",
       " (40028, 'diversify-exp-user'),\n",
       " (36350, 'asfgit'),\n",
       " (32723, 'hubot'),\n",
       " (32536, 'meatballhat'),\n",
       " (31064, 'chapuni')]"
      ]
     },
     "execution_count": 52,
     "metadata": {},
     "output_type": "execute_result"
    }
   ],
   "source": [
    "from operator import add\n",
    "def incr(tot, element):\n",
    "    return element['commits'] + tot\n",
    "\n",
    "\n",
    "commiter = bag_data_2015_json.filter(lambda record: record['type'] == 'PushEvent').map(lambda x: {\"id\": x[\"actor\"][\"id\"], \"name\": x[\"actor\"][\"login\"], \"commits\": len(x[\"payload\"][\"commits\"])}).foldby(key='name', \n",
    "                   binop=incr, \n",
    "                   initial=0, \n",
    "                   combine=add, \n",
    "                   combine_initial=0).map(lambda x: (x[1], x[0])).topk(10).compute()\n",
    "commiter"
   ]
  },
  {
   "cell_type": "markdown",
   "id": "a848b27f-bef8-468e-bb59-7c228deddc64",
   "metadata": {},
   "source": [
    "### El commiter mas popular en 2015 fue: 'KenanSulayman' con '105482' commits"
   ]
  }
 ],
 "metadata": {
  "kernelspec": {
   "display_name": "Python 3",
   "language": "python",
   "name": "python3"
  },
  "language_info": {
   "codemirror_mode": {
    "name": "ipython",
    "version": 3
   },
   "file_extension": ".py",
   "mimetype": "text/x-python",
   "name": "python",
   "nbconvert_exporter": "python",
   "pygments_lexer": "ipython3",
   "version": "3.8.8"
  }
 },
 "nbformat": 4,
 "nbformat_minor": 5
}
