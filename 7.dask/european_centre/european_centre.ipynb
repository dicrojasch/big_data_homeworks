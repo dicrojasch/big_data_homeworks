{
 "cells": [
  {
   "cell_type": "markdown",
   "id": "d04eadd9-7ad2-403f-b1c4-461b9f00aa95",
   "metadata": {},
   "source": [
    "<div style=\"text-align: right\"> \n",
    "Universidad Nacional de Colombia <br>\n",
    "Maestría en Ciencias - Estadística <br>\n",
    "Big Data - Métodos Intensivos de Computación Estadística -2023829 <br>\n",
    "Semestre 2021-1 \n",
    "</div> "
   ]
  },
  {
   "cell_type": "markdown",
   "id": "43c0e84b-30ce-49b1-b7ac-1fe939cf2f3f",
   "metadata": {},
   "source": [
    "<div style=\"text-align: right\"> \n",
    "Estudiante: Diego Clemente Rojas Chingate   <br>\n",
    "</div> \n"
   ]
  },
  {
   "cell_type": "markdown",
   "id": "e0c54bee-7af4-4c15-97da-f9ab1aa99f01",
   "metadata": {},
   "source": [
    "# Dataset European Centre for Medium Range Weather Forecastsm"
   ]
  },
  {
   "cell_type": "markdown",
   "id": "4a2c0842-80f8-4b62-b424-c5ef8c84f93d",
   "metadata": {},
   "source": [
    "Datos meterológicos globales de la organización ECMWF.[Fuente](https://github.com/dask/dask-tutorial/blob/main/Homework.ipynb)"
   ]
  },
  {
   "cell_type": "markdown",
   "id": "7e5c848e-ad28-417c-90fc-b9ad1a3d9b54",
   "metadata": {},
   "source": [
    "Realizar lo siguiente:\n",
    "\n",
    "1. [¿Cuál es la varianza de la temperatura en el tiempo?](#1.-¿Cuál-es-la-varianza-de-la-temperatura-en-el-tiempo?)\n",
    "\n",
    "2. [Graficar la temperatura de la Tierra como una función de latitud y luego de longitud](#3.-Graficar-la-temperatura-de-la-Tierra-como-una-función-de-latitud-y-luego-de-longitud)"
   ]
  },
  {
   "cell_type": "code",
   "execution_count": 1,
   "id": "8f9da9c9-2d73-47ee-b200-d260ffd7eb32",
   "metadata": {},
   "outputs": [],
   "source": [
    "import xarray as xr\n",
    "\n",
    "ds = xr.open_dataset('data/2014-12-21.nc3', engine='netcdf4').to_dask_dataframe()"
   ]
  },
  {
   "cell_type": "markdown",
   "id": "9a59460a-2caf-4859-b7d9-d882a462cbbd",
   "metadata": {},
   "source": [
    "### Información general"
   ]
  },
  {
   "cell_type": "code",
   "execution_count": 7,
   "id": "298b6471-3d27-44cb-a2fc-8b22894c33b1",
   "metadata": {},
   "outputs": [
    {
     "data": {
      "text/html": [
       "<div><strong>Dask DataFrame Structure:</strong></div>\n",
       "<div>\n",
       "<style scoped>\n",
       "    .dataframe tbody tr th:only-of-type {\n",
       "        vertical-align: middle;\n",
       "    }\n",
       "\n",
       "    .dataframe tbody tr th {\n",
       "        vertical-align: top;\n",
       "    }\n",
       "\n",
       "    .dataframe thead th {\n",
       "        text-align: right;\n",
       "    }\n",
       "</style>\n",
       "<table border=\"1\" class=\"dataframe\">\n",
       "  <thead>\n",
       "    <tr style=\"text-align: right;\">\n",
       "      <th></th>\n",
       "      <th>latitude</th>\n",
       "      <th>longitude</th>\n",
       "      <th>time</th>\n",
       "      <th>u10</th>\n",
       "      <th>v10</th>\n",
       "      <th>t2m</th>\n",
       "    </tr>\n",
       "    <tr>\n",
       "      <th>npartitions=1</th>\n",
       "      <th></th>\n",
       "      <th></th>\n",
       "      <th></th>\n",
       "      <th></th>\n",
       "      <th></th>\n",
       "      <th></th>\n",
       "    </tr>\n",
       "  </thead>\n",
       "  <tbody>\n",
       "    <tr>\n",
       "      <th>0</th>\n",
       "      <td>float32</td>\n",
       "      <td>float32</td>\n",
       "      <td>datetime64[ns]</td>\n",
       "      <td>float32</td>\n",
       "      <td>float32</td>\n",
       "      <td>float32</td>\n",
       "    </tr>\n",
       "    <tr>\n",
       "      <th>4152959</th>\n",
       "      <td>...</td>\n",
       "      <td>...</td>\n",
       "      <td>...</td>\n",
       "      <td>...</td>\n",
       "      <td>...</td>\n",
       "      <td>...</td>\n",
       "    </tr>\n",
       "  </tbody>\n",
       "</table>\n",
       "</div>\n",
       "<div>Dask Name: concat-indexed, 31 tasks</div>"
      ],
      "text/plain": [
       "Dask DataFrame Structure:\n",
       "              latitude longitude            time      u10      v10      t2m\n",
       "npartitions=1                                                              \n",
       "0              float32   float32  datetime64[ns]  float32  float32  float32\n",
       "4152959            ...       ...             ...      ...      ...      ...\n",
       "Dask Name: concat-indexed, 31 tasks"
      ]
     },
     "execution_count": 7,
     "metadata": {},
     "output_type": "execute_result"
    }
   ],
   "source": [
    "ds"
   ]
  },
  {
   "cell_type": "code",
   "execution_count": 3,
   "id": "312d0a9b-81c6-44ad-9ddb-ab8e02664d3d",
   "metadata": {},
   "outputs": [
    {
     "data": {
      "text/html": [
       "<div>\n",
       "<style scoped>\n",
       "    .dataframe tbody tr th:only-of-type {\n",
       "        vertical-align: middle;\n",
       "    }\n",
       "\n",
       "    .dataframe tbody tr th {\n",
       "        vertical-align: top;\n",
       "    }\n",
       "\n",
       "    .dataframe thead th {\n",
       "        text-align: right;\n",
       "    }\n",
       "</style>\n",
       "<table border=\"1\" class=\"dataframe\">\n",
       "  <thead>\n",
       "    <tr style=\"text-align: right;\">\n",
       "      <th></th>\n",
       "      <th>latitude</th>\n",
       "      <th>longitude</th>\n",
       "      <th>time</th>\n",
       "      <th>u10</th>\n",
       "      <th>v10</th>\n",
       "      <th>t2m</th>\n",
       "    </tr>\n",
       "  </thead>\n",
       "  <tbody>\n",
       "    <tr>\n",
       "      <th>0</th>\n",
       "      <td>90.0</td>\n",
       "      <td>0.00</td>\n",
       "      <td>2014-12-21 00:00:00</td>\n",
       "      <td>0.976245</td>\n",
       "      <td>6.688704</td>\n",
       "      <td>253.658356</td>\n",
       "    </tr>\n",
       "    <tr>\n",
       "      <th>1</th>\n",
       "      <td>90.0</td>\n",
       "      <td>0.00</td>\n",
       "      <td>2014-12-21 06:00:00</td>\n",
       "      <td>2.017778</td>\n",
       "      <td>6.926730</td>\n",
       "      <td>252.824692</td>\n",
       "    </tr>\n",
       "    <tr>\n",
       "      <th>2</th>\n",
       "      <td>90.0</td>\n",
       "      <td>0.00</td>\n",
       "      <td>2014-12-21 12:00:00</td>\n",
       "      <td>1.463805</td>\n",
       "      <td>6.638262</td>\n",
       "      <td>251.406418</td>\n",
       "    </tr>\n",
       "    <tr>\n",
       "      <th>3</th>\n",
       "      <td>90.0</td>\n",
       "      <td>0.00</td>\n",
       "      <td>2014-12-21 18:00:00</td>\n",
       "      <td>1.919780</td>\n",
       "      <td>6.683187</td>\n",
       "      <td>250.316132</td>\n",
       "    </tr>\n",
       "    <tr>\n",
       "      <th>4</th>\n",
       "      <td>90.0</td>\n",
       "      <td>0.25</td>\n",
       "      <td>2014-12-21 00:00:00</td>\n",
       "      <td>0.976245</td>\n",
       "      <td>6.688704</td>\n",
       "      <td>253.658356</td>\n",
       "    </tr>\n",
       "  </tbody>\n",
       "</table>\n",
       "</div>"
      ],
      "text/plain": [
       "   latitude  longitude                time       u10       v10         t2m\n",
       "0      90.0       0.00 2014-12-21 00:00:00  0.976245  6.688704  253.658356\n",
       "1      90.0       0.00 2014-12-21 06:00:00  2.017778  6.926730  252.824692\n",
       "2      90.0       0.00 2014-12-21 12:00:00  1.463805  6.638262  251.406418\n",
       "3      90.0       0.00 2014-12-21 18:00:00  1.919780  6.683187  250.316132\n",
       "4      90.0       0.25 2014-12-21 00:00:00  0.976245  6.688704  253.658356"
      ]
     },
     "execution_count": 3,
     "metadata": {},
     "output_type": "execute_result"
    }
   ],
   "source": [
    "ds.head()"
   ]
  },
  {
   "cell_type": "code",
   "execution_count": 8,
   "id": "510d77d9-aac6-4e07-8445-8cf792d0483b",
   "metadata": {},
   "outputs": [
    {
     "data": {
      "text/plain": [
       "<bound method DataFrame.info of Dask DataFrame Structure:\n",
       "              latitude longitude            time      u10      v10      t2m\n",
       "npartitions=1                                                              \n",
       "0              float32   float32  datetime64[ns]  float32  float32  float32\n",
       "4152959            ...       ...             ...      ...      ...      ...\n",
       "Dask Name: concat-indexed, 31 tasks>"
      ]
     },
     "execution_count": 8,
     "metadata": {},
     "output_type": "execute_result"
    }
   ],
   "source": [
    "ds.info"
   ]
  },
  {
   "cell_type": "code",
   "execution_count": 4,
   "id": "aa411e11-b513-41cf-9301-946236c3ac4d",
   "metadata": {},
   "outputs": [
    {
     "data": {
      "text/html": [
       "<div>\n",
       "<style scoped>\n",
       "    .dataframe tbody tr th:only-of-type {\n",
       "        vertical-align: middle;\n",
       "    }\n",
       "\n",
       "    .dataframe tbody tr th {\n",
       "        vertical-align: top;\n",
       "    }\n",
       "\n",
       "    .dataframe thead th {\n",
       "        text-align: right;\n",
       "    }\n",
       "</style>\n",
       "<table border=\"1\" class=\"dataframe\">\n",
       "  <thead>\n",
       "    <tr style=\"text-align: right;\">\n",
       "      <th></th>\n",
       "      <th>latitude</th>\n",
       "      <th>longitude</th>\n",
       "      <th>u10</th>\n",
       "      <th>v10</th>\n",
       "      <th>t2m</th>\n",
       "    </tr>\n",
       "  </thead>\n",
       "  <tbody>\n",
       "    <tr>\n",
       "      <th>count</th>\n",
       "      <td>4.152960e+06</td>\n",
       "      <td>4.152960e+06</td>\n",
       "      <td>4.152960e+06</td>\n",
       "      <td>4.152960e+06</td>\n",
       "      <td>4.152960e+06</td>\n",
       "    </tr>\n",
       "    <tr>\n",
       "      <th>mean</th>\n",
       "      <td>0.000000e+00</td>\n",
       "      <td>1.798750e+02</td>\n",
       "      <td>-7.582437e-02</td>\n",
       "      <td>-1.711846e-01</td>\n",
       "      <td>2.779218e+02</td>\n",
       "    </tr>\n",
       "    <tr>\n",
       "      <th>std</th>\n",
       "      <td>5.203363e+01</td>\n",
       "      <td>1.039231e+02</td>\n",
       "      <td>5.713509e+00</td>\n",
       "      <td>4.519132e+00</td>\n",
       "      <td>1.913574e+01</td>\n",
       "    </tr>\n",
       "    <tr>\n",
       "      <th>min</th>\n",
       "      <td>-9.000000e+01</td>\n",
       "      <td>0.000000e+00</td>\n",
       "      <td>-2.665273e+01</td>\n",
       "      <td>-2.692729e+01</td>\n",
       "      <td>2.158189e+02</td>\n",
       "    </tr>\n",
       "    <tr>\n",
       "      <th>25%</th>\n",
       "      <td>-4.500000e+01</td>\n",
       "      <td>8.993750e+01</td>\n",
       "      <td>-4.057291e+00</td>\n",
       "      <td>-3.079016e+00</td>\n",
       "      <td>2.635650e+02</td>\n",
       "    </tr>\n",
       "    <tr>\n",
       "      <th>50%</th>\n",
       "      <td>0.000000e+00</td>\n",
       "      <td>1.798750e+02</td>\n",
       "      <td>-3.220268e-01</td>\n",
       "      <td>-2.518706e-01</td>\n",
       "      <td>2.801941e+02</td>\n",
       "    </tr>\n",
       "    <tr>\n",
       "      <th>75%</th>\n",
       "      <td>4.500000e+01</td>\n",
       "      <td>2.698125e+02</td>\n",
       "      <td>3.445634e+00</td>\n",
       "      <td>2.892117e+00</td>\n",
       "      <td>2.955901e+02</td>\n",
       "    </tr>\n",
       "    <tr>\n",
       "      <th>max</th>\n",
       "      <td>9.000000e+01</td>\n",
       "      <td>3.597500e+02</td>\n",
       "      <td>2.642253e+01</td>\n",
       "      <td>2.472348e+01</td>\n",
       "      <td>3.153306e+02</td>\n",
       "    </tr>\n",
       "  </tbody>\n",
       "</table>\n",
       "</div>"
      ],
      "text/plain": [
       "           latitude     longitude           u10           v10           t2m\n",
       "count  4.152960e+06  4.152960e+06  4.152960e+06  4.152960e+06  4.152960e+06\n",
       "mean   0.000000e+00  1.798750e+02 -7.582437e-02 -1.711846e-01  2.779218e+02\n",
       "std    5.203363e+01  1.039231e+02  5.713509e+00  4.519132e+00  1.913574e+01\n",
       "min   -9.000000e+01  0.000000e+00 -2.665273e+01 -2.692729e+01  2.158189e+02\n",
       "25%   -4.500000e+01  8.993750e+01 -4.057291e+00 -3.079016e+00  2.635650e+02\n",
       "50%    0.000000e+00  1.798750e+02 -3.220268e-01 -2.518706e-01  2.801941e+02\n",
       "75%    4.500000e+01  2.698125e+02  3.445634e+00  2.892117e+00  2.955901e+02\n",
       "max    9.000000e+01  3.597500e+02  2.642253e+01  2.472348e+01  3.153306e+02"
      ]
     },
     "execution_count": 4,
     "metadata": {},
     "output_type": "execute_result"
    }
   ],
   "source": [
    "ds.describe().compute()"
   ]
  },
  {
   "cell_type": "markdown",
   "id": "f7a24796-6884-4d8e-9149-7c151a38518c",
   "metadata": {},
   "source": [
    "# 1. ¿Cuál es la varianza de la temperatura en el tiempo?"
   ]
  },
  {
   "cell_type": "code",
   "execution_count": 5,
   "id": "5390a0ce-fef4-4540-b4af-f50cfd75f4a7",
   "metadata": {},
   "outputs": [
    {
     "name": "stdout",
     "output_type": "stream",
     "text": [
      "La media de la temperatura es '277.92183695484664 K' y la varianza es de '366.17673' K^2\n"
     ]
    }
   ],
   "source": [
    "print(\"La media de la temperatura es '\" + str(ds[\"t2m\"].mean().compute()) + \" K' y la varianza es de '\" + str(ds[\"t2m\"].var().compute()) + \"' K^2\")"
   ]
  },
  {
   "cell_type": "markdown",
   "id": "802253fb-4d7d-41b4-b644-86354952661a",
   "metadata": {},
   "source": [
    "# 2. Gráficar la temperatura de la Tierra como una función de latitud y luego de longitud"
   ]
  },
  {
   "cell_type": "markdown",
   "id": "34f85501-75c9-40d8-a57e-15e64217619a",
   "metadata": {},
   "source": [
    "## Gráfica en función de la latitud"
   ]
  },
  {
   "cell_type": "code",
   "execution_count": 6,
   "id": "b16078a8-ded6-4c22-9c95-9a7b17b99d03",
   "metadata": {},
   "outputs": [
    {
     "data": {
      "image/png": "[encoded data removed]",
      "text/plain": [
       "<Figure size 1440x720 with 1 Axes>"
      ]
     },
     "metadata": {
      "needs_background": "light"
     },
     "output_type": "display_data"
    }
   ],
   "source": [
    "import matplotlib.pyplot as plt\n",
    "plt.figure(figsize=(20,10))\n",
    "plt.plot(list(ds[\"latitude\"].compute()), list(ds[\"t2m\"].compute()))\n",
    "plt.xlabel('Latitud en grados al norte')\n",
    "plt.ylabel('Temperatura (t2m) en Kelvin')\n",
    "plt.show()"
   ]
  },
  {
   "cell_type": "markdown",
   "id": "b9eedb54-c6ea-4f62-aab7-51bf476eb592",
   "metadata": {},
   "source": [
    "## Gráfica en función de la longitud"
   ]
  },
  {
   "cell_type": "code",
   "execution_count": 8,
   "id": "581df19a-6482-463f-a1ec-c9aa4c9442e6",
   "metadata": {},
   "outputs": [
    {
     "data": {
      "image/png": "[encoded data removed]",
      "text/plain": [
       "<Figure size 1440x720 with 1 Axes>"
      ]
     },
     "metadata": {
      "needs_background": "light"
     },
     "output_type": "display_data"
    }
   ],
   "source": [
    "import matplotlib.pyplot as plt\n",
    "import matplotlib as mpl\n",
    "mpl.rcParams['agg.path.chunksize'] = 10000\n",
    "\n",
    "plt.figure(figsize=(20,10))\n",
    "plt.plot(list(ds[\"longitude\"].compute()), list(ds[\"t2m\"].compute()))\n",
    "plt.xlabel('Longitud en grados al este')\n",
    "plt.ylabel('Temperatura (t2m) en Kelvin')\n",
    "plt.show()"
   ]
  }
 ],
 "metadata": {
  "kernelspec": {
   "display_name": "Python 3",
   "language": "python",
   "name": "python3"
  },
  "language_info": {
   "codemirror_mode": {
    "name": "ipython",
    "version": 3
   },
   "file_extension": ".py",
   "mimetype": "text/x-python",
   "name": "python",
   "nbconvert_exporter": "python",
   "pygments_lexer": "ipython3",
   "version": "3.8.8"
  }
 },
 "nbformat": 4,
 "nbformat_minor": 5
}
