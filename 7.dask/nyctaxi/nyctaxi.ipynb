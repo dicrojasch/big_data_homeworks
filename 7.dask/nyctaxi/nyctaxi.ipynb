{
 "cells": [
  {
   "cell_type": "markdown",
   "id": "941c13f1-ca4f-4b9b-b716-1d1f38b8793e",
   "metadata": {},
   "source": [
    "<div style=\"text-align: right\"> \n",
    "Universidad Nacional de Colombia <br>\n",
    "Maestría en Ciencias - Estadística <br>\n",
    "Big Data - Métodos Intensivos de Computación Estadística -2023829 <br>\n",
    "Semestre 2021-1 \n",
    "</div> "
   ]
  },
  {
   "cell_type": "markdown",
   "id": "907757cb-fafa-40a9-8371-3ea3bc5d39a4",
   "metadata": {},
   "source": [
    "<div style=\"text-align: right\"> \n",
    "Estudiante: Diego Clemente Rojas Chingate   <br>\n",
    "</div> \n"
   ]
  },
  {
   "cell_type": "markdown",
   "id": "c22f6b5a-c55e-4a78-9793-256d0f7865c7",
   "metadata": {},
   "source": [
    "# Dataset NYCTaxi"
   ]
  },
  {
   "cell_type": "markdown",
   "id": "8c8d1c86-de26-4af9-ab90-46f208cd5396",
   "metadata": {},
   "source": [
    "Dataset CSV sobre viajes de taxi durante el 2013 de aproximadamente 20GB, lanzado por FOIA (Freedom of Information Act). [Fuente](https://github.com/dask/dask-tutorial/blob/main/Homework.ipynb)"
   ]
  },
  {
   "cell_type": "markdown",
   "id": "5f04e479-0272-4ad1-8d38-0d26fbddfd0f",
   "metadata": {},
   "source": [
    "Realizar lo siguiente:\n",
    "\n",
    "1. [Usar dask.dataframe y realizar consultas estilo Pandas.](#1.-Usar-dask.dataframe-y-realizar-consultas-estilo-Pandas.)\n",
    "\n",
    "2. [Almacenar en HDF5 con y sin categóricos, medir el tamaño del archivo y los tiempos de consulta.](#2.-Almacenar-en-HDF5-con-y-sin-categóricos,-medir-el-tamaño-del-archivo-y-los-tiempos-de-consulta.)\n",
    "\n",
    "3. [Establecer un índice por una de las columnas de fecha y almacenarlos en castra (también usando categóricos). Realizar un rango de consultas y medir su velocidad.](#3.-Establecer-un-índice-por-una-de-las-columnas-de-fecha-y-almacenarlos-en-castra-(también-usando-categóricos).-Realizar-un-rango-de-consultas-y-medir-su-velocidad)\n",
    "\n",
    "4. [¿Que tamaño y complejidad de consulta se puede realizar mientras todavía se mantiene una experiencia \"interactiva\"?](#4.-¿Que-tamaño-y-complejidad-de-consulta-se-puede-realizar-mientras-todavía-se-mantiene-una-experiencia-\"interactiva\"?)"
   ]
  },
  {
   "cell_type": "code",
   "execution_count": 1,
   "id": "352dab51-c934-4a7d-b77c-a75ce0d332a8",
   "metadata": {},
   "outputs": [],
   "source": [
    "import os\n",
    "# filename_data = os.path.join('./trip_data', 'trip_data_*.csv')\n",
    "# filename_fare = os.path.join('./trip_fare', 'trip_fare_*.csv')\n",
    "filename_data = os.path.join('./trip_data', 'trip_data_test.csv')\n",
    "filename_fare = os.path.join('./trip_fare', 'trip_fare_test.csv')"
   ]
  },
  {
   "cell_type": "code",
   "execution_count": 2,
   "id": "ddc40fbf-6a9e-4f3a-8a9c-1c2b4e4ec86f",
   "metadata": {},
   "outputs": [],
   "source": [
    "import dask.dataframe as dd\n",
    "\n",
    "df_data_csv = dd.read_csv(filename_data)\n",
    "df_fare_csv = dd.read_csv(filename_fare)\n"
   ]
  },
  {
   "cell_type": "markdown",
   "id": "de941f6b-6ba7-49c2-b1d9-46c2fe63674b",
   "metadata": {},
   "source": [
    "# 1. Usar dask.dataframe y realizar consultas estilo Pandas."
   ]
  },
  {
   "cell_type": "markdown",
   "id": "545fbaa5-ec30-4603-b2f7-54cd2121ec1f",
   "metadata": {},
   "source": [
    "### Primeros 10 registros de archivos \"trip_data\""
   ]
  },
  {
   "cell_type": "code",
   "execution_count": 4,
   "id": "5df7127a-5b83-4b10-91b6-363b01a69b3e",
   "metadata": {},
   "outputs": [
    {
     "data": {
      "text/html": [
       "<div>\n",
       "<style scoped>\n",
       "    .dataframe tbody tr th:only-of-type {\n",
       "        vertical-align: middle;\n",
       "    }\n",
       "\n",
       "    .dataframe tbody tr th {\n",
       "        vertical-align: top;\n",
       "    }\n",
       "\n",
       "    .dataframe thead th {\n",
       "        text-align: right;\n",
       "    }\n",
       "</style>\n",
       "<table border=\"1\" class=\"dataframe\">\n",
       "  <thead>\n",
       "    <tr style=\"text-align: right;\">\n",
       "      <th></th>\n",
       "      <th>medallion</th>\n",
       "      <th>hack_license</th>\n",
       "      <th>vendor_id</th>\n",
       "      <th>rate_code</th>\n",
       "      <th>store_and_fwd_flag</th>\n",
       "      <th>pickup_datetime</th>\n",
       "      <th>dropoff_datetime</th>\n",
       "      <th>passenger_count</th>\n",
       "      <th>trip_time_in_secs</th>\n",
       "      <th>trip_distance</th>\n",
       "      <th>pickup_longitude</th>\n",
       "      <th>pickup_latitude</th>\n",
       "      <th>dropoff_longitude</th>\n",
       "      <th>dropoff_latitude</th>\n",
       "    </tr>\n",
       "  </thead>\n",
       "  <tbody>\n",
       "    <tr>\n",
       "      <th>0</th>\n",
       "      <td>89D227B655E5C82AECF13C3F540D4CF4</td>\n",
       "      <td>BA96DE419E711691B9445D6A6307C170</td>\n",
       "      <td>CMT</td>\n",
       "      <td>1</td>\n",
       "      <td>N</td>\n",
       "      <td>2013-01-01 15:11:48</td>\n",
       "      <td>2013-01-01 15:18:10</td>\n",
       "      <td>4</td>\n",
       "      <td>382</td>\n",
       "      <td>1.0</td>\n",
       "      <td>-73.978165</td>\n",
       "      <td>40.757977</td>\n",
       "      <td>-73.989838</td>\n",
       "      <td>40.751171</td>\n",
       "    </tr>\n",
       "    <tr>\n",
       "      <th>1</th>\n",
       "      <td>0BD7C8F5BA12B88E0B67BED28BEA73D8</td>\n",
       "      <td>9FD8F69F0804BDB5549F40E9DA1BE472</td>\n",
       "      <td>CMT</td>\n",
       "      <td>1</td>\n",
       "      <td>N</td>\n",
       "      <td>2013-01-06 00:18:35</td>\n",
       "      <td>2013-01-06 00:22:54</td>\n",
       "      <td>1</td>\n",
       "      <td>259</td>\n",
       "      <td>1.5</td>\n",
       "      <td>-74.006683</td>\n",
       "      <td>40.731781</td>\n",
       "      <td>-73.994499</td>\n",
       "      <td>40.750660</td>\n",
       "    </tr>\n",
       "    <tr>\n",
       "      <th>2</th>\n",
       "      <td>0BD7C8F5BA12B88E0B67BED28BEA73D8</td>\n",
       "      <td>9FD8F69F0804BDB5549F40E9DA1BE472</td>\n",
       "      <td>CMT</td>\n",
       "      <td>1</td>\n",
       "      <td>N</td>\n",
       "      <td>2013-01-05 18:49:41</td>\n",
       "      <td>2013-01-05 18:54:23</td>\n",
       "      <td>1</td>\n",
       "      <td>282</td>\n",
       "      <td>1.1</td>\n",
       "      <td>-74.004707</td>\n",
       "      <td>40.737770</td>\n",
       "      <td>-74.009834</td>\n",
       "      <td>40.726002</td>\n",
       "    </tr>\n",
       "    <tr>\n",
       "      <th>3</th>\n",
       "      <td>DFD2202EE08F7A8DC9A57B02ACB81FE2</td>\n",
       "      <td>51EE87E3205C985EF8431D850C786310</td>\n",
       "      <td>CMT</td>\n",
       "      <td>1</td>\n",
       "      <td>N</td>\n",
       "      <td>2013-01-07 23:54:15</td>\n",
       "      <td>2013-01-07 23:58:20</td>\n",
       "      <td>2</td>\n",
       "      <td>244</td>\n",
       "      <td>0.7</td>\n",
       "      <td>-73.974602</td>\n",
       "      <td>40.759945</td>\n",
       "      <td>-73.984734</td>\n",
       "      <td>40.759388</td>\n",
       "    </tr>\n",
       "    <tr>\n",
       "      <th>4</th>\n",
       "      <td>DFD2202EE08F7A8DC9A57B02ACB81FE2</td>\n",
       "      <td>51EE87E3205C985EF8431D850C786310</td>\n",
       "      <td>CMT</td>\n",
       "      <td>1</td>\n",
       "      <td>N</td>\n",
       "      <td>2013-01-07 23:25:03</td>\n",
       "      <td>2013-01-07 23:34:24</td>\n",
       "      <td>1</td>\n",
       "      <td>560</td>\n",
       "      <td>2.1</td>\n",
       "      <td>-73.976250</td>\n",
       "      <td>40.748528</td>\n",
       "      <td>-74.002586</td>\n",
       "      <td>40.747868</td>\n",
       "    </tr>\n",
       "  </tbody>\n",
       "</table>\n",
       "</div>"
      ],
      "text/plain": [
       "                          medallion                      hack_license  \\\n",
       "0  89D227B655E5C82AECF13C3F540D4CF4  BA96DE419E711691B9445D6A6307C170   \n",
       "1  0BD7C8F5BA12B88E0B67BED28BEA73D8  9FD8F69F0804BDB5549F40E9DA1BE472   \n",
       "2  0BD7C8F5BA12B88E0B67BED28BEA73D8  9FD8F69F0804BDB5549F40E9DA1BE472   \n",
       "3  DFD2202EE08F7A8DC9A57B02ACB81FE2  51EE87E3205C985EF8431D850C786310   \n",
       "4  DFD2202EE08F7A8DC9A57B02ACB81FE2  51EE87E3205C985EF8431D850C786310   \n",
       "\n",
       "  vendor_id  rate_code store_and_fwd_flag      pickup_datetime  \\\n",
       "0       CMT          1                  N  2013-01-01 15:11:48   \n",
       "1       CMT          1                  N  2013-01-06 00:18:35   \n",
       "2       CMT          1                  N  2013-01-05 18:49:41   \n",
       "3       CMT          1                  N  2013-01-07 23:54:15   \n",
       "4       CMT          1                  N  2013-01-07 23:25:03   \n",
       "\n",
       "      dropoff_datetime  passenger_count  trip_time_in_secs  trip_distance  \\\n",
       "0  2013-01-01 15:18:10                4                382            1.0   \n",
       "1  2013-01-06 00:22:54                1                259            1.5   \n",
       "2  2013-01-05 18:54:23                1                282            1.1   \n",
       "3  2013-01-07 23:58:20                2                244            0.7   \n",
       "4  2013-01-07 23:34:24                1                560            2.1   \n",
       "\n",
       "   pickup_longitude  pickup_latitude  dropoff_longitude  dropoff_latitude  \n",
       "0        -73.978165        40.757977         -73.989838         40.751171  \n",
       "1        -74.006683        40.731781         -73.994499         40.750660  \n",
       "2        -74.004707        40.737770         -74.009834         40.726002  \n",
       "3        -73.974602        40.759945         -73.984734         40.759388  \n",
       "4        -73.976250        40.748528         -74.002586         40.747868  "
      ]
     },
     "execution_count": 4,
     "metadata": {},
     "output_type": "execute_result"
    }
   ],
   "source": [
    "df_data_csv.head()"
   ]
  },
  {
   "cell_type": "markdown",
   "id": "99d1c9fb-5cbb-4ff2-a74f-1e710f76ce2b",
   "metadata": {},
   "source": [
    "### Primeros 10 registros de archivos \"trip_fare\""
   ]
  },
  {
   "cell_type": "code",
   "execution_count": 5,
   "id": "81f9990b-5642-44a7-87ed-61ecf0322aa2",
   "metadata": {},
   "outputs": [
    {
     "data": {
      "text/html": [
       "<div>\n",
       "<style scoped>\n",
       "    .dataframe tbody tr th:only-of-type {\n",
       "        vertical-align: middle;\n",
       "    }\n",
       "\n",
       "    .dataframe tbody tr th {\n",
       "        vertical-align: top;\n",
       "    }\n",
       "\n",
       "    .dataframe thead th {\n",
       "        text-align: right;\n",
       "    }\n",
       "</style>\n",
       "<table border=\"1\" class=\"dataframe\">\n",
       "  <thead>\n",
       "    <tr style=\"text-align: right;\">\n",
       "      <th></th>\n",
       "      <th>medallion</th>\n",
       "      <th>hack_license</th>\n",
       "      <th>vendor_id</th>\n",
       "      <th>pickup_datetime</th>\n",
       "      <th>payment_type</th>\n",
       "      <th>fare_amount</th>\n",
       "      <th>surcharge</th>\n",
       "      <th>mta_tax</th>\n",
       "      <th>tip_amount</th>\n",
       "      <th>tolls_amount</th>\n",
       "      <th>total_amount</th>\n",
       "    </tr>\n",
       "  </thead>\n",
       "  <tbody>\n",
       "    <tr>\n",
       "      <th>0</th>\n",
       "      <td>89D227B655E5C82AECF13C3F540D4CF4</td>\n",
       "      <td>BA96DE419E711691B9445D6A6307C170</td>\n",
       "      <td>CMT</td>\n",
       "      <td>2013-01-01 15:11:48</td>\n",
       "      <td>CSH</td>\n",
       "      <td>6.5</td>\n",
       "      <td>0.0</td>\n",
       "      <td>0.5</td>\n",
       "      <td>0.0</td>\n",
       "      <td>0.0</td>\n",
       "      <td>7.0</td>\n",
       "    </tr>\n",
       "    <tr>\n",
       "      <th>1</th>\n",
       "      <td>0BD7C8F5BA12B88E0B67BED28BEA73D8</td>\n",
       "      <td>9FD8F69F0804BDB5549F40E9DA1BE472</td>\n",
       "      <td>CMT</td>\n",
       "      <td>2013-01-06 00:18:35</td>\n",
       "      <td>CSH</td>\n",
       "      <td>6.0</td>\n",
       "      <td>0.5</td>\n",
       "      <td>0.5</td>\n",
       "      <td>0.0</td>\n",
       "      <td>0.0</td>\n",
       "      <td>7.0</td>\n",
       "    </tr>\n",
       "    <tr>\n",
       "      <th>2</th>\n",
       "      <td>0BD7C8F5BA12B88E0B67BED28BEA73D8</td>\n",
       "      <td>9FD8F69F0804BDB5549F40E9DA1BE472</td>\n",
       "      <td>CMT</td>\n",
       "      <td>2013-01-05 18:49:41</td>\n",
       "      <td>CSH</td>\n",
       "      <td>5.5</td>\n",
       "      <td>1.0</td>\n",
       "      <td>0.5</td>\n",
       "      <td>0.0</td>\n",
       "      <td>0.0</td>\n",
       "      <td>7.0</td>\n",
       "    </tr>\n",
       "    <tr>\n",
       "      <th>3</th>\n",
       "      <td>DFD2202EE08F7A8DC9A57B02ACB81FE2</td>\n",
       "      <td>51EE87E3205C985EF8431D850C786310</td>\n",
       "      <td>CMT</td>\n",
       "      <td>2013-01-07 23:54:15</td>\n",
       "      <td>CSH</td>\n",
       "      <td>5.0</td>\n",
       "      <td>0.5</td>\n",
       "      <td>0.5</td>\n",
       "      <td>0.0</td>\n",
       "      <td>0.0</td>\n",
       "      <td>6.0</td>\n",
       "    </tr>\n",
       "    <tr>\n",
       "      <th>4</th>\n",
       "      <td>DFD2202EE08F7A8DC9A57B02ACB81FE2</td>\n",
       "      <td>51EE87E3205C985EF8431D850C786310</td>\n",
       "      <td>CMT</td>\n",
       "      <td>2013-01-07 23:25:03</td>\n",
       "      <td>CSH</td>\n",
       "      <td>9.5</td>\n",
       "      <td>0.5</td>\n",
       "      <td>0.5</td>\n",
       "      <td>0.0</td>\n",
       "      <td>0.0</td>\n",
       "      <td>10.5</td>\n",
       "    </tr>\n",
       "  </tbody>\n",
       "</table>\n",
       "</div>"
      ],
      "text/plain": [
       "                          medallion                      hack_license  \\\n",
       "0  89D227B655E5C82AECF13C3F540D4CF4  BA96DE419E711691B9445D6A6307C170   \n",
       "1  0BD7C8F5BA12B88E0B67BED28BEA73D8  9FD8F69F0804BDB5549F40E9DA1BE472   \n",
       "2  0BD7C8F5BA12B88E0B67BED28BEA73D8  9FD8F69F0804BDB5549F40E9DA1BE472   \n",
       "3  DFD2202EE08F7A8DC9A57B02ACB81FE2  51EE87E3205C985EF8431D850C786310   \n",
       "4  DFD2202EE08F7A8DC9A57B02ACB81FE2  51EE87E3205C985EF8431D850C786310   \n",
       "\n",
       "   vendor_id      pickup_datetime  payment_type   fare_amount   surcharge  \\\n",
       "0        CMT  2013-01-01 15:11:48           CSH           6.5         0.0   \n",
       "1        CMT  2013-01-06 00:18:35           CSH           6.0         0.5   \n",
       "2        CMT  2013-01-05 18:49:41           CSH           5.5         1.0   \n",
       "3        CMT  2013-01-07 23:54:15           CSH           5.0         0.5   \n",
       "4        CMT  2013-01-07 23:25:03           CSH           9.5         0.5   \n",
       "\n",
       "    mta_tax   tip_amount   tolls_amount   total_amount  \n",
       "0       0.5          0.0            0.0            7.0  \n",
       "1       0.5          0.0            0.0            7.0  \n",
       "2       0.5          0.0            0.0            7.0  \n",
       "3       0.5          0.0            0.0            6.0  \n",
       "4       0.5          0.0            0.0           10.5  "
      ]
     },
     "execution_count": 5,
     "metadata": {},
     "output_type": "execute_result"
    }
   ],
   "source": [
    "df_fare_csv.head()"
   ]
  },
  {
   "cell_type": "markdown",
   "id": "4cf7031d-5406-4b99-9aec-39e33b4162d7",
   "metadata": {},
   "source": [
    "### Información general del dataframe de \"trip_data\""
   ]
  },
  {
   "cell_type": "code",
   "execution_count": 6,
   "id": "314098c7-e53b-43b1-933e-098a09580e1c",
   "metadata": {},
   "outputs": [
    {
     "name": "stdout",
     "output_type": "stream",
     "text": [
      "<class 'dask.dataframe.core.DataFrame'>\n",
      "Columns: 14 entries, medallion to dropoff_latitude\n",
      "dtypes: object(6), float64(5), int64(3)None\n"
     ]
    }
   ],
   "source": [
    "print(df_data_csv.info())"
   ]
  },
  {
   "cell_type": "markdown",
   "id": "303d9a2f-9593-477c-8565-4d73ec6777a0",
   "metadata": {},
   "source": [
    "### Información general del dataframe de \"trip_fare\""
   ]
  },
  {
   "cell_type": "code",
   "execution_count": 7,
   "id": "6439dd87-c979-47c4-95ca-e0b5fcf3d543",
   "metadata": {},
   "outputs": [
    {
     "name": "stdout",
     "output_type": "stream",
     "text": [
      "<class 'dask.dataframe.core.DataFrame'>\n",
      "Columns: 11 entries, medallion to  total_amount\n",
      "dtypes: object(5), float64(6)None\n"
     ]
    }
   ],
   "source": [
    "print(df_fare_csv.info())"
   ]
  },
  {
   "cell_type": "markdown",
   "id": "c4f60d1e-3ee2-424e-910a-14045ccddd17",
   "metadata": {},
   "source": [
    "### Tamaños de los dataset"
   ]
  },
  {
   "cell_type": "code",
   "execution_count": 8,
   "id": "c412c2b6-094f-4899-a889-4703002d8426",
   "metadata": {},
   "outputs": [
    {
     "name": "stdout",
     "output_type": "stream",
     "text": [
      "Tamaño dataset 'data' = (999) - Tamaño dataset 'data' = (999)\n"
     ]
    }
   ],
   "source": [
    "print(\"Tamaño dataset 'data' = (\" + str(len(df_data_csv)) + \") - Tamaño dataset 'data' = (\" + str(len(df_fare_csv)) + \")\")"
   ]
  },
  {
   "cell_type": "markdown",
   "id": "1d2228ae-af7d-471a-8eb2-33c90ccb6c3f",
   "metadata": {},
   "source": [
    "### Información de los tipos de columnas del dataframe de \"trip_data\""
   ]
  },
  {
   "cell_type": "code",
   "execution_count": 9,
   "id": "917239fb-3dd7-497f-8746-2a3d3d7f7ee6",
   "metadata": {},
   "outputs": [
    {
     "name": "stdout",
     "output_type": "stream",
     "text": [
      "medallion              object\n",
      "hack_license           object\n",
      "vendor_id              object\n",
      "rate_code               int64\n",
      "store_and_fwd_flag     object\n",
      "pickup_datetime        object\n",
      "dropoff_datetime       object\n",
      "passenger_count         int64\n",
      "trip_time_in_secs       int64\n",
      "trip_distance         float64\n",
      "pickup_longitude      float64\n",
      "pickup_latitude       float64\n",
      "dropoff_longitude     float64\n",
      "dropoff_latitude      float64\n",
      "dtype: object\n"
     ]
    }
   ],
   "source": [
    "print(df_data_csv.dtypes)"
   ]
  },
  {
   "cell_type": "markdown",
   "id": "59da4e0f-162e-4c54-a43f-235bf4f2b507",
   "metadata": {},
   "source": [
    "### Información general del dataframe de \"trip_fare\""
   ]
  },
  {
   "cell_type": "code",
   "execution_count": 10,
   "id": "70a97988-c8d2-47ef-92a5-2f2afb9776ef",
   "metadata": {},
   "outputs": [
    {
     "name": "stdout",
     "output_type": "stream",
     "text": [
      "medallion            object\n",
      " hack_license        object\n",
      " vendor_id           object\n",
      " pickup_datetime     object\n",
      " payment_type        object\n",
      " fare_amount        float64\n",
      " surcharge          float64\n",
      " mta_tax            float64\n",
      " tip_amount         float64\n",
      " tolls_amount       float64\n",
      " total_amount       float64\n",
      "dtype: object\n"
     ]
    }
   ],
   "source": [
    "print(df_fare_csv.dtypes)"
   ]
  },
  {
   "cell_type": "markdown",
   "id": "dc6f750b-0ce0-442f-8400-14a7f6dfbe8b",
   "metadata": {},
   "source": [
    "### Estadísticas descriptivas del dataset \"trip_data\""
   ]
  },
  {
   "cell_type": "code",
   "execution_count": 12,
   "id": "46964152-ca0f-4926-a8b3-0ca5d6c3d88e",
   "metadata": {},
   "outputs": [
    {
     "name": "stdout",
     "output_type": "stream",
     "text": [
      "        rate_code  passenger_count  trip_time_in_secs  trip_distance  \\\n",
      "count  999.000000       999.000000         999.000000     999.000000   \n",
      "mean     1.046046         2.017017         643.824825       3.319049   \n",
      "std      0.346586         1.665009         454.775694       3.583829   \n",
      "min      1.000000         1.000000           0.000000       0.000000   \n",
      "25%      1.000000         1.000000         300.000000       1.135000   \n",
      "50%      1.000000         1.000000         540.000000       2.020000   \n",
      "75%      1.000000         2.000000         840.000000       3.975000   \n",
      "max      5.000000         6.000000        3780.000000      28.670000   \n",
      "\n",
      "       pickup_longitude  pickup_latitude  dropoff_longitude  dropoff_latitude  \n",
      "count        999.000000       999.000000         999.000000        999.000000  \n",
      "mean         -72.569197        39.974205         -72.562249         39.975491  \n",
      "std           10.109643         5.568862          10.108702          5.569085  \n",
      "min          -74.016403         0.000000         -74.182938          0.000000  \n",
      "25%          -73.992455        40.729956         -73.990387         40.733081  \n",
      "50%          -73.983078        40.750572         -73.977776         40.753883  \n",
      "75%          -73.966793        40.766497         -73.957184         40.770370  \n",
      "max            0.000000        40.889069           0.000000         40.889069  \n"
     ]
    }
   ],
   "source": [
    "print(df_data_csv.describe().compute())"
   ]
  },
  {
   "cell_type": "markdown",
   "id": "3536ff72-aa0b-490d-a871-a6a427593f1a",
   "metadata": {},
   "source": [
    "### Estadísticas descriptivas del dataset \"trip_fare\""
   ]
  },
  {
   "cell_type": "code",
   "execution_count": 13,
   "id": "20442006-3b4f-4256-8d93-912043788725",
   "metadata": {},
   "outputs": [
    {
     "name": "stdout",
     "output_type": "stream",
     "text": [
      "        fare_amount   surcharge     mta_tax   tip_amount   tolls_amount  \\\n",
      "count    999.000000  999.000000  999.000000   999.000000     999.000000   \n",
      "mean      12.740741    0.238238    0.498498     0.916296       0.243493   \n",
      "std       10.647092    0.271932    0.027372     1.894161       1.130541   \n",
      "min        2.500000    0.000000    0.000000     0.000000       0.000000   \n",
      "25%        6.500000    0.000000    0.500000     0.000000       0.000000   \n",
      "50%        9.000000    0.000000    0.500000     0.000000       0.000000   \n",
      "75%       15.000000    0.500000    0.500000     1.300000       0.000000   \n",
      "max      107.500000    1.000000    0.500000    21.600000      10.250000   \n",
      "\n",
      "        total_amount  \n",
      "count     999.000000  \n",
      "mean       14.637267  \n",
      "std        12.260814  \n",
      "min         3.000000  \n",
      "25%         7.500000  \n",
      "50%        10.500000  \n",
      "75%        16.900000  \n",
      "max       134.900000  \n"
     ]
    }
   ],
   "source": [
    "print(df_fare_csv.describe().compute())"
   ]
  },
  {
   "cell_type": "markdown",
   "id": "26a49cd7-d5de-41df-a92f-b268b001a7ee",
   "metadata": {},
   "source": [
    "### Correlación entre columnas del dataset \"trip_data\""
   ]
  },
  {
   "cell_type": "code",
   "execution_count": 16,
   "id": "f35dd28a-6860-46a1-903a-08cbb3564970",
   "metadata": {},
   "outputs": [
    {
     "name": "stdout",
     "output_type": "stream",
     "text": [
      "                   rate_code  passenger_count  trip_time_in_secs  \\\n",
      "rate_code           1.000000        -0.013514           0.151548   \n",
      "passenger_count    -0.013514         1.000000           0.044169   \n",
      "trip_time_in_secs   0.151548         0.044169           1.000000   \n",
      "trip_distance       0.257194         0.045944           0.848532   \n",
      "pickup_longitude    0.172270         0.007297          -0.034643   \n",
      "pickup_latitude    -0.171898        -0.007182           0.034032   \n",
      "dropoff_longitude   0.172416         0.007497          -0.033598   \n",
      "dropoff_latitude   -0.172070        -0.007470           0.033809   \n",
      "\n",
      "                   trip_distance  pickup_longitude  pickup_latitude  \\\n",
      "rate_code               0.257194          0.172270        -0.171898   \n",
      "passenger_count         0.045944          0.007297        -0.007182   \n",
      "trip_time_in_secs       0.848532         -0.034643         0.034032   \n",
      "trip_distance           1.000000         -0.012300         0.011982   \n",
      "pickup_longitude       -0.012300          1.000000        -0.999982   \n",
      "pickup_latitude         0.011982         -0.999982         1.000000   \n",
      "dropoff_longitude      -0.011363          0.999989        -0.999979   \n",
      "dropoff_latitude        0.012065         -0.999972         0.999981   \n",
      "\n",
      "                   dropoff_longitude  dropoff_latitude  \n",
      "rate_code                   0.172416         -0.172070  \n",
      "passenger_count             0.007497         -0.007470  \n",
      "trip_time_in_secs          -0.033598          0.033809  \n",
      "trip_distance              -0.011363          0.012065  \n",
      "pickup_longitude            0.999989         -0.999972  \n",
      "pickup_latitude            -0.999979          0.999981  \n",
      "dropoff_longitude           1.000000         -0.999969  \n",
      "dropoff_latitude           -0.999969          1.000000  \n"
     ]
    }
   ],
   "source": [
    "print(df_data_csv.corr().compute())"
   ]
  },
  {
   "cell_type": "markdown",
   "id": "ccc7f176-4c11-4662-8f99-6e4e486c25a2",
   "metadata": {},
   "source": [
    "### Correlación entre columnas del dataset \"trip_fare\""
   ]
  },
  {
   "cell_type": "code",
   "execution_count": 15,
   "id": "6e12dd69-2a1c-4d57-bfac-dd07a5924088",
   "metadata": {},
   "outputs": [
    {
     "name": "stdout",
     "output_type": "stream",
     "text": [
      "                fare_amount   surcharge   mta_tax   tip_amount   tolls_amount  \\\n",
      " fare_amount       1.000000    0.101299 -0.207627     0.435038       0.527863   \n",
      " surcharge         0.101299    1.000000  0.048106    -0.004141      -0.053783   \n",
      " mta_tax          -0.207627    0.048106  1.000000    -0.260911      -0.320064   \n",
      " tip_amount        0.435038   -0.004141 -0.260911     1.000000       0.324411   \n",
      " tolls_amount      0.527863   -0.053783 -0.320064     0.324411       1.000000   \n",
      " total_amount      0.986049    0.104654 -0.246820     0.561508       0.598806   \n",
      "\n",
      "                total_amount  \n",
      " fare_amount        0.986049  \n",
      " surcharge          0.104654  \n",
      " mta_tax           -0.246820  \n",
      " tip_amount         0.561508  \n",
      " tolls_amount       0.598806  \n",
      " total_amount       1.000000  \n"
     ]
    }
   ],
   "source": [
    "print(df_fare_csv.corr().compute())"
   ]
  },
  {
   "cell_type": "markdown",
   "id": "9b4c8bf6-eff4-41f3-8f41-128a1cb64682",
   "metadata": {},
   "source": [
    "### ¿Cúantos servicios de taxi por compañia?"
   ]
  },
  {
   "cell_type": "code",
   "execution_count": 37,
   "id": "6ac70f72-ba9c-46dd-befc-bc6cdd9cb168",
   "metadata": {},
   "outputs": [
    {
     "data": {
      "text/plain": [
       "vendor_id\n",
       "CMT    157\n",
       "VTS    842\n",
       "Name: vendor_id, dtype: int64"
      ]
     },
     "execution_count": 37,
     "metadata": {},
     "output_type": "execute_result"
    }
   ],
   "source": [
    "df_data_csv.groupby('vendor_id').vendor_id.count().compute()"
   ]
  },
  {
   "cell_type": "markdown",
   "id": "c23c1767-9e0b-47a4-9848-2a94f24cc382",
   "metadata": {},
   "source": [
    "### ¿Cúal fue el viaje con más duración?"
   ]
  },
  {
   "cell_type": "code",
   "execution_count": 74,
   "id": "c6354122-2db2-4c4e-8fe8-0e6e22cb2f0e",
   "metadata": {},
   "outputs": [
    {
     "data": {
      "text/html": [
       "<div>\n",
       "<style scoped>\n",
       "    .dataframe tbody tr th:only-of-type {\n",
       "        vertical-align: middle;\n",
       "    }\n",
       "\n",
       "    .dataframe tbody tr th {\n",
       "        vertical-align: top;\n",
       "    }\n",
       "\n",
       "    .dataframe thead th {\n",
       "        text-align: right;\n",
       "    }\n",
       "</style>\n",
       "<table border=\"1\" class=\"dataframe\">\n",
       "  <thead>\n",
       "    <tr style=\"text-align: right;\">\n",
       "      <th></th>\n",
       "      <th>medallion</th>\n",
       "      <th>hack_license</th>\n",
       "      <th>vendor_id</th>\n",
       "      <th>rate_code</th>\n",
       "      <th>store_and_fwd_flag</th>\n",
       "      <th>pickup_datetime</th>\n",
       "      <th>dropoff_datetime</th>\n",
       "      <th>passenger_count</th>\n",
       "      <th>trip_time_in_secs</th>\n",
       "      <th>trip_distance</th>\n",
       "      <th>pickup_longitude</th>\n",
       "      <th>pickup_latitude</th>\n",
       "      <th>dropoff_longitude</th>\n",
       "      <th>dropoff_latitude</th>\n",
       "    </tr>\n",
       "  </thead>\n",
       "  <tbody>\n",
       "    <tr>\n",
       "      <th>421</th>\n",
       "      <td>ED9B6E969C35E16314E6863A95D83B5F</td>\n",
       "      <td>1067C6EE7965AACBCA7395DC2F497AE6</td>\n",
       "      <td>VTS</td>\n",
       "      <td>4</td>\n",
       "      <td>NaN</td>\n",
       "      <td>2013-01-13 03:46:00</td>\n",
       "      <td>2013-01-13 04:49:00</td>\n",
       "      <td>5</td>\n",
       "      <td>3780</td>\n",
       "      <td>28.67</td>\n",
       "      <td>-73.984245</td>\n",
       "      <td>40.728863</td>\n",
       "      <td>-73.706665</td>\n",
       "      <td>40.838978</td>\n",
       "    </tr>\n",
       "  </tbody>\n",
       "</table>\n",
       "</div>"
      ],
      "text/plain": [
       "                            medallion                      hack_license  \\\n",
       "421  ED9B6E969C35E16314E6863A95D83B5F  1067C6EE7965AACBCA7395DC2F497AE6   \n",
       "\n",
       "    vendor_id  rate_code store_and_fwd_flag      pickup_datetime  \\\n",
       "421       VTS          4                NaN  2013-01-13 03:46:00   \n",
       "\n",
       "        dropoff_datetime  passenger_count  trip_time_in_secs  trip_distance  \\\n",
       "421  2013-01-13 04:49:00                5               3780          28.67   \n",
       "\n",
       "     pickup_longitude  pickup_latitude  dropoff_longitude  dropoff_latitude  \n",
       "421        -73.984245        40.728863         -73.706665         40.838978  "
      ]
     },
     "execution_count": 74,
     "metadata": {},
     "output_type": "execute_result"
    }
   ],
   "source": [
    "df_data_csv[df_data_csv[\"trip_time_in_secs\"] == df_data_csv[\"trip_time_in_secs\"].max()].compute()"
   ]
  },
  {
   "cell_type": "markdown",
   "id": "696971ee-81c8-44f4-b40f-57626c46d0b2",
   "metadata": {},
   "source": [
    "### ¿Cúal(es) fue el viaje con menos duración?"
   ]
  },
  {
   "cell_type": "code",
   "execution_count": 75,
   "id": "ed0a4b7e-f9bd-4535-9753-13df64e3df9e",
   "metadata": {},
   "outputs": [
    {
     "data": {
      "text/html": [
       "<div>\n",
       "<style scoped>\n",
       "    .dataframe tbody tr th:only-of-type {\n",
       "        vertical-align: middle;\n",
       "    }\n",
       "\n",
       "    .dataframe tbody tr th {\n",
       "        vertical-align: top;\n",
       "    }\n",
       "\n",
       "    .dataframe thead th {\n",
       "        text-align: right;\n",
       "    }\n",
       "</style>\n",
       "<table border=\"1\" class=\"dataframe\">\n",
       "  <thead>\n",
       "    <tr style=\"text-align: right;\">\n",
       "      <th></th>\n",
       "      <th>medallion</th>\n",
       "      <th>hack_license</th>\n",
       "      <th>vendor_id</th>\n",
       "      <th>rate_code</th>\n",
       "      <th>store_and_fwd_flag</th>\n",
       "      <th>pickup_datetime</th>\n",
       "      <th>dropoff_datetime</th>\n",
       "      <th>passenger_count</th>\n",
       "      <th>trip_time_in_secs</th>\n",
       "      <th>trip_distance</th>\n",
       "      <th>pickup_longitude</th>\n",
       "      <th>pickup_latitude</th>\n",
       "      <th>dropoff_longitude</th>\n",
       "      <th>dropoff_latitude</th>\n",
       "    </tr>\n",
       "  </thead>\n",
       "  <tbody>\n",
       "    <tr>\n",
       "      <th>324</th>\n",
       "      <td>D83BF451B46974F22850BA3DBBA7729E</td>\n",
       "      <td>70211D5E293D6F009DC28965639A2EC2</td>\n",
       "      <td>VTS</td>\n",
       "      <td>2</td>\n",
       "      <td>NaN</td>\n",
       "      <td>2013-01-13 11:14:00</td>\n",
       "      <td>2013-01-13 11:14:00</td>\n",
       "      <td>1</td>\n",
       "      <td>0</td>\n",
       "      <td>0.01</td>\n",
       "      <td>-73.991867</td>\n",
       "      <td>40.758301</td>\n",
       "      <td>-73.985252</td>\n",
       "      <td>40.755203</td>\n",
       "    </tr>\n",
       "    <tr>\n",
       "      <th>473</th>\n",
       "      <td>D57C7392455C38D9404660F7BC63D1B6</td>\n",
       "      <td>8B32D59D8277E765E95BC45565C120F3</td>\n",
       "      <td>VTS</td>\n",
       "      <td>5</td>\n",
       "      <td>NaN</td>\n",
       "      <td>2013-01-13 11:10:00</td>\n",
       "      <td>2013-01-13 11:10:00</td>\n",
       "      <td>1</td>\n",
       "      <td>0</td>\n",
       "      <td>0.00</td>\n",
       "      <td>0.000000</td>\n",
       "      <td>0.000000</td>\n",
       "      <td>0.000000</td>\n",
       "      <td>0.000000</td>\n",
       "    </tr>\n",
       "    <tr>\n",
       "      <th>859</th>\n",
       "      <td>19BF1BB516C4E992EA3FBAEDA73D6262</td>\n",
       "      <td>E4CAC9101BFE631554B57906364761D3</td>\n",
       "      <td>VTS</td>\n",
       "      <td>2</td>\n",
       "      <td>NaN</td>\n",
       "      <td>2013-01-13 10:33:00</td>\n",
       "      <td>2013-01-13 10:33:00</td>\n",
       "      <td>5</td>\n",
       "      <td>0</td>\n",
       "      <td>0.00</td>\n",
       "      <td>0.000000</td>\n",
       "      <td>0.000000</td>\n",
       "      <td>0.000000</td>\n",
       "      <td>0.000000</td>\n",
       "    </tr>\n",
       "    <tr>\n",
       "      <th>899</th>\n",
       "      <td>D57C7392455C38D9404660F7BC63D1B6</td>\n",
       "      <td>EC5837D805127379D72FF6C35279890B</td>\n",
       "      <td>VTS</td>\n",
       "      <td>1</td>\n",
       "      <td>NaN</td>\n",
       "      <td>2013-01-13 04:58:00</td>\n",
       "      <td>2013-01-13 04:58:00</td>\n",
       "      <td>1</td>\n",
       "      <td>0</td>\n",
       "      <td>0.05</td>\n",
       "      <td>0.000000</td>\n",
       "      <td>0.000000</td>\n",
       "      <td>0.000000</td>\n",
       "      <td>0.000000</td>\n",
       "    </tr>\n",
       "  </tbody>\n",
       "</table>\n",
       "</div>"
      ],
      "text/plain": [
       "                            medallion                      hack_license  \\\n",
       "324  D83BF451B46974F22850BA3DBBA7729E  70211D5E293D6F009DC28965639A2EC2   \n",
       "473  D57C7392455C38D9404660F7BC63D1B6  8B32D59D8277E765E95BC45565C120F3   \n",
       "859  19BF1BB516C4E992EA3FBAEDA73D6262  E4CAC9101BFE631554B57906364761D3   \n",
       "899  D57C7392455C38D9404660F7BC63D1B6  EC5837D805127379D72FF6C35279890B   \n",
       "\n",
       "    vendor_id  rate_code store_and_fwd_flag      pickup_datetime  \\\n",
       "324       VTS          2                NaN  2013-01-13 11:14:00   \n",
       "473       VTS          5                NaN  2013-01-13 11:10:00   \n",
       "859       VTS          2                NaN  2013-01-13 10:33:00   \n",
       "899       VTS          1                NaN  2013-01-13 04:58:00   \n",
       "\n",
       "        dropoff_datetime  passenger_count  trip_time_in_secs  trip_distance  \\\n",
       "324  2013-01-13 11:14:00                1                  0           0.01   \n",
       "473  2013-01-13 11:10:00                1                  0           0.00   \n",
       "859  2013-01-13 10:33:00                5                  0           0.00   \n",
       "899  2013-01-13 04:58:00                1                  0           0.05   \n",
       "\n",
       "     pickup_longitude  pickup_latitude  dropoff_longitude  dropoff_latitude  \n",
       "324        -73.991867        40.758301         -73.985252         40.755203  \n",
       "473          0.000000         0.000000           0.000000          0.000000  \n",
       "859          0.000000         0.000000           0.000000          0.000000  \n",
       "899          0.000000         0.000000           0.000000          0.000000  "
      ]
     },
     "execution_count": 75,
     "metadata": {},
     "output_type": "execute_result"
    }
   ],
   "source": [
    "df_data_csv[df_data_csv[\"trip_time_in_secs\"] == df_data_csv[\"trip_time_in_secs\"].min()].compute()"
   ]
  },
  {
   "cell_type": "markdown",
   "id": "be6c1d4b-8d4f-4cee-b2a7-ee955a3f1981",
   "metadata": {},
   "source": [
    "### ¿Cúal fue el viaje con mayor distancia?"
   ]
  },
  {
   "cell_type": "code",
   "execution_count": 76,
   "id": "5eb821a1-bd22-4166-99f6-b42b24428207",
   "metadata": {
    "tags": []
   },
   "outputs": [
    {
     "data": {
      "text/html": [
       "<div>\n",
       "<style scoped>\n",
       "    .dataframe tbody tr th:only-of-type {\n",
       "        vertical-align: middle;\n",
       "    }\n",
       "\n",
       "    .dataframe tbody tr th {\n",
       "        vertical-align: top;\n",
       "    }\n",
       "\n",
       "    .dataframe thead th {\n",
       "        text-align: right;\n",
       "    }\n",
       "</style>\n",
       "<table border=\"1\" class=\"dataframe\">\n",
       "  <thead>\n",
       "    <tr style=\"text-align: right;\">\n",
       "      <th></th>\n",
       "      <th>medallion</th>\n",
       "      <th>hack_license</th>\n",
       "      <th>vendor_id</th>\n",
       "      <th>rate_code</th>\n",
       "      <th>store_and_fwd_flag</th>\n",
       "      <th>pickup_datetime</th>\n",
       "      <th>dropoff_datetime</th>\n",
       "      <th>passenger_count</th>\n",
       "      <th>trip_time_in_secs</th>\n",
       "      <th>trip_distance</th>\n",
       "      <th>pickup_longitude</th>\n",
       "      <th>pickup_latitude</th>\n",
       "      <th>dropoff_longitude</th>\n",
       "      <th>dropoff_latitude</th>\n",
       "    </tr>\n",
       "  </thead>\n",
       "  <tbody>\n",
       "    <tr>\n",
       "      <th>421</th>\n",
       "      <td>ED9B6E969C35E16314E6863A95D83B5F</td>\n",
       "      <td>1067C6EE7965AACBCA7395DC2F497AE6</td>\n",
       "      <td>VTS</td>\n",
       "      <td>4</td>\n",
       "      <td>NaN</td>\n",
       "      <td>2013-01-13 03:46:00</td>\n",
       "      <td>2013-01-13 04:49:00</td>\n",
       "      <td>5</td>\n",
       "      <td>3780</td>\n",
       "      <td>28.67</td>\n",
       "      <td>-73.984245</td>\n",
       "      <td>40.728863</td>\n",
       "      <td>-73.706665</td>\n",
       "      <td>40.838978</td>\n",
       "    </tr>\n",
       "  </tbody>\n",
       "</table>\n",
       "</div>"
      ],
      "text/plain": [
       "                            medallion                      hack_license  \\\n",
       "421  ED9B6E969C35E16314E6863A95D83B5F  1067C6EE7965AACBCA7395DC2F497AE6   \n",
       "\n",
       "    vendor_id  rate_code store_and_fwd_flag      pickup_datetime  \\\n",
       "421       VTS          4                NaN  2013-01-13 03:46:00   \n",
       "\n",
       "        dropoff_datetime  passenger_count  trip_time_in_secs  trip_distance  \\\n",
       "421  2013-01-13 04:49:00                5               3780          28.67   \n",
       "\n",
       "     pickup_longitude  pickup_latitude  dropoff_longitude  dropoff_latitude  \n",
       "421        -73.984245        40.728863         -73.706665         40.838978  "
      ]
     },
     "execution_count": 76,
     "metadata": {},
     "output_type": "execute_result"
    }
   ],
   "source": [
    "df_data_csv[df_data_csv[\"trip_distance\"] == df_data_csv[\"trip_distance\"].max()].compute()"
   ]
  },
  {
   "cell_type": "markdown",
   "id": "573e756e-7bce-475e-bd70-71d7bf84b41a",
   "metadata": {},
   "source": [
    "### ¿Cúal fue el viaje con menor distancia?"
   ]
  },
  {
   "cell_type": "code",
   "execution_count": 77,
   "id": "6df0047b-9779-4731-86bc-b9cac070caf3",
   "metadata": {
    "tags": []
   },
   "outputs": [
    {
     "data": {
      "text/html": [
       "<div>\n",
       "<style scoped>\n",
       "    .dataframe tbody tr th:only-of-type {\n",
       "        vertical-align: middle;\n",
       "    }\n",
       "\n",
       "    .dataframe tbody tr th {\n",
       "        vertical-align: top;\n",
       "    }\n",
       "\n",
       "    .dataframe thead th {\n",
       "        text-align: right;\n",
       "    }\n",
       "</style>\n",
       "<table border=\"1\" class=\"dataframe\">\n",
       "  <thead>\n",
       "    <tr style=\"text-align: right;\">\n",
       "      <th></th>\n",
       "      <th>medallion</th>\n",
       "      <th>hack_license</th>\n",
       "      <th>vendor_id</th>\n",
       "      <th>rate_code</th>\n",
       "      <th>store_and_fwd_flag</th>\n",
       "      <th>pickup_datetime</th>\n",
       "      <th>dropoff_datetime</th>\n",
       "      <th>passenger_count</th>\n",
       "      <th>trip_time_in_secs</th>\n",
       "      <th>trip_distance</th>\n",
       "      <th>pickup_longitude</th>\n",
       "      <th>pickup_latitude</th>\n",
       "      <th>dropoff_longitude</th>\n",
       "      <th>dropoff_latitude</th>\n",
       "    </tr>\n",
       "  </thead>\n",
       "  <tbody>\n",
       "    <tr>\n",
       "      <th>88</th>\n",
       "      <td>20D9ECB2CA0767CF7A01564DF2844A3E</td>\n",
       "      <td>598CCE5B9C1918568DEE71F43CF26CD2</td>\n",
       "      <td>CMT</td>\n",
       "      <td>1</td>\n",
       "      <td>N</td>\n",
       "      <td>2013-01-08 07:51:16</td>\n",
       "      <td>2013-01-08 07:51:20</td>\n",
       "      <td>1</td>\n",
       "      <td>4</td>\n",
       "      <td>0.0</td>\n",
       "      <td>-73.945396</td>\n",
       "      <td>40.802090</td>\n",
       "      <td>-73.945412</td>\n",
       "      <td>40.802025</td>\n",
       "    </tr>\n",
       "    <tr>\n",
       "      <th>308</th>\n",
       "      <td>66764B77F96DF43315499D73AA6DD84E</td>\n",
       "      <td>FA094478696E177A9724AAE5C5CF977C</td>\n",
       "      <td>VTS</td>\n",
       "      <td>1</td>\n",
       "      <td>NaN</td>\n",
       "      <td>2013-01-13 11:11:00</td>\n",
       "      <td>2013-01-13 11:13:00</td>\n",
       "      <td>1</td>\n",
       "      <td>120</td>\n",
       "      <td>0.0</td>\n",
       "      <td>-74.004791</td>\n",
       "      <td>40.725842</td>\n",
       "      <td>-74.004868</td>\n",
       "      <td>40.725876</td>\n",
       "    </tr>\n",
       "    <tr>\n",
       "      <th>473</th>\n",
       "      <td>D57C7392455C38D9404660F7BC63D1B6</td>\n",
       "      <td>8B32D59D8277E765E95BC45565C120F3</td>\n",
       "      <td>VTS</td>\n",
       "      <td>5</td>\n",
       "      <td>NaN</td>\n",
       "      <td>2013-01-13 11:10:00</td>\n",
       "      <td>2013-01-13 11:10:00</td>\n",
       "      <td>1</td>\n",
       "      <td>0</td>\n",
       "      <td>0.0</td>\n",
       "      <td>0.000000</td>\n",
       "      <td>0.000000</td>\n",
       "      <td>0.000000</td>\n",
       "      <td>0.000000</td>\n",
       "    </tr>\n",
       "    <tr>\n",
       "      <th>496</th>\n",
       "      <td>2886A4D0E61E8FAD6604A02A50F1A318</td>\n",
       "      <td>E3199D5923AEBE5B40A822068CACC8D0</td>\n",
       "      <td>VTS</td>\n",
       "      <td>5</td>\n",
       "      <td>NaN</td>\n",
       "      <td>2013-01-13 04:51:00</td>\n",
       "      <td>2013-01-13 04:52:00</td>\n",
       "      <td>1</td>\n",
       "      <td>60</td>\n",
       "      <td>0.0</td>\n",
       "      <td>-73.861534</td>\n",
       "      <td>40.889069</td>\n",
       "      <td>-73.861534</td>\n",
       "      <td>40.889069</td>\n",
       "    </tr>\n",
       "    <tr>\n",
       "      <th>622</th>\n",
       "      <td>232840CC49C3846876B29C434104F356</td>\n",
       "      <td>C740F0FCA87B7F2C5E0B779D19BA3504</td>\n",
       "      <td>VTS</td>\n",
       "      <td>5</td>\n",
       "      <td>NaN</td>\n",
       "      <td>2013-01-13 04:38:00</td>\n",
       "      <td>2013-01-13 04:39:00</td>\n",
       "      <td>2</td>\n",
       "      <td>60</td>\n",
       "      <td>0.0</td>\n",
       "      <td>0.000000</td>\n",
       "      <td>0.000000</td>\n",
       "      <td>0.000000</td>\n",
       "      <td>0.000000</td>\n",
       "    </tr>\n",
       "    <tr>\n",
       "      <th>859</th>\n",
       "      <td>19BF1BB516C4E992EA3FBAEDA73D6262</td>\n",
       "      <td>E4CAC9101BFE631554B57906364761D3</td>\n",
       "      <td>VTS</td>\n",
       "      <td>2</td>\n",
       "      <td>NaN</td>\n",
       "      <td>2013-01-13 10:33:00</td>\n",
       "      <td>2013-01-13 10:33:00</td>\n",
       "      <td>5</td>\n",
       "      <td>0</td>\n",
       "      <td>0.0</td>\n",
       "      <td>0.000000</td>\n",
       "      <td>0.000000</td>\n",
       "      <td>0.000000</td>\n",
       "      <td>0.000000</td>\n",
       "    </tr>\n",
       "  </tbody>\n",
       "</table>\n",
       "</div>"
      ],
      "text/plain": [
       "                            medallion                      hack_license  \\\n",
       "88   20D9ECB2CA0767CF7A01564DF2844A3E  598CCE5B9C1918568DEE71F43CF26CD2   \n",
       "308  66764B77F96DF43315499D73AA6DD84E  FA094478696E177A9724AAE5C5CF977C   \n",
       "473  D57C7392455C38D9404660F7BC63D1B6  8B32D59D8277E765E95BC45565C120F3   \n",
       "496  2886A4D0E61E8FAD6604A02A50F1A318  E3199D5923AEBE5B40A822068CACC8D0   \n",
       "622  232840CC49C3846876B29C434104F356  C740F0FCA87B7F2C5E0B779D19BA3504   \n",
       "859  19BF1BB516C4E992EA3FBAEDA73D6262  E4CAC9101BFE631554B57906364761D3   \n",
       "\n",
       "    vendor_id  rate_code store_and_fwd_flag      pickup_datetime  \\\n",
       "88        CMT          1                  N  2013-01-08 07:51:16   \n",
       "308       VTS          1                NaN  2013-01-13 11:11:00   \n",
       "473       VTS          5                NaN  2013-01-13 11:10:00   \n",
       "496       VTS          5                NaN  2013-01-13 04:51:00   \n",
       "622       VTS          5                NaN  2013-01-13 04:38:00   \n",
       "859       VTS          2                NaN  2013-01-13 10:33:00   \n",
       "\n",
       "        dropoff_datetime  passenger_count  trip_time_in_secs  trip_distance  \\\n",
       "88   2013-01-08 07:51:20                1                  4            0.0   \n",
       "308  2013-01-13 11:13:00                1                120            0.0   \n",
       "473  2013-01-13 11:10:00                1                  0            0.0   \n",
       "496  2013-01-13 04:52:00                1                 60            0.0   \n",
       "622  2013-01-13 04:39:00                2                 60            0.0   \n",
       "859  2013-01-13 10:33:00                5                  0            0.0   \n",
       "\n",
       "     pickup_longitude  pickup_latitude  dropoff_longitude  dropoff_latitude  \n",
       "88         -73.945396        40.802090         -73.945412         40.802025  \n",
       "308        -74.004791        40.725842         -74.004868         40.725876  \n",
       "473          0.000000         0.000000           0.000000          0.000000  \n",
       "496        -73.861534        40.889069         -73.861534         40.889069  \n",
       "622          0.000000         0.000000           0.000000          0.000000  \n",
       "859          0.000000         0.000000           0.000000          0.000000  "
      ]
     },
     "execution_count": 77,
     "metadata": {},
     "output_type": "execute_result"
    }
   ],
   "source": [
    "df_data_csv[df_data_csv[\"trip_distance\"] == df_data_csv[\"trip_distance\"].min()].compute()"
   ]
  },
  {
   "cell_type": "markdown",
   "id": "2f494f41-eef4-46cb-a130-d19750dcaab3",
   "metadata": {},
   "source": [
    "### ¿Cúantos viajes por cantidad de pasajeros?"
   ]
  },
  {
   "cell_type": "code",
   "execution_count": 78,
   "id": "7ec2366f-87c3-4a86-8ec0-9e0619d6f3f0",
   "metadata": {},
   "outputs": [
    {
     "data": {
      "text/plain": [
       "passenger_count\n",
       "1    643\n",
       "2    125\n",
       "3     38\n",
       "4     24\n",
       "5    102\n",
       "6     67\n",
       "Name: passenger_count, dtype: int64"
      ]
     },
     "execution_count": 78,
     "metadata": {},
     "output_type": "execute_result"
    }
   ],
   "source": [
    "df_data_csv.groupby('passenger_count').passenger_count.count().compute()"
   ]
  },
  {
   "cell_type": "markdown",
   "id": "19c5e77d-9930-45cd-88a1-9d2623fb87af",
   "metadata": {},
   "source": [
    "### ¿Cúantos viajes por tipo de pago?"
   ]
  },
  {
   "cell_type": "code",
   "execution_count": 93,
   "id": "6a3e51f0-dc0a-4659-bf70-a73c45de7687",
   "metadata": {},
   "outputs": [
    {
     "data": {
      "text/plain": [
       " payment_type\n",
       "CRD    387\n",
       "CSH    609\n",
       "DIS      2\n",
       "NOC      1\n",
       "Name:  payment_type, dtype: int64"
      ]
     },
     "execution_count": 93,
     "metadata": {},
     "output_type": "execute_result"
    }
   ],
   "source": [
    "df_fare_csv.groupby(' payment_type')[\" payment_type\"].count().compute()"
   ]
  },
  {
   "cell_type": "markdown",
   "id": "194695f3-a8a1-43ca-84ca-387e92557925",
   "metadata": {},
   "source": [
    "### ¿Cúal fue el viaje más costoso?"
   ]
  },
  {
   "cell_type": "code",
   "execution_count": 99,
   "id": "2430d708-555e-40ee-afd0-1f4eeebfab96",
   "metadata": {},
   "outputs": [
    {
     "data": {
      "text/html": [
       "<div>\n",
       "<style scoped>\n",
       "    .dataframe tbody tr th:only-of-type {\n",
       "        vertical-align: middle;\n",
       "    }\n",
       "\n",
       "    .dataframe tbody tr th {\n",
       "        vertical-align: top;\n",
       "    }\n",
       "\n",
       "    .dataframe thead th {\n",
       "        text-align: right;\n",
       "    }\n",
       "</style>\n",
       "<table border=\"1\" class=\"dataframe\">\n",
       "  <thead>\n",
       "    <tr style=\"text-align: right;\">\n",
       "      <th></th>\n",
       "      <th>medallion</th>\n",
       "      <th>hack_license</th>\n",
       "      <th>vendor_id</th>\n",
       "      <th>pickup_datetime</th>\n",
       "      <th>payment_type</th>\n",
       "      <th>fare_amount</th>\n",
       "      <th>surcharge</th>\n",
       "      <th>mta_tax</th>\n",
       "      <th>tip_amount</th>\n",
       "      <th>tolls_amount</th>\n",
       "      <th>total_amount</th>\n",
       "    </tr>\n",
       "  </thead>\n",
       "  <tbody>\n",
       "    <tr>\n",
       "      <th>421</th>\n",
       "      <td>ED9B6E969C35E16314E6863A95D83B5F</td>\n",
       "      <td>1067C6EE7965AACBCA7395DC2F497AE6</td>\n",
       "      <td>VTS</td>\n",
       "      <td>2013-01-13 03:46:00</td>\n",
       "      <td>CRD</td>\n",
       "      <td>107.5</td>\n",
       "      <td>0.5</td>\n",
       "      <td>0.5</td>\n",
       "      <td>21.6</td>\n",
       "      <td>4.8</td>\n",
       "      <td>134.9</td>\n",
       "    </tr>\n",
       "  </tbody>\n",
       "</table>\n",
       "</div>"
      ],
      "text/plain": [
       "                            medallion                      hack_license  \\\n",
       "421  ED9B6E969C35E16314E6863A95D83B5F  1067C6EE7965AACBCA7395DC2F497AE6   \n",
       "\n",
       "     vendor_id      pickup_datetime  payment_type   fare_amount   surcharge  \\\n",
       "421        VTS  2013-01-13 03:46:00           CRD         107.5         0.5   \n",
       "\n",
       "      mta_tax   tip_amount   tolls_amount   total_amount  \n",
       "421       0.5         21.6            4.8          134.9  "
      ]
     },
     "execution_count": 99,
     "metadata": {},
     "output_type": "execute_result"
    }
   ],
   "source": [
    "df_fare_csv[df_fare_csv[\" total_amount\"] == df_fare_csv[\" total_amount\"].max()].compute()"
   ]
  },
  {
   "cell_type": "markdown",
   "id": "d60bf4a6-2efc-4dc7-8615-a52de81e2c24",
   "metadata": {},
   "source": [
    "### ¿Cúal fue el viaje menos costoso?"
   ]
  },
  {
   "cell_type": "code",
   "execution_count": 102,
   "id": "726b2a08-b276-4868-ad53-3919359e954e",
   "metadata": {},
   "outputs": [
    {
     "data": {
      "text/html": [
       "<div>\n",
       "<style scoped>\n",
       "    .dataframe tbody tr th:only-of-type {\n",
       "        vertical-align: middle;\n",
       "    }\n",
       "\n",
       "    .dataframe tbody tr th {\n",
       "        vertical-align: top;\n",
       "    }\n",
       "\n",
       "    .dataframe thead th {\n",
       "        text-align: right;\n",
       "    }\n",
       "</style>\n",
       "<table border=\"1\" class=\"dataframe\">\n",
       "  <thead>\n",
       "    <tr style=\"text-align: right;\">\n",
       "      <th></th>\n",
       "      <th>medallion</th>\n",
       "      <th>hack_license</th>\n",
       "      <th>vendor_id</th>\n",
       "      <th>pickup_datetime</th>\n",
       "      <th>payment_type</th>\n",
       "      <th>fare_amount</th>\n",
       "      <th>surcharge</th>\n",
       "      <th>mta_tax</th>\n",
       "      <th>tip_amount</th>\n",
       "      <th>tolls_amount</th>\n",
       "      <th>total_amount</th>\n",
       "    </tr>\n",
       "  </thead>\n",
       "  <tbody>\n",
       "    <tr>\n",
       "      <th>88</th>\n",
       "      <td>20D9ECB2CA0767CF7A01564DF2844A3E</td>\n",
       "      <td>598CCE5B9C1918568DEE71F43CF26CD2</td>\n",
       "      <td>CMT</td>\n",
       "      <td>2013-01-08 07:51:16</td>\n",
       "      <td>NOC</td>\n",
       "      <td>2.5</td>\n",
       "      <td>0.0</td>\n",
       "      <td>0.5</td>\n",
       "      <td>0.0</td>\n",
       "      <td>0.0</td>\n",
       "      <td>3.0</td>\n",
       "    </tr>\n",
       "  </tbody>\n",
       "</table>\n",
       "</div>"
      ],
      "text/plain": [
       "                           medallion                      hack_license  \\\n",
       "88  20D9ECB2CA0767CF7A01564DF2844A3E  598CCE5B9C1918568DEE71F43CF26CD2   \n",
       "\n",
       "    vendor_id      pickup_datetime  payment_type   fare_amount   surcharge  \\\n",
       "88        CMT  2013-01-08 07:51:16           NOC           2.5         0.0   \n",
       "\n",
       "     mta_tax   tip_amount   tolls_amount   total_amount  \n",
       "88       0.5          0.0            0.0            3.0  "
      ]
     },
     "execution_count": 102,
     "metadata": {},
     "output_type": "execute_result"
    }
   ],
   "source": [
    "df_fare_csv[df_fare_csv[\" total_amount\"] == df_fare_csv[\" total_amount\"].min()].compute()"
   ]
  },
  {
   "cell_type": "markdown",
   "id": "ee5b28b0-09a0-4d6a-a4a9-1f19fc6bd803",
   "metadata": {},
   "source": [
    "### ¿Cúanto dinero suma en ventas cada vendedor?"
   ]
  },
  {
   "cell_type": "code",
   "execution_count": 125,
   "id": "fa1fe6f6-dee8-4752-88d2-51b9505c3daf",
   "metadata": {},
   "outputs": [
    {
     "data": {
      "text/plain": [
       " vendor_id\n",
       "CMT     1910.40\n",
       "VTS    12712.23\n",
       "Name:  total_amount, dtype: float64"
      ]
     },
     "execution_count": 125,
     "metadata": {},
     "output_type": "execute_result"
    }
   ],
   "source": [
    "df_fare_csv.groupby(' vendor_id')[\" total_amount\"].sum().compute()"
   ]
  },
  {
   "cell_type": "markdown",
   "id": "42bd26c3-0797-41be-b16d-9f4d4f89af71",
   "metadata": {},
   "source": [
    "### ¿Cúal fue el viaje mas costoso por tipo de vendedor?"
   ]
  },
  {
   "cell_type": "code",
   "execution_count": 126,
   "id": "76b41795-fe49-4afd-bef7-1e27bd5fd447",
   "metadata": {},
   "outputs": [
    {
     "data": {
      "text/plain": [
       " vendor_id\n",
       "CMT     57.3\n",
       "VTS    134.9\n",
       "Name:  total_amount, dtype: float64"
      ]
     },
     "execution_count": 126,
     "metadata": {},
     "output_type": "execute_result"
    }
   ],
   "source": [
    "df_fare_csv.groupby(' vendor_id')[\" total_amount\"].max().compute()"
   ]
  },
  {
   "cell_type": "markdown",
   "id": "4fe0d78e-ea2e-4004-b0dd-956f3a81a99e",
   "metadata": {},
   "source": [
    "### ¿Cúanto dinero en propinas recolectó cada empresa?"
   ]
  },
  {
   "cell_type": "code",
   "execution_count": 127,
   "id": "f65182d0-ffb8-40f1-8d80-8c7f2396b226",
   "metadata": {},
   "outputs": [
    {
     "data": {
      "text/plain": [
       " vendor_id\n",
       "CMT      0.00\n",
       "VTS    915.38\n",
       "Name:  tip_amount, dtype: float64"
      ]
     },
     "execution_count": 127,
     "metadata": {},
     "output_type": "execute_result"
    }
   ],
   "source": [
    "df_fare_csv.groupby(' vendor_id')[\" tip_amount\"].sum().compute()"
   ]
  },
  {
   "cell_type": "markdown",
   "id": "80b58ae5-5a90-4e8c-b1f5-cdce24e1b26f",
   "metadata": {},
   "source": [
    "### ¿Cúanto dinero en impuestos recolectó cada empresa?"
   ]
  },
  {
   "cell_type": "code",
   "execution_count": 128,
   "id": "89a48a41-55af-430b-bb4f-b757690ad0b8",
   "metadata": {},
   "outputs": [
    {
     "data": {
      "text/plain": [
       " vendor_id\n",
       "CMT     78.5\n",
       "VTS    419.5\n",
       "Name:  mta_tax, dtype: float64"
      ]
     },
     "execution_count": 128,
     "metadata": {},
     "output_type": "execute_result"
    }
   ],
   "source": [
    "df_fare_csv.groupby(' vendor_id')[\" mta_tax\"].sum().compute()"
   ]
  },
  {
   "cell_type": "markdown",
   "id": "59b9a619-16a4-4223-805a-0f2513bd2037",
   "metadata": {},
   "source": [
    "### ¿Cúanto dinero de ventas suma por cada tipo de pago?"
   ]
  },
  {
   "cell_type": "code",
   "execution_count": 129,
   "id": "0c3de103-7988-454c-9896-4db7e61c29c2",
   "metadata": {},
   "outputs": [
    {
     "data": {
      "text/plain": [
       " payment_type\n",
       "CRD    6481.13\n",
       "CSH    8127.00\n",
       "DIS      11.50\n",
       "NOC       3.00\n",
       "Name:  total_amount, dtype: float64"
      ]
     },
     "execution_count": 129,
     "metadata": {},
     "output_type": "execute_result"
    }
   ],
   "source": [
    "df_fare_csv.groupby(' payment_type')[\" total_amount\"].sum().compute()"
   ]
  },
  {
   "cell_type": "markdown",
   "id": "41de09e5-c084-4962-9b56-16e5efdbbfbc",
   "metadata": {},
   "source": [
    "### ¿Cúal fue el viaje mas costoso por cantidad de pasajeros?"
   ]
  },
  {
   "cell_type": "code",
   "execution_count": 122,
   "id": "ee6cb385-3468-4a3e-8ecb-d7a58904b3ba",
   "metadata": {},
   "outputs": [
    {
     "data": {
      "text/plain": [
       "passenger_count\n",
       "1    11930.25\n",
       "2     2255.19\n",
       "3      857.60\n",
       "4      429.98\n",
       "5     1694.23\n",
       "6      985.15\n",
       "Name:  total_amount, dtype: float64"
      ]
     },
     "execution_count": 122,
     "metadata": {},
     "output_type": "execute_result"
    }
   ],
   "source": [
    "df_data_csv.set_index(\"medallion\").join(df_fare_csv.set_index(\"medallion\")).groupby('passenger_count')[\" total_amount\"].sum().compute()"
   ]
  },
  {
   "cell_type": "markdown",
   "id": "ced0a479-71f0-4a18-af29-b26076d8a033",
   "metadata": {},
   "source": [
    "### ¿Cúanto dinero suma según calificación del viaje?"
   ]
  },
  {
   "cell_type": "code",
   "execution_count": 131,
   "id": "8bc471ff-e079-470a-b3e5-559dc15501d9",
   "metadata": {},
   "outputs": [
    {
     "data": {
      "text/plain": [
       "rate_code\n",
       "1    16574.00\n",
       "2      885.50\n",
       "3      169.25\n",
       "4      284.40\n",
       "5      239.25\n",
       "Name:  total_amount, dtype: float64"
      ]
     },
     "execution_count": 131,
     "metadata": {},
     "output_type": "execute_result"
    }
   ],
   "source": [
    "df_data_csv.set_index(\"medallion\").join(df_fare_csv.set_index(\"medallion\")).groupby('rate_code')[\" total_amount\"].sum().compute()"
   ]
  },
  {
   "cell_type": "markdown",
   "id": "a007c551-67a0-4166-97fc-7be9179a7cdc",
   "metadata": {},
   "source": [
    "# 2. Almacenar en HDF5 con y sin categóricos, medir el tamaño del archivo y los tiempos de consulta."
   ]
  },
  {
   "cell_type": "markdown",
   "id": "b9a995af-c3e5-43c2-8f41-292cafd08f26",
   "metadata": {},
   "source": [
    "### Lectura de archivos CSV"
   ]
  },
  {
   "cell_type": "code",
   "execution_count": 1,
   "id": "0eba7f83-2f69-490e-9753-0d6f3372413a",
   "metadata": {},
   "outputs": [],
   "source": [
    "import os\n",
    "import dask.dataframe as dd\n",
    "from dask.distributed import Client\n",
    "\n",
    "client = Client(n_workers=4)\n",
    "filename_data = os.path.join('./trip_data', 'trip_data_10.csv')\n",
    "filename_fare = os.path.join('./trip_fare', 'trip_fare_10.csv')\n",
    "df_data_csv = dd.read_csv(filename_data)\n",
    "df_fare_csv = dd.read_csv(filename_fare)"
   ]
  },
  {
   "cell_type": "markdown",
   "id": "5acbb74e-4054-4eba-bd54-cb84c46d0835",
   "metadata": {},
   "source": [
    "### Tiempo que toma guardar los 2 archivos CSV anteriores con todos los datos incluyendo las columnas de datos categóricos como un solo archivo HSF5"
   ]
  },
  {
   "cell_type": "code",
   "execution_count": 2,
   "id": "6ed18de2-6e4a-4c20-946b-b3bdcfbd46e5",
   "metadata": {},
   "outputs": [
    {
     "name": "stdout",
     "output_type": "stream",
     "text": [
      "CPU times: user 10.3 s, sys: 1.61 s, total: 11.9 s\n",
      "Wall time: 3min 39s\n",
      "CPU times: user 9.68 s, sys: 1.6 s, total: 11.3 s\n",
      "Wall time: 3min 39s\n"
     ]
    },
    {
     "data": {
      "text/plain": [
       "['trip_with_categorical.h5',\n",
       " 'trip_with_categorical.h5',\n",
       " 'trip_with_categorical.h5',\n",
       " 'trip_with_categorical.h5',\n",
       " 'trip_with_categorical.h5',\n",
       " 'trip_with_categorical.h5',\n",
       " 'trip_with_categorical.h5',\n",
       " 'trip_with_categorical.h5',\n",
       " 'trip_with_categorical.h5',\n",
       " 'trip_with_categorical.h5',\n",
       " 'trip_with_categorical.h5',\n",
       " 'trip_with_categorical.h5',\n",
       " 'trip_with_categorical.h5',\n",
       " 'trip_with_categorical.h5',\n",
       " 'trip_with_categorical.h5',\n",
       " 'trip_with_categorical.h5',\n",
       " 'trip_with_categorical.h5',\n",
       " 'trip_with_categorical.h5',\n",
       " 'trip_with_categorical.h5',\n",
       " 'trip_with_categorical.h5',\n",
       " 'trip_with_categorical.h5',\n",
       " 'trip_with_categorical.h5',\n",
       " 'trip_with_categorical.h5',\n",
       " 'trip_with_categorical.h5',\n",
       " 'trip_with_categorical.h5',\n",
       " 'trip_with_categorical.h5',\n",
       " 'trip_with_categorical.h5']"
      ]
     },
     "execution_count": 2,
     "metadata": {},
     "output_type": "execute_result"
    }
   ],
   "source": [
    "path_trip_with_h5 = \"trip_with_categorical.h5\"\n",
    "\n",
    "%time df_data_csv.to_hdf(path_trip_h5, \"/data\")\n",
    "%time df_fare_csv.to_hdf(path_trip_h5, \"/fare\")"
   ]
  },
  {
   "cell_type": "markdown",
   "id": "39b23bd3-cf8c-4e3e-95e5-f6a44fb2361e",
   "metadata": {},
   "source": [
    "### Tiempo que toma guardar los 2 archivos CSV anteriores con todos los datos eliminando las columnas de datos categóricos como un solo archivo HSF5"
   ]
  },
  {
   "cell_type": "code",
   "execution_count": 7,
   "id": "7ce10008-b9bb-4e6c-aeed-579e02a023a3",
   "metadata": {},
   "outputs": [
    {
     "name": "stdout",
     "output_type": "stream",
     "text": [
      "CPU times: user 10.5 s, sys: 1.73 s, total: 12.2 s\n",
      "Wall time: 3min 42s\n",
      "CPU times: user 8.21 s, sys: 1.31 s, total: 9.52 s\n",
      "Wall time: 2min 55s\n"
     ]
    },
    {
     "data": {
      "text/plain": [
       "['trip_without_categorical.h5',\n",
       " 'trip_without_categorical.h5',\n",
       " 'trip_without_categorical.h5',\n",
       " 'trip_without_categorical.h5',\n",
       " 'trip_without_categorical.h5',\n",
       " 'trip_without_categorical.h5',\n",
       " 'trip_without_categorical.h5',\n",
       " 'trip_without_categorical.h5',\n",
       " 'trip_without_categorical.h5',\n",
       " 'trip_without_categorical.h5',\n",
       " 'trip_without_categorical.h5',\n",
       " 'trip_without_categorical.h5',\n",
       " 'trip_without_categorical.h5',\n",
       " 'trip_without_categorical.h5',\n",
       " 'trip_without_categorical.h5',\n",
       " 'trip_without_categorical.h5',\n",
       " 'trip_without_categorical.h5',\n",
       " 'trip_without_categorical.h5',\n",
       " 'trip_without_categorical.h5',\n",
       " 'trip_without_categorical.h5',\n",
       " 'trip_without_categorical.h5',\n",
       " 'trip_without_categorical.h5',\n",
       " 'trip_without_categorical.h5',\n",
       " 'trip_without_categorical.h5',\n",
       " 'trip_without_categorical.h5',\n",
       " 'trip_without_categorical.h5',\n",
       " 'trip_without_categorical.h5']"
      ]
     },
     "execution_count": 7,
     "metadata": {},
     "output_type": "execute_result"
    }
   ],
   "source": [
    "df_data_csv = df_data_csv.drop(columns=[' vendor_id', ' rate_code', ' store_and_fwd_flag'])\n",
    "df_fare_csv = df_fare_csv.drop(columns=[' vendor_id', ' payment_type'])\n",
    "\n",
    "path_trip_without_h5 = \"trip_without_categorical.h5\"\n",
    "\n",
    "%time df_data_csv.to_hdf(path_trip_h5, \"/data\")\n",
    "%time df_fare_csv.to_hdf(path_trip_h5, \"/fare\")"
   ]
  },
  {
   "cell_type": "markdown",
   "id": "2cabf98a-e41a-468c-aad5-582e15e0530a",
   "metadata": {},
   "source": [
    "### Tamaño de todos los archivos trabajados en este segundo punto"
   ]
  },
  {
   "cell_type": "code",
   "execution_count": 18,
   "id": "aec7782a-e395-4d28-8e74-87cd0705e208",
   "metadata": {},
   "outputs": [
    {
     "name": "stdout",
     "output_type": "stream",
     "text": [
      "El tamaño del archivo './trip_data/trip_data_10.csv' es:\t\t\t 2502278613 bytes\n",
      "El tamaño del archivo './trip_data/trip_fare_10.csv' es:\t\t\t 1712562557 bytes\n",
      "El tamaño del archivo HDF5 con categóricos 'trip_with_categorical.h5' es:\t 7219296367 bytes\n",
      "El tamaño del archivo HDF5 sin categóricos 'trip_without_categorical.h5' es:\t 5178432561 bytes\n"
     ]
    }
   ],
   "source": [
    "file_size_data = os.path.getsize('./trip_data/trip_data_10.csv')\n",
    "file_size_fare = os.path.getsize('./trip_fare/trip_fare_10.csv')\n",
    "file_h5_size_with_data = os.path.getsize(path_trip_with_h5)\n",
    "file_h5_size_without_data = os.path.getsize(path_trip_without_h5)\n",
    "\n",
    "print(\"El tamaño del archivo './trip_data/trip_data_10.csv' es:\\t\\t\\t\", file_size_data, \"bytes\")\n",
    "print(\"El tamaño del archivo './trip_data/trip_fare_10.csv' es:\\t\\t\\t\", file_size_fare, \"bytes\")\n",
    "print(\"El tamaño del archivo HDF5 con categóricos '\" + path_trip_with_h5 + \"' es:\\t\", file_h5_size_with_data, \"bytes\")\n",
    "print(\"El tamaño del archivo HDF5 sin categóricos '\" + path_trip_without_h5 + \"' es:\\t\", file_h5_size_without_data, \"bytes\")"
   ]
  },
  {
   "cell_type": "markdown",
   "id": "c7019136-5fa4-4cdb-bed7-e4301720639f",
   "metadata": {},
   "source": [
    "### Lectura de los archivos HSF5 generados anteriormente"
   ]
  },
  {
   "cell_type": "code",
   "execution_count": 3,
   "id": "3836cb31-bb5d-476c-aa8d-f40ca4106ec0",
   "metadata": {},
   "outputs": [],
   "source": [
    "\n",
    "df_data_with_h5 = dd.read_hdf(path_trip_with_h5, \"/data\")\n",
    "df_fare_with_h5 = dd.read_hdf(path_trip_with_h5, \"/fare\")\n",
    "df_data_without_h5 = dd.read_hdf(path_trip_without_h5, \"/data\")\n",
    "df_fare_without_h5 = dd.read_hdf(path_trip_without_h5, \"/fare\")\n"
   ]
  },
  {
   "cell_type": "markdown",
   "id": "77d928b7-44d9-4368-8fae-85fa10597aba",
   "metadata": {},
   "source": [
    "## Algunas consultas con las medidas de tiempo"
   ]
  },
  {
   "cell_type": "markdown",
   "id": "e48bfdbc-4c90-4272-a272-80ec40bcfbf7",
   "metadata": {},
   "source": [
    "### Suma de la columna \"trip_distance\" para el archivo CSV, HFS5 con categóricos y HFS5 sin categóricos"
   ]
  },
  {
   "cell_type": "code",
   "execution_count": 11,
   "id": "8db95fe5-d3a0-49d5-9483-798b187e5ad7",
   "metadata": {},
   "outputs": [
    {
     "name": "stdout",
     "output_type": "stream",
     "text": [
      "CPU times: user 10.3 s, sys: 1.84 s, total: 12.1 s\n",
      "Wall time: 3min 53s\n",
      "CPU times: user 9.08 s, sys: 1.59 s, total: 10.7 s\n",
      "Wall time: 3min 17s\n",
      "CPU times: user 4.31 s, sys: 856 ms, total: 5.17 s\n",
      "Wall time: 1min 45s\n"
     ]
    },
    {
     "data": {
      "text/plain": [
       "44247336.879999995"
      ]
     },
     "execution_count": 11,
     "metadata": {},
     "output_type": "execute_result"
    }
   ],
   "source": [
    "%time df_data_with_h5[\" trip_distance\"].sum().compute()\n",
    "%time df_data_without_h5[\" trip_distance\"].sum().compute()\n",
    "%time df_data_csv[\" trip_distance\"].sum().compute()"
   ]
  },
  {
   "cell_type": "markdown",
   "id": "7e418f52-85bd-4939-b730-6baa40c0978c",
   "metadata": {},
   "source": [
    "### Suma de la columna de la columna \"total_amount\" para el archivo CSV, HFS5 con categóricos y HFS5 sin categóricos"
   ]
  },
  {
   "cell_type": "code",
   "execution_count": 4,
   "id": "6ca0a2ac-645b-47a2-83c7-01caeb4010b7",
   "metadata": {},
   "outputs": [
    {
     "name": "stdout",
     "output_type": "stream",
     "text": [
      "CPU times: user 8.86 s, sys: 1.49 s, total: 10.4 s\n",
      "Wall time: 3min 31s\n",
      "CPU times: user 6.01 s, sys: 967 ms, total: 6.98 s\n",
      "Wall time: 2min 15s\n",
      "CPU times: user 3.49 s, sys: 619 ms, total: 4.11 s\n",
      "Wall time: 1min 22s\n"
     ]
    },
    {
     "data": {
      "text/plain": [
       "227890393.16"
      ]
     },
     "execution_count": 4,
     "metadata": {},
     "output_type": "execute_result"
    }
   ],
   "source": [
    "%time df_fare_with_h5[\" total_amount\"].sum().compute()\n",
    "%time df_fare_without_h5[\" total_amount\"].sum().compute()\n",
    "%time df_fare_csv[\" total_amount\"].sum().compute()"
   ]
  },
  {
   "cell_type": "markdown",
   "id": "65096832-89f9-4edc-b934-55f405496588",
   "metadata": {},
   "source": [
    "### Valor máximo de la columna \"trip_distance\" para el archivo CSV, HFS5 con categóricos y HFS5 sin categóricos"
   ]
  },
  {
   "cell_type": "code",
   "execution_count": 5,
   "id": "45412a89-e731-4761-bd2b-9636087648db",
   "metadata": {},
   "outputs": [
    {
     "name": "stdout",
     "output_type": "stream",
     "text": [
      "CPU times: user 11.1 s, sys: 1.87 s, total: 12.9 s\n",
      "Wall time: 4min 16s\n",
      "CPU times: user 9.1 s, sys: 1.44 s, total: 10.5 s\n",
      "Wall time: 3min 23s\n",
      "CPU times: user 3.92 s, sys: 656 ms, total: 4.58 s\n",
      "Wall time: 1min 36s\n"
     ]
    },
    {
     "data": {
      "text/plain": [
       "100.0"
      ]
     },
     "execution_count": 5,
     "metadata": {},
     "output_type": "execute_result"
    }
   ],
   "source": [
    "%time df_data_with_h5[\" trip_distance\"].max().compute()\n",
    "%time df_data_without_h5[\" trip_distance\"].max().compute()\n",
    "%time df_data_csv[\" trip_distance\"].max().compute()"
   ]
  },
  {
   "cell_type": "markdown",
   "id": "390c10a7-a36e-4a02-a16c-5ed3f875ef53",
   "metadata": {},
   "source": [
    "### Valor mínimo de la columna \"total_amount\" para el archivo CSV, HFS5 con categóricos y HFS5 sin categóricos"
   ]
  },
  {
   "cell_type": "code",
   "execution_count": 6,
   "id": "6ae2ac81-5bb0-4188-800c-d16e25fb1340",
   "metadata": {},
   "outputs": [
    {
     "name": "stdout",
     "output_type": "stream",
     "text": [
      "CPU times: user 9.18 s, sys: 1.43 s, total: 10.6 s\n",
      "Wall time: 3min 28s\n",
      "CPU times: user 7.25 s, sys: 1.09 s, total: 8.34 s\n",
      "Wall time: 2min 42s\n",
      "CPU times: user 4.38 s, sys: 657 ms, total: 5.03 s\n",
      "Wall time: 1min 30s\n"
     ]
    },
    {
     "data": {
      "text/plain": [
       "2.5"
      ]
     },
     "execution_count": 6,
     "metadata": {},
     "output_type": "execute_result"
    }
   ],
   "source": [
    "%time df_fare_with_h5[\" total_amount\"].min().compute()\n",
    "%time df_fare_without_h5[\" total_amount\"].min().compute()\n",
    "%time df_fare_csv[\" total_amount\"].min().compute()"
   ]
  },
  {
   "cell_type": "code",
   "execution_count": null,
   "id": "d564879a-d101-4a62-b477-39c0f533c6db",
   "metadata": {},
   "outputs": [],
   "source": [
    "client.shutdown()"
   ]
  },
  {
   "cell_type": "markdown",
   "id": "af144ec7-6cdd-424f-8ad5-5ea7c721eb90",
   "metadata": {},
   "source": [
    "# 3. Establecer un índice por una de las columnas de fecha y almacenarlos en castra (también usando categóricos). Realizar un rango de consultas y medir su velocidad"
   ]
  },
  {
   "cell_type": "code",
   "execution_count": null,
   "id": "348e11ba-2b9a-46fb-b7a4-6177c0213f75",
   "metadata": {},
   "outputs": [],
   "source": [
    "from castra import Castra\n",
    "import os\n",
    "import dask.dataframe as dd\n",
    "import pandas as df\n",
    "\n",
    "filename_data = os.path.join('./trip_data', 'trip_data_test.csv')\n",
    "filename_fare = os.path.join('./trip_fare', 'trip_fare_test.csv')\n",
    "df_data_csv = dd.read_csv(filename_data)\n",
    "df_fare_csv = dd.read_csv(filename_fare)"
   ]
  },
  {
   "cell_type": "markdown",
   "id": "edfed443-e99d-4ac1-b459-1b19b567147d",
   "metadata": {},
   "source": [
    "## NOTA: Para este punto no fue posible lograr hacer funcionar Castra, esta librería tuvo su último aporte a su repositorio en 2016, por lo que la compatibilidad y conflictos con otras dependencias, hace muy complicado lograr el entorno requerido, a pesar de intentar con versiones de 2016 de librerías como Pandas, Dask, Numpy, etc junto con Python 2.7, no funcionó de ninguna forma. Sin embargo se deja el código correspondiente a lo requerido."
   ]
  },
  {
   "cell_type": "code",
   "execution_count": null,
   "id": "01354407-fcc2-46c3-8aae-4d46ba4160c8",
   "metadata": {},
   "outputs": [],
   "source": [
    "castra_data = df = dd.from_castra('trip_data.castra')\n",
    "castra_fare = df = dd.from_castra('trip_fare.castra')"
   ]
  },
  {
   "cell_type": "markdown",
   "id": "780e5602-1f91-47eb-a058-11713aa5d10e",
   "metadata": {},
   "source": [
    "### Suma de la columna \"trip_distance\" para el archivo CSV, HFS5 con categóricos y HFS5 sin categóricos"
   ]
  },
  {
   "cell_type": "code",
   "execution_count": null,
   "id": "8a99ee27-5a9c-41fc-9e40-e876814b38fd",
   "metadata": {},
   "outputs": [],
   "source": [
    "%time castra_data[\" trip_distance\"].sum().compute()"
   ]
  },
  {
   "cell_type": "markdown",
   "id": "09043454-d888-4b0e-958a-a7b984aa93cd",
   "metadata": {},
   "source": [
    "### Suma de la columna de la columna \"total_amount\" para el archivo CSV, HFS5 con categóricos y HFS5 sin categóricos"
   ]
  },
  {
   "cell_type": "code",
   "execution_count": null,
   "id": "d83bf716-ab4f-49b0-ab92-95c87863d14d",
   "metadata": {},
   "outputs": [],
   "source": [
    "%time castra_fare[\" total_amount\"].sum().compute()"
   ]
  },
  {
   "cell_type": "markdown",
   "id": "cb9a94ab-2263-4389-9638-a23748e0c456",
   "metadata": {},
   "source": [
    "### Valor máximo de la columna \"trip_distance\" para el archivo CSV, HFS5 con categóricos y HFS5 sin categóricos"
   ]
  },
  {
   "cell_type": "code",
   "execution_count": null,
   "id": "6eab7710-08b2-4728-8080-158d2e0635ff",
   "metadata": {},
   "outputs": [],
   "source": [
    "%time castra_data[\" trip_distance\"].max().compute()"
   ]
  },
  {
   "cell_type": "markdown",
   "id": "a43e80f7-4594-417d-aff0-e34c8c98e991",
   "metadata": {},
   "source": [
    "### Valor mínimo de la columna \"total_amount\" para el archivo CSV, HFS5 con categóricos y HFS5 sin categóricos"
   ]
  },
  {
   "cell_type": "code",
   "execution_count": null,
   "id": "ec969544-b618-424e-b62c-8fe46ea2903c",
   "metadata": {},
   "outputs": [],
   "source": [
    "%time castra_fare[\" total_amount\"].min().compute()"
   ]
  },
  {
   "cell_type": "markdown",
   "id": "26dbc466-3b2c-4301-a247-fb440ccf7eb4",
   "metadata": {},
   "source": [
    "# 4. ¿Que tamaño y complejidad de consulta se puede realizar mientras todavía se mantiene una experiencia \"interactiva\"?\n"
   ]
  },
  {
   "cell_type": "markdown",
   "id": "ae3607b8-ffaa-4421-b76d-9bf6add79674",
   "metadata": {},
   "source": [
    "Para el equipo con el que se realizo este cuaderno (12GB de Ram y un procesador de 4 núcleos a 2.1Gz), cuando no se usa \"dask.distributed\" y se intenta hacer un calculo, consulta o guardar el dataframe en un archivo puede llegar a dejar sin RAM el equipo a partir de archivos de 6GB pero cuando se usa \"dask.distributed\" se hace una mejor gestión de la memoria y la RAM no se consume totalmente por los procesos Dask permitiendo terminar cualquier tarea aunque por ejemplo para el caso de 6GB puede demorarse considerablemente, los archivos a partir de 2~4GB se empiezan a demorarse varios minutos especialmente en los calculos o alguna consulta por lo cual para tener una experiencia interactiva en el cuaderno Jupyter para este equipo, se puede lograr con archivos que su tamaño sea menor a 1GB."
   ]
  }
 ],
 "metadata": {
  "kernelspec": {
   "display_name": "Python 3",
   "language": "python",
   "name": "python3"
  },
  "language_info": {
   "codemirror_mode": {
    "name": "ipython",
    "version": 3
   },
   "file_extension": ".py",
   "mimetype": "text/x-python",
   "name": "python",
   "nbconvert_exporter": "python",
   "pygments_lexer": "ipython3",
   "version": "3.8.8"
  }
 },
 "nbformat": 4,
 "nbformat_minor": 5
}
