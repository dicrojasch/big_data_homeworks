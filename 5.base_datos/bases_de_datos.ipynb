{
 "cells": [
  {
   "cell_type": "markdown",
   "metadata": {},
   "source": [
    "# Introducción"
   ]
  },
  {
   "cell_type": "markdown",
   "metadata": {},
   "source": [
    "El presente documento desarrollara un trabajo de análisis  sobre el diseño e implementación de las siguientes bases de datos: \n",
    "•\tEmployee data\n",
    "•\tWorld database \n",
    "•\tWorld_x database \n",
    "•\tSakila database \n",
    "•\tMenagerie database \n",
    "\n",
    "Este grupo de bases de datos hace parte de los ejemplos de bases de datos de la documentación de MySQL [[1]](https://dev.mysql.com/doc/index-other.html).\n",
    "\n",
    "Para el caso de la base de datos Employee data, es una base de datos creada por Patrick Crews y Giuseppe Maxia que está compuesta principalmente por seis tablas  que en total tiene aproximadamente 4 millones de registros (160 MB aproximadamente) [[2]](https://dev.mysql.com/doc/employee/en/). \n",
    "\n",
    "La base de datos World es una base de datos pequeña de ejemplo, esta cuenta con 3 tablas y en total tiene 5302 registros [[3]](https://dev.mysql.com/doc/world-setup/en/).\n",
    "\n",
    "La base de datos World X es la misma base de datos World excepto por algunas características adicionales que permiten una compatibilidad con X DevAPI. X DevAPI es una alternativa para acceder a MySQL de una forma parecida a una API-CRUD [[4]](https://dev.mysql.com/doc/world-x-setup/en/).\n",
    "\n",
    "La base de datos Sakila fue creada por Mike Hillyer, que intenta proveer una base de datos con un esquema estándar además que contiene varias características adicionales de MySQL como vistas, procedimientos almacenados y disparadores. Está compuesta de 23 tablas y contiene aproximadamente 50000 registros [[5]](https://dev.mysql.com/doc/sakila/en/).\n",
    "\n",
    "La base de datos Menagerie consiste en una base de datos muy simple que trata de modelar una situación de la vida real, donde contiene 2 tablas y 19 registros en total [[6]](https://dev.mysql.com/doc/refman/8.0/en/database-use.html).\n"
   ]
  },
  {
   "cell_type": "markdown",
   "metadata": {},
   "source": [
    "# Instalación"
   ]
  },
  {
   "cell_type": "markdown",
   "metadata": {},
   "source": [
    "Dado que las bases de datos usadas para este trabajo hacen parte de la documentación oficial de MySQL, su descarga es sencilla mediante su [página web]( https://dev.mysql.com/doc/index-other.html). Para este procedimiento se usará el sistema operativo [Centos 7]( http://isoredirect.centos.org/centos/7/isos/x86_64/)  y el motor de base de datos [Mariadb  Version 15.1 Distribución 10.5.9]( https://espejito.fder.edu.uy/mariadb//mariadb-10.5.9/yum/rhel/7/x86_64). Para cada base de datos el procedimiento consiste en los siguientes pasos:\n",
    "1.\tDescargar la base de datos.\n",
    "2.\tDescomprimir los archivos.\n",
    "3.\tImportar/Ejecutar los scripts para la creación de la base de datos.\n",
    "\n",
    "Los pasos anteriores se pueden ejecutar en un par de comandos en una sola línea mediante consola de comandos en Linux: \n",
    "\n",
    "1.\tBase de datos Employee:\n",
    "\n",
    "```bash \n",
    "git clone git@github.com:datacharmer/test_db.git ; \\\n",
    "cd test_db ; \\\n",
    "mysql -u drojas –pmy_password  -e 'CREATE DATABASE employees;' ; \\\n",
    "mysql --user='drojas' –pmy_password  employees < employees.sql\n",
    "``` \n",
    "\n",
    "2.\tBase de datos World:\n",
    "\n",
    "```bash\n",
    "wget https://downloads.mysql.com/docs/world.sql.gz ; \\\n",
    "gzip -d world.sql.gz ; \\\n",
    "mysql -u drojas -pmy_password  -e 'CREATE DATABASE world;' ; \\\n",
    "mysql -u drojas –pmy_password  world < world.sql\n",
    "```\n",
    "\n",
    "3.\tBase de datos World-X:\n",
    "\n",
    "```bash\n",
    "wget https://downloads.mysql.com/docs/world_x-db.tar.gz ; \\\n",
    "tar zxvf world_x-db.tar.gz ; \\\n",
    "cd world_x-db ; \\\n",
    "mysql -u drojas - pmy_password  -e 'CREATE DATABASE world_x;' ; \\\n",
    "cp world_x.sql /tmp/ ; \\ \n",
    "mysql -u drojas - pmy_password  -e 'SOURCE /tmp/world_x.sql;'; \n",
    "```\n",
    "\n",
    "\n",
    "4.\tBase de datos Sakila:\n",
    "\n",
    "```bash\n",
    "wget https://downloads.mysql.com/docs/sakila-db.tar.gz ; \\\n",
    "tar xzvf sakila-db.tar.gz ; \\\n",
    "cd sakila-db ; \\\n",
    "mysql -u drojas - pmy_password -e 'DROP DATABASE sakila; CREATE DATABASE sakila;' ;\\\n",
    "mysql -u drojas - pmy_password sakila < sakila-schema.sql ; \\\n",
    "mysql -u drojas - pmy_password sakila < sakila-data.sql \n",
    "```\n",
    "\n",
    "5.\tBase de datos Menagerie:\n",
    "\n",
    "```bash\n",
    "wget https://downloads.mysql.com/docs/menagerie-db.tar.gz; \\\n",
    "tar xzvf menagerie-db.tar.gz ; \\\n",
    "cd menagerie-db ; \\\n",
    "mysql -u drojas -pmy_password  -e 'CREATE DATABASE menagerie;' ; \\\n",
    "mysql -u drojas -pmy_password menagerie < cr_pet_tbl.sql ; \\\n",
    "mysql -u drojas -pmy_password menagerie < ins_puff_rec.sql ; \\\n",
    "mysql -u drojas -pmy_password  menagerie < cr_event_tbl.sql ; \\\n",
    "mysqlimport -u drojas -pmy_password  --local menagerie event.txt ; \\\n",
    "mysqlimport -u drojas -pmy_password  --local menagerie pet.txt \n",
    "```\n",
    "\n"
   ]
  },
  {
   "cell_type": "markdown",
   "metadata": {},
   "source": [
    "# Diagramas Entidad-Relación"
   ]
  },
  {
   "cell_type": "markdown",
   "metadata": {},
   "source": [
    "A continuación se presentan los diagramas Entidad-Relación de las bases de datos. Estos diagramas se generaron mediante [DBeaver](https://dbeaver.com/docs/wiki/ER-Diagrams/).\n",
    "\n",
    "1.\tBase de datos Employee:\n",
    "\n",
    "![diagrama_e_r_employee](er/employees.png)\n",
    "\n",
    "2.\tBase de datos World:\n",
    "\n",
    "![diagrama_e_r_world](er/world.png)\n",
    "\n",
    "3.\tBase de datos World-X:\n",
    "\n",
    "![diagrama_e_r_world_x](er/world_x.png)\n",
    "\n",
    "4.\tBase de datos Sakila:\n",
    "\n",
    "![diagrama_e_r_sakila](er/sakila.png)\n",
    "\n",
    "5.\tBase de datos Menagerie:\n",
    "\n",
    "![diagrama_e_r_menagerie](er/menagerie.png)"
   ]
  },
  {
   "cell_type": "markdown",
   "metadata": {},
   "source": [
    "# Procedimiento almacenado"
   ]
  },
  {
   "cell_type": "markdown",
   "metadata": {},
   "source": [
    "MySQL en el caso de MariaDB soportan la funcionalidad de Procedimientos almacenados. Un procedimiento almacenado puede definirse como una porción de código que se puede guardar y reutilizar de una manera fácil, dicho de otra manera, permite agrupar código y guardarlo para  reutilizarlo sin tener que volver a escribir todo ese código. Al igual que una función, un procedimiento almacenado puede parametrizarse, la sintaxis para crear un procedimiento almacenado es:\n",
    "\n",
    "```sql\n",
    "CREATE PROCEDURE nombre_procedimiento()\n",
    "BEGIN\n",
    "    código_sql\n",
    "END;\n",
    "```\n",
    "\n",
    "Un ejemplo aplicado a la base de datos Sakila sería:\n"
   ]
  },
  {
   "cell_type": "code",
   "execution_count": 29,
   "metadata": {},
   "outputs": [
    {
     "data": {
      "text/html": [
       "Query OK"
      ]
     },
     "metadata": {},
     "output_type": "display_data"
    }
   ],
   "source": [
    "DELIMITER $$\n",
    "CREATE PROCEDURE get_films()\n",
    "BEGIN\n",
    "    SELECT f.title, f.release_year, l.name as `language`, f.special_features, c.name as category\n",
    "    FROM sakila.film f \n",
    "    JOIN sakila.film_category fc using(film_id)\n",
    "    JOIN sakila.category c  using(category_id)\n",
    "    JOIN sakila.`language` l using(language_id) \n",
    "    LIMIT 10;\n",
    "END;"
   ]
  },
  {
   "cell_type": "markdown",
   "metadata": {},
   "source": [
    "<br>\n",
    "Para utilizar o hace un llamado a este procedimiento almacendo, ejecutar:"
   ]
  },
  {
   "cell_type": "code",
   "execution_count": 30,
   "metadata": {},
   "outputs": [
    {
     "data": {
      "text/html": [
       "<html><body><table border=\"1\"><tr><th style=\"text-align:left;white-space:pre\">title</th><th style=\"text-align:left;white-space:pre\">release_year</th><th style=\"text-align:left;white-space:pre\">language</th><th style=\"text-align:left;white-space:pre\">special_features</th><th style=\"text-align:left;white-space:pre\">category</th></tr><tr><td style=\"text-align:left;white-space:pre\">AMADEUS HOLY</td><td style=\"text-align:left;white-space:pre\">2006</td><td style=\"text-align:left;white-space:pre\">English</td><td style=\"text-align:left;white-space:pre\">Commentaries,Deleted Scenes,Behind the Scenes</td><td style=\"text-align:left;white-space:pre\">Action</td></tr><tr><td style=\"text-align:left;white-space:pre\">AMERICAN CIRCUS</td><td style=\"text-align:left;white-space:pre\">2006</td><td style=\"text-align:left;white-space:pre\">English</td><td style=\"text-align:left;white-space:pre\">Commentaries,Behind the Scenes</td><td style=\"text-align:left;white-space:pre\">Action</td></tr><tr><td style=\"text-align:left;white-space:pre\">ANTITRUST TOMATOES</td><td style=\"text-align:left;white-space:pre\">2006</td><td style=\"text-align:left;white-space:pre\">English</td><td style=\"text-align:left;white-space:pre\">Trailers,Commentaries,Deleted Scenes</td><td style=\"text-align:left;white-space:pre\">Action</td></tr><tr><td style=\"text-align:left;white-space:pre\">ARK RIDGEMONT</td><td style=\"text-align:left;white-space:pre\">2006</td><td style=\"text-align:left;white-space:pre\">English</td><td style=\"text-align:left;white-space:pre\">Trailers,Commentaries,Deleted Scenes,Behind the Scenes</td><td style=\"text-align:left;white-space:pre\">Action</td></tr><tr><td style=\"text-align:left;white-space:pre\">BAREFOOT MANCHURIAN</td><td style=\"text-align:left;white-space:pre\">2006</td><td style=\"text-align:left;white-space:pre\">English</td><td style=\"text-align:left;white-space:pre\">Trailers,Commentaries</td><td style=\"text-align:left;white-space:pre\">Action</td></tr><tr><td style=\"text-align:left;white-space:pre\">BERETS AGENT</td><td style=\"text-align:left;white-space:pre\">2006</td><td style=\"text-align:left;white-space:pre\">English</td><td style=\"text-align:left;white-space:pre\">Deleted Scenes</td><td style=\"text-align:left;white-space:pre\">Action</td></tr><tr><td style=\"text-align:left;white-space:pre\">BRIDE INTRIGUE</td><td style=\"text-align:left;white-space:pre\">2006</td><td style=\"text-align:left;white-space:pre\">English</td><td style=\"text-align:left;white-space:pre\">Trailers,Commentaries,Behind the Scenes</td><td style=\"text-align:left;white-space:pre\">Action</td></tr><tr><td style=\"text-align:left;white-space:pre\">BULL SHAWSHANK</td><td style=\"text-align:left;white-space:pre\">2006</td><td style=\"text-align:left;white-space:pre\">English</td><td style=\"text-align:left;white-space:pre\">Deleted Scenes</td><td style=\"text-align:left;white-space:pre\">Action</td></tr><tr><td style=\"text-align:left;white-space:pre\">CADDYSHACK JEDI</td><td style=\"text-align:left;white-space:pre\">2006</td><td style=\"text-align:left;white-space:pre\">English</td><td style=\"text-align:left;white-space:pre\">Commentaries,Deleted Scenes</td><td style=\"text-align:left;white-space:pre\">Action</td></tr><tr><td style=\"text-align:left;white-space:pre\">CAMPUS REMEMBER</td><td style=\"text-align:left;white-space:pre\">2006</td><td style=\"text-align:left;white-space:pre\">English</td><td style=\"text-align:left;white-space:pre\">Behind the Scenes</td><td style=\"text-align:left;white-space:pre\">Action</td></tr></table></body></html>"
      ]
     },
     "metadata": {},
     "output_type": "display_data"
    }
   ],
   "source": [
    "call get_films();"
   ]
  },
  {
   "cell_type": "markdown",
   "metadata": {},
   "source": [
    "<br>\n",
    "Un ejemplo de procedimiento almacenado con parámetros, donde el parámetro definirá la cantidad de registros que se verán:"
   ]
  },
  {
   "cell_type": "code",
   "execution_count": 31,
   "metadata": {},
   "outputs": [
    {
     "data": {
      "text/html": [
       "Query OK"
      ]
     },
     "metadata": {},
     "output_type": "display_data"
    }
   ],
   "source": [
    "DELIMITER $$\n",
    "CREATE PROCEDURE get_films_by_quantity(cantidad int)\n",
    "BEGIN\n",
    "    SELECT f.title, f.release_year, l.name as `language`, f.special_features, c.name as category\n",
    "    FROM sakila.film f \n",
    "    JOIN sakila.film_category fc using(film_id)\n",
    "    JOIN sakila.category c  using(category_id)\n",
    "    JOIN sakila.`language` l using(language_id) \n",
    "    LIMIT cantidad;\n",
    "END;"
   ]
  },
  {
   "cell_type": "code",
   "execution_count": 33,
   "metadata": {},
   "outputs": [
    {
     "data": {
      "text/html": [
       "<html><body><table border=\"1\"><tr><th style=\"text-align:left;white-space:pre\">title</th><th style=\"text-align:left;white-space:pre\">release_year</th><th style=\"text-align:left;white-space:pre\">language</th><th style=\"text-align:left;white-space:pre\">special_features</th><th style=\"text-align:left;white-space:pre\">category</th></tr><tr><td style=\"text-align:left;white-space:pre\">AMADEUS HOLY</td><td style=\"text-align:left;white-space:pre\">2006</td><td style=\"text-align:left;white-space:pre\">English</td><td style=\"text-align:left;white-space:pre\">Commentaries,Deleted Scenes,Behind the Scenes</td><td style=\"text-align:left;white-space:pre\">Action</td></tr><tr><td style=\"text-align:left;white-space:pre\">AMERICAN CIRCUS</td><td style=\"text-align:left;white-space:pre\">2006</td><td style=\"text-align:left;white-space:pre\">English</td><td style=\"text-align:left;white-space:pre\">Commentaries,Behind the Scenes</td><td style=\"text-align:left;white-space:pre\">Action</td></tr><tr><td style=\"text-align:left;white-space:pre\">ANTITRUST TOMATOES</td><td style=\"text-align:left;white-space:pre\">2006</td><td style=\"text-align:left;white-space:pre\">English</td><td style=\"text-align:left;white-space:pre\">Trailers,Commentaries,Deleted Scenes</td><td style=\"text-align:left;white-space:pre\">Action</td></tr><tr><td style=\"text-align:left;white-space:pre\">ARK RIDGEMONT</td><td style=\"text-align:left;white-space:pre\">2006</td><td style=\"text-align:left;white-space:pre\">English</td><td style=\"text-align:left;white-space:pre\">Trailers,Commentaries,Deleted Scenes,Behind the Scenes</td><td style=\"text-align:left;white-space:pre\">Action</td></tr><tr><td style=\"text-align:left;white-space:pre\">BAREFOOT MANCHURIAN</td><td style=\"text-align:left;white-space:pre\">2006</td><td style=\"text-align:left;white-space:pre\">English</td><td style=\"text-align:left;white-space:pre\">Trailers,Commentaries</td><td style=\"text-align:left;white-space:pre\">Action</td></tr></table></body></html>"
      ]
     },
     "metadata": {},
     "output_type": "display_data"
    }
   ],
   "source": [
    "call get_films_by_quantity(5);"
   ]
  },
  {
   "cell_type": "markdown",
   "metadata": {},
   "source": [
    "# Funciones"
   ]
  },
  {
   "cell_type": "markdown",
   "metadata": {},
   "source": [
    "Una función es muy parecida a un procedimiento almacenado pero a diferencia de este, la función retorna un valor y se ejecuta de manera diferente. La sintaxis para crear una función es:\n",
    "\n",
    "```sql\n",
    "CREATE FUNCTION nombre_funcion()\n",
    "BEGIN\n",
    "--  código_sql\n",
    "    RETURN value;\n",
    "END;\n",
    "```\n",
    "\n",
    "Un ejemplo aplicado sería una función para calcular el factorial de un número:"
   ]
  },
  {
   "cell_type": "code",
   "execution_count": 34,
   "metadata": {},
   "outputs": [
    {
     "data": {
      "text/html": [
       "Query OK"
      ]
     },
     "metadata": {},
     "output_type": "display_data"
    }
   ],
   "source": [
    "DELIMITER //\n",
    "CREATE FUNCTION factorial(x INT) RETURNS INT(11)\n",
    "BEGIN\n",
    "    DECLARE factorial INT;\n",
    "    SET factorial = x ;\n",
    "    \n",
    "    IF x <= 0 THEN\n",
    "        RETURN 1;\n",
    "    END IF;\n",
    "    \n",
    "    bucle: LOOP\n",
    "        SET x = x - 1 ;\n",
    "        IF x<1 THEN\n",
    "            LEAVE bucle;\n",
    "        END IF;\n",
    "\n",
    "        SET factorial = factorial * x ;\n",
    "    END LOOP bucle;\n",
    "    \n",
    "    RETURN factorial;\n",
    "END//\n",
    "DELIMITER ;"
   ]
  },
  {
   "cell_type": "markdown",
   "metadata": {},
   "source": [
    "Para ejecutar la función:"
   ]
  },
  {
   "cell_type": "code",
   "execution_count": 42,
   "metadata": {},
   "outputs": [
    {
     "data": {
      "text/html": [
       "<html><body><table border=\"1\"><tr><th style=\"text-align:left;white-space:pre\">factorial(5)</th></tr><tr><td style=\"text-align:left;white-space:pre\">120</td></tr></table></body></html>"
      ]
     },
     "metadata": {},
     "output_type": "display_data"
    }
   ],
   "source": [
    "select factorial(5);"
   ]
  },
  {
   "cell_type": "markdown",
   "metadata": {},
   "source": [
    "# Triggers"
   ]
  },
  {
   "cell_type": "markdown",
   "metadata": {},
   "source": [
    "Los Triggers o disparadores es un procedimiento almacenado pero que cuenta con la característica adicional, de poder definir su ejecución en el momento que ocurra un evento definido. Dichos eventos se generan para una operación INSERT, UPDATE o DELETE, por ejemplo se podría definir que para un INSERT con ciertas características (cierta base de datos sobre cierta tabla), se ejecute un procedimiento que se haya definido.\n",
    "\n",
    "La sintaxis de un trigger es:\n",
    "\n",
    "```sql\n",
    "CREATE TRIGGER nombre_trigger {BEFORE|AFTER} {UPDATE|INSERT|DELETE} ON nombre_de_la_tabla\n",
    "FOR EACH ROW\n",
    "BEGIN\n",
    "--  código_sql\n",
    "    RETURN value;\n",
    "END;\n",
    "```\n",
    "Cuando el evento es un UPDATE, se puede usar los identificadores OLD y NEW que se refieren al valor anterior (OLD) y el valor nuevo (NEW): por ejemplo OLD.idName o NEW.idName. Cuando el evento es un INSERT solo\n",
    "se dispondra de NEW ya que no existe un valor previo que se pueda asociar a OLD. Cuando el evento es un DELETE solo se dispone ed OLD debido a que no exisite un valor nuevo (NEW) en esa operación.\n",
    "\n",
    "Las opciones {BEFORE|AFTER} hacen referencia a el si el evento asociado es antes o después de la operación; por ejemplo, un Trigger BEFORE para un evento UPDATE define que el código del Trigger se ejecutará antes de realizar la operación.\n",
    "\n",
    "Un ejemplo aplicado en la base de datos Employee, sería cuando un empleado ascienda (operación UPDATE en tabla employees) se actualice tambien la fecha de contratación:"
   ]
  },
  {
   "cell_type": "code",
   "execution_count": 48,
   "metadata": {},
   "outputs": [
    {
     "data": {
      "text/html": [
       "Query OK"
      ]
     },
     "metadata": {},
     "output_type": "display_data"
    }
   ],
   "source": [
    "DELIMITER $$\n",
    "CREATE TRIGGER employees.ascenso_trigger\n",
    "AFTER UPDATE ON employees.titles FOR EACH ROW\n",
    "\tUPDATE employees.employees SET hire_date = CURDATE() WHERE emp_no = NEW.emp_no;"
   ]
  },
  {
   "cell_type": "markdown",
   "metadata": {},
   "source": [
    "Para utilizarlo se va utilizar el registro con `emp_no` 10008:"
   ]
  },
  {
   "cell_type": "code",
   "execution_count": 51,
   "metadata": {},
   "outputs": [
    {
     "data": {
      "text/html": [
       "<html><body><table border=\"1\"><tr><th style=\"text-align:left;white-space:pre\">emp_no</th><th style=\"text-align:left;white-space:pre\">birth_date</th><th style=\"text-align:left;white-space:pre\">first_name</th><th style=\"text-align:left;white-space:pre\">last_name</th><th style=\"text-align:left;white-space:pre\">gender</th><th style=\"text-align:left;white-space:pre\">hire_date</th><th style=\"text-align:left;white-space:pre\">title</th><th style=\"text-align:left;white-space:pre\">from_date</th><th style=\"text-align:left;white-space:pre\">to_date</th></tr><tr><td style=\"text-align:left;white-space:pre\">10008</td><td style=\"text-align:left;white-space:pre\">1958-02-19</td><td style=\"text-align:left;white-space:pre\">Saniya</td><td style=\"text-align:left;white-space:pre\">Kalloufi</td><td style=\"text-align:left;white-space:pre\">M</td><td style=\"text-align:left;white-space:pre\">1994-09-15</td><td style=\"text-align:left;white-space:pre\">Assistant Engineer</td><td style=\"text-align:left;white-space:pre\">1998-03-11</td><td style=\"text-align:left;white-space:pre\">2000-07-31</td></tr></table></body></html>"
      ]
     },
     "metadata": {},
     "output_type": "display_data"
    }
   ],
   "source": [
    "SELECT * FROM employees.employees e JOIN employees.titles t USING (emp_no)\n",
    "WHERE e.emp_no = 10008;"
   ]
  },
  {
   "cell_type": "markdown",
   "metadata": {},
   "source": [
    "Ahora se va realizar un UPDATE a este registro:"
   ]
  },
  {
   "cell_type": "code",
   "execution_count": 52,
   "metadata": {},
   "outputs": [
    {
     "data": {
      "text/html": [
       "Query OK"
      ]
     },
     "metadata": {},
     "output_type": "display_data"
    }
   ],
   "source": [
    "UPDATE employees.titles SET title = 'Senior Engineer' WHERE emp_no = 10008;"
   ]
  },
  {
   "cell_type": "markdown",
   "metadata": {},
   "source": [
    "Entonces para validar que el Trigger haya funcionado, se debió cambiar la fecha de contratación (hire_date) automáticamente:"
   ]
  },
  {
   "cell_type": "code",
   "execution_count": 53,
   "metadata": {},
   "outputs": [
    {
     "data": {
      "text/html": [
       "<html><body><table border=\"1\"><tr><th style=\"text-align:left;white-space:pre\">emp_no</th><th style=\"text-align:left;white-space:pre\">birth_date</th><th style=\"text-align:left;white-space:pre\">first_name</th><th style=\"text-align:left;white-space:pre\">last_name</th><th style=\"text-align:left;white-space:pre\">gender</th><th style=\"text-align:left;white-space:pre\">hire_date</th><th style=\"text-align:left;white-space:pre\">title</th><th style=\"text-align:left;white-space:pre\">from_date</th><th style=\"text-align:left;white-space:pre\">to_date</th></tr><tr><td style=\"text-align:left;white-space:pre\">10008</td><td style=\"text-align:left;white-space:pre\">1958-02-19</td><td style=\"text-align:left;white-space:pre\">Saniya</td><td style=\"text-align:left;white-space:pre\">Kalloufi</td><td style=\"text-align:left;white-space:pre\">M</td><td style=\"text-align:left;white-space:pre\">2021-04-11</td><td style=\"text-align:left;white-space:pre\">Senior Engineer</td><td style=\"text-align:left;white-space:pre\">1998-03-11</td><td style=\"text-align:left;white-space:pre\">2000-07-31</td></tr></table></body></html>"
      ]
     },
     "metadata": {},
     "output_type": "display_data"
    }
   ],
   "source": [
    "SELECT * FROM employees.employees e JOIN employees.titles t USING (emp_no)\n",
    "WHERE e.emp_no = 10008;"
   ]
  },
  {
   "cell_type": "markdown",
   "metadata": {},
   "source": [
    "# Consultas de ejemplo"
   ]
  },
  {
   "cell_type": "markdown",
   "metadata": {},
   "source": [
    "## Base de datos Employee:"
   ]
  },
  {
   "cell_type": "code",
   "execution_count": 1,
   "metadata": {},
   "outputs": [
    {
     "data": {
      "text/html": [
       "<html><body><table border=\"1\"><tr><th style=\"text-align:left;white-space:pre\">emp_no</th><th style=\"text-align:left;white-space:pre\">birth_date</th><th style=\"text-align:left;white-space:pre\">first_name</th><th style=\"text-align:left;white-space:pre\">last_name</th><th style=\"text-align:left;white-space:pre\">gender</th><th style=\"text-align:left;white-space:pre\">hire_date</th><th style=\"text-align:left;white-space:pre\">salary</th><th style=\"text-align:left;white-space:pre\">from_date</th><th style=\"text-align:left;white-space:pre\">to_date</th><th style=\"text-align:left;white-space:pre\">title</th><th style=\"text-align:left;white-space:pre\">from_date</th><th style=\"text-align:left;white-space:pre\">to_date</th></tr><tr><td style=\"text-align:left;white-space:pre\">10001</td><td style=\"text-align:left;white-space:pre\">1953-09-02</td><td style=\"text-align:left;white-space:pre\">Georgi</td><td style=\"text-align:left;white-space:pre\">Facello</td><td style=\"text-align:left;white-space:pre\">M</td><td style=\"text-align:left;white-space:pre\">1986-06-26</td><td style=\"text-align:left;white-space:pre\">60117</td><td style=\"text-align:left;white-space:pre\">1986-06-26</td><td style=\"text-align:left;white-space:pre\">1987-06-26</td><td style=\"text-align:left;white-space:pre\">Senior Engineer</td><td style=\"text-align:left;white-space:pre\">1986-06-26</td><td style=\"text-align:left;white-space:pre\">9999-01-01</td></tr><tr><td style=\"text-align:left;white-space:pre\">10001</td><td style=\"text-align:left;white-space:pre\">1953-09-02</td><td style=\"text-align:left;white-space:pre\">Georgi</td><td style=\"text-align:left;white-space:pre\">Facello</td><td style=\"text-align:left;white-space:pre\">M</td><td style=\"text-align:left;white-space:pre\">1986-06-26</td><td style=\"text-align:left;white-space:pre\">62102</td><td style=\"text-align:left;white-space:pre\">1987-06-26</td><td style=\"text-align:left;white-space:pre\">1988-06-25</td><td style=\"text-align:left;white-space:pre\">Senior Engineer</td><td style=\"text-align:left;white-space:pre\">1986-06-26</td><td style=\"text-align:left;white-space:pre\">9999-01-01</td></tr><tr><td style=\"text-align:left;white-space:pre\">10001</td><td style=\"text-align:left;white-space:pre\">1953-09-02</td><td style=\"text-align:left;white-space:pre\">Georgi</td><td style=\"text-align:left;white-space:pre\">Facello</td><td style=\"text-align:left;white-space:pre\">M</td><td style=\"text-align:left;white-space:pre\">1986-06-26</td><td style=\"text-align:left;white-space:pre\">66074</td><td style=\"text-align:left;white-space:pre\">1988-06-25</td><td style=\"text-align:left;white-space:pre\">1989-06-25</td><td style=\"text-align:left;white-space:pre\">Senior Engineer</td><td style=\"text-align:left;white-space:pre\">1986-06-26</td><td style=\"text-align:left;white-space:pre\">9999-01-01</td></tr><tr><td style=\"text-align:left;white-space:pre\">10001</td><td style=\"text-align:left;white-space:pre\">1953-09-02</td><td style=\"text-align:left;white-space:pre\">Georgi</td><td style=\"text-align:left;white-space:pre\">Facello</td><td style=\"text-align:left;white-space:pre\">M</td><td style=\"text-align:left;white-space:pre\">1986-06-26</td><td style=\"text-align:left;white-space:pre\">66596</td><td style=\"text-align:left;white-space:pre\">1989-06-25</td><td style=\"text-align:left;white-space:pre\">1990-06-25</td><td style=\"text-align:left;white-space:pre\">Senior Engineer</td><td style=\"text-align:left;white-space:pre\">1986-06-26</td><td style=\"text-align:left;white-space:pre\">9999-01-01</td></tr><tr><td style=\"text-align:left;white-space:pre\">10001</td><td style=\"text-align:left;white-space:pre\">1953-09-02</td><td style=\"text-align:left;white-space:pre\">Georgi</td><td style=\"text-align:left;white-space:pre\">Facello</td><td style=\"text-align:left;white-space:pre\">M</td><td style=\"text-align:left;white-space:pre\">1986-06-26</td><td style=\"text-align:left;white-space:pre\">66961</td><td style=\"text-align:left;white-space:pre\">1990-06-25</td><td style=\"text-align:left;white-space:pre\">1991-06-25</td><td style=\"text-align:left;white-space:pre\">Senior Engineer</td><td style=\"text-align:left;white-space:pre\">1986-06-26</td><td style=\"text-align:left;white-space:pre\">9999-01-01</td></tr><tr><td style=\"text-align:left;white-space:pre\">10001</td><td style=\"text-align:left;white-space:pre\">1953-09-02</td><td style=\"text-align:left;white-space:pre\">Georgi</td><td style=\"text-align:left;white-space:pre\">Facello</td><td style=\"text-align:left;white-space:pre\">M</td><td style=\"text-align:left;white-space:pre\">1986-06-26</td><td style=\"text-align:left;white-space:pre\">71046</td><td style=\"text-align:left;white-space:pre\">1991-06-25</td><td style=\"text-align:left;white-space:pre\">1992-06-24</td><td style=\"text-align:left;white-space:pre\">Senior Engineer</td><td style=\"text-align:left;white-space:pre\">1986-06-26</td><td style=\"text-align:left;white-space:pre\">9999-01-01</td></tr><tr><td style=\"text-align:left;white-space:pre\">10001</td><td style=\"text-align:left;white-space:pre\">1953-09-02</td><td style=\"text-align:left;white-space:pre\">Georgi</td><td style=\"text-align:left;white-space:pre\">Facello</td><td style=\"text-align:left;white-space:pre\">M</td><td style=\"text-align:left;white-space:pre\">1986-06-26</td><td style=\"text-align:left;white-space:pre\">74333</td><td style=\"text-align:left;white-space:pre\">1992-06-24</td><td style=\"text-align:left;white-space:pre\">1993-06-24</td><td style=\"text-align:left;white-space:pre\">Senior Engineer</td><td style=\"text-align:left;white-space:pre\">1986-06-26</td><td style=\"text-align:left;white-space:pre\">9999-01-01</td></tr><tr><td style=\"text-align:left;white-space:pre\">10001</td><td style=\"text-align:left;white-space:pre\">1953-09-02</td><td style=\"text-align:left;white-space:pre\">Georgi</td><td style=\"text-align:left;white-space:pre\">Facello</td><td style=\"text-align:left;white-space:pre\">M</td><td style=\"text-align:left;white-space:pre\">1986-06-26</td><td style=\"text-align:left;white-space:pre\">75286</td><td style=\"text-align:left;white-space:pre\">1993-06-24</td><td style=\"text-align:left;white-space:pre\">1994-06-24</td><td style=\"text-align:left;white-space:pre\">Senior Engineer</td><td style=\"text-align:left;white-space:pre\">1986-06-26</td><td style=\"text-align:left;white-space:pre\">9999-01-01</td></tr><tr><td style=\"text-align:left;white-space:pre\">10001</td><td style=\"text-align:left;white-space:pre\">1953-09-02</td><td style=\"text-align:left;white-space:pre\">Georgi</td><td style=\"text-align:left;white-space:pre\">Facello</td><td style=\"text-align:left;white-space:pre\">M</td><td style=\"text-align:left;white-space:pre\">1986-06-26</td><td style=\"text-align:left;white-space:pre\">75994</td><td style=\"text-align:left;white-space:pre\">1994-06-24</td><td style=\"text-align:left;white-space:pre\">1995-06-24</td><td style=\"text-align:left;white-space:pre\">Senior Engineer</td><td style=\"text-align:left;white-space:pre\">1986-06-26</td><td style=\"text-align:left;white-space:pre\">9999-01-01</td></tr><tr><td style=\"text-align:left;white-space:pre\">10001</td><td style=\"text-align:left;white-space:pre\">1953-09-02</td><td style=\"text-align:left;white-space:pre\">Georgi</td><td style=\"text-align:left;white-space:pre\">Facello</td><td style=\"text-align:left;white-space:pre\">M</td><td style=\"text-align:left;white-space:pre\">1986-06-26</td><td style=\"text-align:left;white-space:pre\">76884</td><td style=\"text-align:left;white-space:pre\">1995-06-24</td><td style=\"text-align:left;white-space:pre\">1996-06-23</td><td style=\"text-align:left;white-space:pre\">Senior Engineer</td><td style=\"text-align:left;white-space:pre\">1986-06-26</td><td style=\"text-align:left;white-space:pre\">9999-01-01</td></tr></table></body></html>"
      ]
     },
     "metadata": {},
     "output_type": "display_data"
    }
   ],
   "source": [
    "SELECT * FROM employees.employees e \n",
    "JOIN employees.salaries s USING(emp_no)\n",
    "JOIN employees.titles t USING(emp_no) LIMIT 10;"
   ]
  },
  {
   "cell_type": "code",
   "execution_count": 1,
   "metadata": {},
   "outputs": [
    {
     "data": {
      "text/html": [
       "<html><body><table border=\"1\"><tr><th style=\"text-align:left;white-space:pre\">dept_no</th><th style=\"text-align:left;white-space:pre\">emp_no</th><th style=\"text-align:left;white-space:pre\">birth_date</th><th style=\"text-align:left;white-space:pre\">first_name</th><th style=\"text-align:left;white-space:pre\">last_name</th><th style=\"text-align:left;white-space:pre\">gender</th><th style=\"text-align:left;white-space:pre\">hire_date</th><th style=\"text-align:left;white-space:pre\">from_date</th><th style=\"text-align:left;white-space:pre\">to_date</th><th style=\"text-align:left;white-space:pre\">dept_name</th></tr><tr><td style=\"text-align:left;white-space:pre\">d009</td><td style=\"text-align:left;white-space:pre\">10011</td><td style=\"text-align:left;white-space:pre\">1953-11-07</td><td style=\"text-align:left;white-space:pre\">Mary</td><td style=\"text-align:left;white-space:pre\">Sluis</td><td style=\"text-align:left;white-space:pre\">F</td><td style=\"text-align:left;white-space:pre\">1990-01-22</td><td style=\"text-align:left;white-space:pre\">1990-01-22</td><td style=\"text-align:left;white-space:pre\">1996-11-09</td><td style=\"text-align:left;white-space:pre\">Customer Service</td></tr><tr><td style=\"text-align:left;white-space:pre\">d009</td><td style=\"text-align:left;white-space:pre\">10038</td><td style=\"text-align:left;white-space:pre\">1960-07-20</td><td style=\"text-align:left;white-space:pre\">Huan</td><td style=\"text-align:left;white-space:pre\">Lortz</td><td style=\"text-align:left;white-space:pre\">M</td><td style=\"text-align:left;white-space:pre\">1989-09-20</td><td style=\"text-align:left;white-space:pre\">1989-09-20</td><td style=\"text-align:left;white-space:pre\">9999-01-01</td><td style=\"text-align:left;white-space:pre\">Customer Service</td></tr><tr><td style=\"text-align:left;white-space:pre\">d009</td><td style=\"text-align:left;white-space:pre\">10049</td><td style=\"text-align:left;white-space:pre\">1961-04-24</td><td style=\"text-align:left;white-space:pre\">Basil</td><td style=\"text-align:left;white-space:pre\">Tramer</td><td style=\"text-align:left;white-space:pre\">F</td><td style=\"text-align:left;white-space:pre\">1992-05-04</td><td style=\"text-align:left;white-space:pre\">1992-05-04</td><td style=\"text-align:left;white-space:pre\">9999-01-01</td><td style=\"text-align:left;white-space:pre\">Customer Service</td></tr><tr><td style=\"text-align:left;white-space:pre\">d009</td><td style=\"text-align:left;white-space:pre\">10060</td><td style=\"text-align:left;white-space:pre\">1961-10-15</td><td style=\"text-align:left;white-space:pre\">Breannda</td><td style=\"text-align:left;white-space:pre\">Billingsley</td><td style=\"text-align:left;white-space:pre\">M</td><td style=\"text-align:left;white-space:pre\">1987-11-02</td><td style=\"text-align:left;white-space:pre\">1992-11-11</td><td style=\"text-align:left;white-space:pre\">9999-01-01</td><td style=\"text-align:left;white-space:pre\">Customer Service</td></tr><tr><td style=\"text-align:left;white-space:pre\">d009</td><td style=\"text-align:left;white-space:pre\">10088</td><td style=\"text-align:left;white-space:pre\">1954-02-25</td><td style=\"text-align:left;white-space:pre\">Jungsoon</td><td style=\"text-align:left;white-space:pre\">Syrzycki</td><td style=\"text-align:left;white-space:pre\">F</td><td style=\"text-align:left;white-space:pre\">1988-09-02</td><td style=\"text-align:left;white-space:pre\">1992-03-21</td><td style=\"text-align:left;white-space:pre\">9999-01-01</td><td style=\"text-align:left;white-space:pre\">Customer Service</td></tr><tr><td style=\"text-align:left;white-space:pre\">d009</td><td style=\"text-align:left;white-space:pre\">10098</td><td style=\"text-align:left;white-space:pre\">1961-09-23</td><td style=\"text-align:left;white-space:pre\">Sreekrishna</td><td style=\"text-align:left;white-space:pre\">Servieres</td><td style=\"text-align:left;white-space:pre\">F</td><td style=\"text-align:left;white-space:pre\">1985-05-13</td><td style=\"text-align:left;white-space:pre\">1989-06-29</td><td style=\"text-align:left;white-space:pre\">1992-12-11</td><td style=\"text-align:left;white-space:pre\">Customer Service</td></tr><tr><td style=\"text-align:left;white-space:pre\">d009</td><td style=\"text-align:left;white-space:pre\">10112</td><td style=\"text-align:left;white-space:pre\">1963-08-13</td><td style=\"text-align:left;white-space:pre\">Yuichiro</td><td style=\"text-align:left;white-space:pre\">Swick</td><td style=\"text-align:left;white-space:pre\">F</td><td style=\"text-align:left;white-space:pre\">1985-10-08</td><td style=\"text-align:left;white-space:pre\">1998-05-01</td><td style=\"text-align:left;white-space:pre\">9999-01-01</td><td style=\"text-align:left;white-space:pre\">Customer Service</td></tr><tr><td style=\"text-align:left;white-space:pre\">d009</td><td style=\"text-align:left;white-space:pre\">10115</td><td style=\"text-align:left;white-space:pre\">1964-12-25</td><td style=\"text-align:left;white-space:pre\">Chikara</td><td style=\"text-align:left;white-space:pre\">Rissland</td><td style=\"text-align:left;white-space:pre\">M</td><td style=\"text-align:left;white-space:pre\">1986-01-23</td><td style=\"text-align:left;white-space:pre\">1988-03-03</td><td style=\"text-align:left;white-space:pre\">1992-05-24</td><td style=\"text-align:left;white-space:pre\">Customer Service</td></tr><tr><td style=\"text-align:left;white-space:pre\">d009</td><td style=\"text-align:left;white-space:pre\">10126</td><td style=\"text-align:left;white-space:pre\">1954-08-07</td><td style=\"text-align:left;white-space:pre\">Kayoko</td><td style=\"text-align:left;white-space:pre\">Valtorta</td><td style=\"text-align:left;white-space:pre\">M</td><td style=\"text-align:left;white-space:pre\">1985-09-08</td><td style=\"text-align:left;white-space:pre\">1985-09-08</td><td style=\"text-align:left;white-space:pre\">9999-01-01</td><td style=\"text-align:left;white-space:pre\">Customer Service</td></tr><tr><td style=\"text-align:left;white-space:pre\">d009</td><td style=\"text-align:left;white-space:pre\">10128</td><td style=\"text-align:left;white-space:pre\">1958-02-15</td><td style=\"text-align:left;white-space:pre\">Babette</td><td style=\"text-align:left;white-space:pre\">Lamba</td><td style=\"text-align:left;white-space:pre\">F</td><td style=\"text-align:left;white-space:pre\">1988-06-06</td><td style=\"text-align:left;white-space:pre\">1988-06-06</td><td style=\"text-align:left;white-space:pre\">9999-01-01</td><td style=\"text-align:left;white-space:pre\">Customer Service</td></tr></table></body></html>"
      ]
     },
     "metadata": {},
     "output_type": "display_data"
    }
   ],
   "source": [
    "SELECT * FROM employees.employees e \n",
    "JOIN employees.dept_emp de USING(emp_no)\n",
    "JOIN employees.departments d USING(dept_no) LIMIT 10;"
   ]
  },
  {
   "cell_type": "markdown",
   "metadata": {},
   "source": [
    "## Base de datos World:"
   ]
  },
  {
   "cell_type": "code",
   "execution_count": 3,
   "metadata": {},
   "outputs": [
    {
     "data": {
      "text/html": [
       "<html><body><table border=\"1\"><tr><th style=\"text-align:left;white-space:pre\">ID</th><th style=\"text-align:left;white-space:pre\">Name</th><th style=\"text-align:left;white-space:pre\">CountryCode</th><th style=\"text-align:left;white-space:pre\">District</th><th style=\"text-align:left;white-space:pre\">Population</th><th style=\"text-align:left;white-space:pre\">Code</th><th style=\"text-align:left;white-space:pre\">Name</th><th style=\"text-align:left;white-space:pre\">Continent</th><th style=\"text-align:left;white-space:pre\">Region</th><th style=\"text-align:left;white-space:pre\">SurfaceArea</th><th style=\"text-align:left;white-space:pre\">IndepYear</th><th style=\"text-align:left;white-space:pre\">Population</th><th style=\"text-align:left;white-space:pre\">LifeExpectancy</th><th style=\"text-align:left;white-space:pre\">GNP</th><th style=\"text-align:left;white-space:pre\">GNPOld</th><th style=\"text-align:left;white-space:pre\">LocalName</th><th style=\"text-align:left;white-space:pre\">GovernmentForm</th><th style=\"text-align:left;white-space:pre\">HeadOfState</th><th style=\"text-align:left;white-space:pre\">Capital</th><th style=\"text-align:left;white-space:pre\">Code2</th><th style=\"text-align:left;white-space:pre\">CountryCode</th><th style=\"text-align:left;white-space:pre\">Language</th><th style=\"text-align:left;white-space:pre\">IsOfficial</th><th style=\"text-align:left;white-space:pre\">Percentage</th></tr><tr><td style=\"text-align:left;white-space:pre\">129</td><td style=\"text-align:left;white-space:pre\">Oranjestad</td><td style=\"text-align:left;white-space:pre\">ABW</td><td style=\"text-align:left;white-space:pre\">–</td><td style=\"text-align:left;white-space:pre\">29034</td><td style=\"text-align:left;white-space:pre\">ABW</td><td style=\"text-align:left;white-space:pre\">Aruba</td><td style=\"text-align:left;white-space:pre\">North America</td><td style=\"text-align:left;white-space:pre\">Caribbean</td><td style=\"text-align:left;white-space:pre\">193.00</td><td style=\"text-align:left;white-space:pre\">NULL</td><td style=\"text-align:left;white-space:pre\">103000</td><td style=\"text-align:left;white-space:pre\">78.4</td><td style=\"text-align:left;white-space:pre\">828.00</td><td style=\"text-align:left;white-space:pre\">793.00</td><td style=\"text-align:left;white-space:pre\">Aruba</td><td style=\"text-align:left;white-space:pre\">Nonmetropolitan Territory of The Netherlands</td><td style=\"text-align:left;white-space:pre\">Beatrix</td><td style=\"text-align:left;white-space:pre\">129</td><td style=\"text-align:left;white-space:pre\">AW</td><td style=\"text-align:left;white-space:pre\">ABW</td><td style=\"text-align:left;white-space:pre\">Dutch</td><td style=\"text-align:left;white-space:pre\">T</td><td style=\"text-align:left;white-space:pre\">5.3</td></tr><tr><td style=\"text-align:left;white-space:pre\">129</td><td style=\"text-align:left;white-space:pre\">Oranjestad</td><td style=\"text-align:left;white-space:pre\">ABW</td><td style=\"text-align:left;white-space:pre\">–</td><td style=\"text-align:left;white-space:pre\">29034</td><td style=\"text-align:left;white-space:pre\">ABW</td><td style=\"text-align:left;white-space:pre\">Aruba</td><td style=\"text-align:left;white-space:pre\">North America</td><td style=\"text-align:left;white-space:pre\">Caribbean</td><td style=\"text-align:left;white-space:pre\">193.00</td><td style=\"text-align:left;white-space:pre\">NULL</td><td style=\"text-align:left;white-space:pre\">103000</td><td style=\"text-align:left;white-space:pre\">78.4</td><td style=\"text-align:left;white-space:pre\">828.00</td><td style=\"text-align:left;white-space:pre\">793.00</td><td style=\"text-align:left;white-space:pre\">Aruba</td><td style=\"text-align:left;white-space:pre\">Nonmetropolitan Territory of The Netherlands</td><td style=\"text-align:left;white-space:pre\">Beatrix</td><td style=\"text-align:left;white-space:pre\">129</td><td style=\"text-align:left;white-space:pre\">AW</td><td style=\"text-align:left;white-space:pre\">ABW</td><td style=\"text-align:left;white-space:pre\">English</td><td style=\"text-align:left;white-space:pre\">F</td><td style=\"text-align:left;white-space:pre\">9.5</td></tr><tr><td style=\"text-align:left;white-space:pre\">129</td><td style=\"text-align:left;white-space:pre\">Oranjestad</td><td style=\"text-align:left;white-space:pre\">ABW</td><td style=\"text-align:left;white-space:pre\">–</td><td style=\"text-align:left;white-space:pre\">29034</td><td style=\"text-align:left;white-space:pre\">ABW</td><td style=\"text-align:left;white-space:pre\">Aruba</td><td style=\"text-align:left;white-space:pre\">North America</td><td style=\"text-align:left;white-space:pre\">Caribbean</td><td style=\"text-align:left;white-space:pre\">193.00</td><td style=\"text-align:left;white-space:pre\">NULL</td><td style=\"text-align:left;white-space:pre\">103000</td><td style=\"text-align:left;white-space:pre\">78.4</td><td style=\"text-align:left;white-space:pre\">828.00</td><td style=\"text-align:left;white-space:pre\">793.00</td><td style=\"text-align:left;white-space:pre\">Aruba</td><td style=\"text-align:left;white-space:pre\">Nonmetropolitan Territory of The Netherlands</td><td style=\"text-align:left;white-space:pre\">Beatrix</td><td style=\"text-align:left;white-space:pre\">129</td><td style=\"text-align:left;white-space:pre\">AW</td><td style=\"text-align:left;white-space:pre\">ABW</td><td style=\"text-align:left;white-space:pre\">Papiamento</td><td style=\"text-align:left;white-space:pre\">F</td><td style=\"text-align:left;white-space:pre\">76.7</td></tr><tr><td style=\"text-align:left;white-space:pre\">129</td><td style=\"text-align:left;white-space:pre\">Oranjestad</td><td style=\"text-align:left;white-space:pre\">ABW</td><td style=\"text-align:left;white-space:pre\">–</td><td style=\"text-align:left;white-space:pre\">29034</td><td style=\"text-align:left;white-space:pre\">ABW</td><td style=\"text-align:left;white-space:pre\">Aruba</td><td style=\"text-align:left;white-space:pre\">North America</td><td style=\"text-align:left;white-space:pre\">Caribbean</td><td style=\"text-align:left;white-space:pre\">193.00</td><td style=\"text-align:left;white-space:pre\">NULL</td><td style=\"text-align:left;white-space:pre\">103000</td><td style=\"text-align:left;white-space:pre\">78.4</td><td style=\"text-align:left;white-space:pre\">828.00</td><td style=\"text-align:left;white-space:pre\">793.00</td><td style=\"text-align:left;white-space:pre\">Aruba</td><td style=\"text-align:left;white-space:pre\">Nonmetropolitan Territory of The Netherlands</td><td style=\"text-align:left;white-space:pre\">Beatrix</td><td style=\"text-align:left;white-space:pre\">129</td><td style=\"text-align:left;white-space:pre\">AW</td><td style=\"text-align:left;white-space:pre\">ABW</td><td style=\"text-align:left;white-space:pre\">Spanish</td><td style=\"text-align:left;white-space:pre\">F</td><td style=\"text-align:left;white-space:pre\">7.4</td></tr><tr><td style=\"text-align:left;white-space:pre\">1</td><td style=\"text-align:left;white-space:pre\">Kabul</td><td style=\"text-align:left;white-space:pre\">AFG</td><td style=\"text-align:left;white-space:pre\">Kabol</td><td style=\"text-align:left;white-space:pre\">1780000</td><td style=\"text-align:left;white-space:pre\">AFG</td><td style=\"text-align:left;white-space:pre\">Afghanistan</td><td style=\"text-align:left;white-space:pre\">Asia</td><td style=\"text-align:left;white-space:pre\">Southern and Central Asia</td><td style=\"text-align:left;white-space:pre\">652090.00</td><td style=\"text-align:left;white-space:pre\">1919</td><td style=\"text-align:left;white-space:pre\">22720000</td><td style=\"text-align:left;white-space:pre\">45.9</td><td style=\"text-align:left;white-space:pre\">5976.00</td><td style=\"text-align:left;white-space:pre\">NULL</td><td style=\"text-align:left;white-space:pre\">Afganistan/Afqanestan</td><td style=\"text-align:left;white-space:pre\">Islamic Emirate</td><td style=\"text-align:left;white-space:pre\">Mohammad Omar</td><td style=\"text-align:left;white-space:pre\">1</td><td style=\"text-align:left;white-space:pre\">AF</td><td style=\"text-align:left;white-space:pre\">AFG</td><td style=\"text-align:left;white-space:pre\">Balochi</td><td style=\"text-align:left;white-space:pre\">F</td><td style=\"text-align:left;white-space:pre\">0.9</td></tr><tr><td style=\"text-align:left;white-space:pre\">1</td><td style=\"text-align:left;white-space:pre\">Kabul</td><td style=\"text-align:left;white-space:pre\">AFG</td><td style=\"text-align:left;white-space:pre\">Kabol</td><td style=\"text-align:left;white-space:pre\">1780000</td><td style=\"text-align:left;white-space:pre\">AFG</td><td style=\"text-align:left;white-space:pre\">Afghanistan</td><td style=\"text-align:left;white-space:pre\">Asia</td><td style=\"text-align:left;white-space:pre\">Southern and Central Asia</td><td style=\"text-align:left;white-space:pre\">652090.00</td><td style=\"text-align:left;white-space:pre\">1919</td><td style=\"text-align:left;white-space:pre\">22720000</td><td style=\"text-align:left;white-space:pre\">45.9</td><td style=\"text-align:left;white-space:pre\">5976.00</td><td style=\"text-align:left;white-space:pre\">NULL</td><td style=\"text-align:left;white-space:pre\">Afganistan/Afqanestan</td><td style=\"text-align:left;white-space:pre\">Islamic Emirate</td><td style=\"text-align:left;white-space:pre\">Mohammad Omar</td><td style=\"text-align:left;white-space:pre\">1</td><td style=\"text-align:left;white-space:pre\">AF</td><td style=\"text-align:left;white-space:pre\">AFG</td><td style=\"text-align:left;white-space:pre\">Dari</td><td style=\"text-align:left;white-space:pre\">T</td><td style=\"text-align:left;white-space:pre\">32.1</td></tr><tr><td style=\"text-align:left;white-space:pre\">1</td><td style=\"text-align:left;white-space:pre\">Kabul</td><td style=\"text-align:left;white-space:pre\">AFG</td><td style=\"text-align:left;white-space:pre\">Kabol</td><td style=\"text-align:left;white-space:pre\">1780000</td><td style=\"text-align:left;white-space:pre\">AFG</td><td style=\"text-align:left;white-space:pre\">Afghanistan</td><td style=\"text-align:left;white-space:pre\">Asia</td><td style=\"text-align:left;white-space:pre\">Southern and Central Asia</td><td style=\"text-align:left;white-space:pre\">652090.00</td><td style=\"text-align:left;white-space:pre\">1919</td><td style=\"text-align:left;white-space:pre\">22720000</td><td style=\"text-align:left;white-space:pre\">45.9</td><td style=\"text-align:left;white-space:pre\">5976.00</td><td style=\"text-align:left;white-space:pre\">NULL</td><td style=\"text-align:left;white-space:pre\">Afganistan/Afqanestan</td><td style=\"text-align:left;white-space:pre\">Islamic Emirate</td><td style=\"text-align:left;white-space:pre\">Mohammad Omar</td><td style=\"text-align:left;white-space:pre\">1</td><td style=\"text-align:left;white-space:pre\">AF</td><td style=\"text-align:left;white-space:pre\">AFG</td><td style=\"text-align:left;white-space:pre\">Pashto</td><td style=\"text-align:left;white-space:pre\">T</td><td style=\"text-align:left;white-space:pre\">52.4</td></tr><tr><td style=\"text-align:left;white-space:pre\">1</td><td style=\"text-align:left;white-space:pre\">Kabul</td><td style=\"text-align:left;white-space:pre\">AFG</td><td style=\"text-align:left;white-space:pre\">Kabol</td><td style=\"text-align:left;white-space:pre\">1780000</td><td style=\"text-align:left;white-space:pre\">AFG</td><td style=\"text-align:left;white-space:pre\">Afghanistan</td><td style=\"text-align:left;white-space:pre\">Asia</td><td style=\"text-align:left;white-space:pre\">Southern and Central Asia</td><td style=\"text-align:left;white-space:pre\">652090.00</td><td style=\"text-align:left;white-space:pre\">1919</td><td style=\"text-align:left;white-space:pre\">22720000</td><td style=\"text-align:left;white-space:pre\">45.9</td><td style=\"text-align:left;white-space:pre\">5976.00</td><td style=\"text-align:left;white-space:pre\">NULL</td><td style=\"text-align:left;white-space:pre\">Afganistan/Afqanestan</td><td style=\"text-align:left;white-space:pre\">Islamic Emirate</td><td style=\"text-align:left;white-space:pre\">Mohammad Omar</td><td style=\"text-align:left;white-space:pre\">1</td><td style=\"text-align:left;white-space:pre\">AF</td><td style=\"text-align:left;white-space:pre\">AFG</td><td style=\"text-align:left;white-space:pre\">Turkmenian</td><td style=\"text-align:left;white-space:pre\">F</td><td style=\"text-align:left;white-space:pre\">1.9</td></tr><tr><td style=\"text-align:left;white-space:pre\">1</td><td style=\"text-align:left;white-space:pre\">Kabul</td><td style=\"text-align:left;white-space:pre\">AFG</td><td style=\"text-align:left;white-space:pre\">Kabol</td><td style=\"text-align:left;white-space:pre\">1780000</td><td style=\"text-align:left;white-space:pre\">AFG</td><td style=\"text-align:left;white-space:pre\">Afghanistan</td><td style=\"text-align:left;white-space:pre\">Asia</td><td style=\"text-align:left;white-space:pre\">Southern and Central Asia</td><td style=\"text-align:left;white-space:pre\">652090.00</td><td style=\"text-align:left;white-space:pre\">1919</td><td style=\"text-align:left;white-space:pre\">22720000</td><td style=\"text-align:left;white-space:pre\">45.9</td><td style=\"text-align:left;white-space:pre\">5976.00</td><td style=\"text-align:left;white-space:pre\">NULL</td><td style=\"text-align:left;white-space:pre\">Afganistan/Afqanestan</td><td style=\"text-align:left;white-space:pre\">Islamic Emirate</td><td style=\"text-align:left;white-space:pre\">Mohammad Omar</td><td style=\"text-align:left;white-space:pre\">1</td><td style=\"text-align:left;white-space:pre\">AF</td><td style=\"text-align:left;white-space:pre\">AFG</td><td style=\"text-align:left;white-space:pre\">Uzbek</td><td style=\"text-align:left;white-space:pre\">F</td><td style=\"text-align:left;white-space:pre\">8.8</td></tr><tr><td style=\"text-align:left;white-space:pre\">2</td><td style=\"text-align:left;white-space:pre\">Qandahar</td><td style=\"text-align:left;white-space:pre\">AFG</td><td style=\"text-align:left;white-space:pre\">Qandahar</td><td style=\"text-align:left;white-space:pre\">237500</td><td style=\"text-align:left;white-space:pre\">AFG</td><td style=\"text-align:left;white-space:pre\">Afghanistan</td><td style=\"text-align:left;white-space:pre\">Asia</td><td style=\"text-align:left;white-space:pre\">Southern and Central Asia</td><td style=\"text-align:left;white-space:pre\">652090.00</td><td style=\"text-align:left;white-space:pre\">1919</td><td style=\"text-align:left;white-space:pre\">22720000</td><td style=\"text-align:left;white-space:pre\">45.9</td><td style=\"text-align:left;white-space:pre\">5976.00</td><td style=\"text-align:left;white-space:pre\">NULL</td><td style=\"text-align:left;white-space:pre\">Afganistan/Afqanestan</td><td style=\"text-align:left;white-space:pre\">Islamic Emirate</td><td style=\"text-align:left;white-space:pre\">Mohammad Omar</td><td style=\"text-align:left;white-space:pre\">1</td><td style=\"text-align:left;white-space:pre\">AF</td><td style=\"text-align:left;white-space:pre\">AFG</td><td style=\"text-align:left;white-space:pre\">Balochi</td><td style=\"text-align:left;white-space:pre\">F</td><td style=\"text-align:left;white-space:pre\">0.9</td></tr></table></body></html>"
      ]
     },
     "metadata": {},
     "output_type": "display_data"
    }
   ],
   "source": [
    "SELECT * FROM world.city c \n",
    "JOIN world.country c2 ON c2.Code = c.CountryCode \n",
    "JOIN world.countrylanguage c3 ON c3.CountryCode = c2.Code LIMIT 10;"
   ]
  },
  {
   "cell_type": "markdown",
   "metadata": {},
   "source": [
    "## Base de datos World-X"
   ]
  },
  {
   "cell_type": "code",
   "execution_count": 4,
   "metadata": {},
   "outputs": [
    {
     "data": {
      "text/html": [
       "<html><body><table border=\"1\"><tr><th style=\"text-align:left;white-space:pre\">ID</th><th style=\"text-align:left;white-space:pre\">Name</th><th style=\"text-align:left;white-space:pre\">CountryCode</th><th style=\"text-align:left;white-space:pre\">District</th><th style=\"text-align:left;white-space:pre\">Info</th><th style=\"text-align:left;white-space:pre\">Code</th><th style=\"text-align:left;white-space:pre\">Name</th><th style=\"text-align:left;white-space:pre\">Capital</th><th style=\"text-align:left;white-space:pre\">Code2</th><th style=\"text-align:left;white-space:pre\">CountryCode</th><th style=\"text-align:left;white-space:pre\">Language</th><th style=\"text-align:left;white-space:pre\">IsOfficial</th><th style=\"text-align:left;white-space:pre\">Percentage</th></tr><tr><td style=\"text-align:left;white-space:pre\">1</td><td style=\"text-align:left;white-space:pre\">Kabul</td><td style=\"text-align:left;white-space:pre\">AFG</td><td style=\"text-align:left;white-space:pre\">Kabol</td><td style=\"text-align:left;white-space:pre\">{\"Population\": 1780000}</td><td style=\"text-align:left;white-space:pre\">AFG</td><td style=\"text-align:left;white-space:pre\">Afghanistan</td><td style=\"text-align:left;white-space:pre\">1</td><td style=\"text-align:left;white-space:pre\">AF</td><td style=\"text-align:left;white-space:pre\">AFG</td><td style=\"text-align:left;white-space:pre\">Balochi</td><td style=\"text-align:left;white-space:pre\">F</td><td style=\"text-align:left;white-space:pre\">0.9</td></tr><tr><td style=\"text-align:left;white-space:pre\">1</td><td style=\"text-align:left;white-space:pre\">Kabul</td><td style=\"text-align:left;white-space:pre\">AFG</td><td style=\"text-align:left;white-space:pre\">Kabol</td><td style=\"text-align:left;white-space:pre\">{\"Population\": 1780000}</td><td style=\"text-align:left;white-space:pre\">AFG</td><td style=\"text-align:left;white-space:pre\">Afghanistan</td><td style=\"text-align:left;white-space:pre\">1</td><td style=\"text-align:left;white-space:pre\">AF</td><td style=\"text-align:left;white-space:pre\">AFG</td><td style=\"text-align:left;white-space:pre\">Dari</td><td style=\"text-align:left;white-space:pre\">T</td><td style=\"text-align:left;white-space:pre\">32.1</td></tr><tr><td style=\"text-align:left;white-space:pre\">1</td><td style=\"text-align:left;white-space:pre\">Kabul</td><td style=\"text-align:left;white-space:pre\">AFG</td><td style=\"text-align:left;white-space:pre\">Kabol</td><td style=\"text-align:left;white-space:pre\">{\"Population\": 1780000}</td><td style=\"text-align:left;white-space:pre\">AFG</td><td style=\"text-align:left;white-space:pre\">Afghanistan</td><td style=\"text-align:left;white-space:pre\">1</td><td style=\"text-align:left;white-space:pre\">AF</td><td style=\"text-align:left;white-space:pre\">AFG</td><td style=\"text-align:left;white-space:pre\">Pashto</td><td style=\"text-align:left;white-space:pre\">T</td><td style=\"text-align:left;white-space:pre\">52.4</td></tr><tr><td style=\"text-align:left;white-space:pre\">1</td><td style=\"text-align:left;white-space:pre\">Kabul</td><td style=\"text-align:left;white-space:pre\">AFG</td><td style=\"text-align:left;white-space:pre\">Kabol</td><td style=\"text-align:left;white-space:pre\">{\"Population\": 1780000}</td><td style=\"text-align:left;white-space:pre\">AFG</td><td style=\"text-align:left;white-space:pre\">Afghanistan</td><td style=\"text-align:left;white-space:pre\">1</td><td style=\"text-align:left;white-space:pre\">AF</td><td style=\"text-align:left;white-space:pre\">AFG</td><td style=\"text-align:left;white-space:pre\">Turkmenian</td><td style=\"text-align:left;white-space:pre\">F</td><td style=\"text-align:left;white-space:pre\">1.9</td></tr><tr><td style=\"text-align:left;white-space:pre\">1</td><td style=\"text-align:left;white-space:pre\">Kabul</td><td style=\"text-align:left;white-space:pre\">AFG</td><td style=\"text-align:left;white-space:pre\">Kabol</td><td style=\"text-align:left;white-space:pre\">{\"Population\": 1780000}</td><td style=\"text-align:left;white-space:pre\">AFG</td><td style=\"text-align:left;white-space:pre\">Afghanistan</td><td style=\"text-align:left;white-space:pre\">1</td><td style=\"text-align:left;white-space:pre\">AF</td><td style=\"text-align:left;white-space:pre\">AFG</td><td style=\"text-align:left;white-space:pre\">Uzbek</td><td style=\"text-align:left;white-space:pre\">F</td><td style=\"text-align:left;white-space:pre\">8.8</td></tr><tr><td style=\"text-align:left;white-space:pre\">2</td><td style=\"text-align:left;white-space:pre\">Qandahar</td><td style=\"text-align:left;white-space:pre\">AFG</td><td style=\"text-align:left;white-space:pre\">Qandahar</td><td style=\"text-align:left;white-space:pre\">{\"Population\": 237500}</td><td style=\"text-align:left;white-space:pre\">AFG</td><td style=\"text-align:left;white-space:pre\">Afghanistan</td><td style=\"text-align:left;white-space:pre\">1</td><td style=\"text-align:left;white-space:pre\">AF</td><td style=\"text-align:left;white-space:pre\">AFG</td><td style=\"text-align:left;white-space:pre\">Balochi</td><td style=\"text-align:left;white-space:pre\">F</td><td style=\"text-align:left;white-space:pre\">0.9</td></tr><tr><td style=\"text-align:left;white-space:pre\">2</td><td style=\"text-align:left;white-space:pre\">Qandahar</td><td style=\"text-align:left;white-space:pre\">AFG</td><td style=\"text-align:left;white-space:pre\">Qandahar</td><td style=\"text-align:left;white-space:pre\">{\"Population\": 237500}</td><td style=\"text-align:left;white-space:pre\">AFG</td><td style=\"text-align:left;white-space:pre\">Afghanistan</td><td style=\"text-align:left;white-space:pre\">1</td><td style=\"text-align:left;white-space:pre\">AF</td><td style=\"text-align:left;white-space:pre\">AFG</td><td style=\"text-align:left;white-space:pre\">Dari</td><td style=\"text-align:left;white-space:pre\">T</td><td style=\"text-align:left;white-space:pre\">32.1</td></tr><tr><td style=\"text-align:left;white-space:pre\">2</td><td style=\"text-align:left;white-space:pre\">Qandahar</td><td style=\"text-align:left;white-space:pre\">AFG</td><td style=\"text-align:left;white-space:pre\">Qandahar</td><td style=\"text-align:left;white-space:pre\">{\"Population\": 237500}</td><td style=\"text-align:left;white-space:pre\">AFG</td><td style=\"text-align:left;white-space:pre\">Afghanistan</td><td style=\"text-align:left;white-space:pre\">1</td><td style=\"text-align:left;white-space:pre\">AF</td><td style=\"text-align:left;white-space:pre\">AFG</td><td style=\"text-align:left;white-space:pre\">Pashto</td><td style=\"text-align:left;white-space:pre\">T</td><td style=\"text-align:left;white-space:pre\">52.4</td></tr><tr><td style=\"text-align:left;white-space:pre\">2</td><td style=\"text-align:left;white-space:pre\">Qandahar</td><td style=\"text-align:left;white-space:pre\">AFG</td><td style=\"text-align:left;white-space:pre\">Qandahar</td><td style=\"text-align:left;white-space:pre\">{\"Population\": 237500}</td><td style=\"text-align:left;white-space:pre\">AFG</td><td style=\"text-align:left;white-space:pre\">Afghanistan</td><td style=\"text-align:left;white-space:pre\">1</td><td style=\"text-align:left;white-space:pre\">AF</td><td style=\"text-align:left;white-space:pre\">AFG</td><td style=\"text-align:left;white-space:pre\">Turkmenian</td><td style=\"text-align:left;white-space:pre\">F</td><td style=\"text-align:left;white-space:pre\">1.9</td></tr><tr><td style=\"text-align:left;white-space:pre\">2</td><td style=\"text-align:left;white-space:pre\">Qandahar</td><td style=\"text-align:left;white-space:pre\">AFG</td><td style=\"text-align:left;white-space:pre\">Qandahar</td><td style=\"text-align:left;white-space:pre\">{\"Population\": 237500}</td><td style=\"text-align:left;white-space:pre\">AFG</td><td style=\"text-align:left;white-space:pre\">Afghanistan</td><td style=\"text-align:left;white-space:pre\">1</td><td style=\"text-align:left;white-space:pre\">AF</td><td style=\"text-align:left;white-space:pre\">AFG</td><td style=\"text-align:left;white-space:pre\">Uzbek</td><td style=\"text-align:left;white-space:pre\">F</td><td style=\"text-align:left;white-space:pre\">8.8</td></tr></table></body></html>"
      ]
     },
     "metadata": {},
     "output_type": "display_data"
    }
   ],
   "source": [
    "SELECT * FROM world_x.city c \n",
    "JOIN world_x.country c2 ON c2.Code = c.CountryCode \n",
    "JOIN world_x.countrylanguage c3 ON c3.CountryCode = c2.Code LIMIT 10;"
   ]
  },
  {
   "cell_type": "markdown",
   "metadata": {},
   "source": [
    "## Base de datos Sakila:"
   ]
  },
  {
   "cell_type": "code",
   "execution_count": 7,
   "metadata": {},
   "outputs": [
    {
     "data": {
      "text/html": [
       "<html><body><table border=\"1\"><tr><th style=\"text-align:left;white-space:pre\">Actor</th></tr><tr><td style=\"text-align:left;white-space:pre\">DEBBIE AKROYD</td></tr><tr><td style=\"text-align:left;white-space:pre\">KIRSTEN AKROYD</td></tr><tr><td style=\"text-align:left;white-space:pre\">CHRISTIAN AKROYD</td></tr><tr><td style=\"text-align:left;white-space:pre\">MERYL ALLEN</td></tr><tr><td style=\"text-align:left;white-space:pre\">CUBA ALLEN</td></tr><tr><td style=\"text-align:left;white-space:pre\">KIM ALLEN</td></tr><tr><td style=\"text-align:left;white-space:pre\">ANGELINA ASTAIRE</td></tr><tr><td style=\"text-align:left;white-space:pre\">RUSSELL BACALL</td></tr><tr><td style=\"text-align:left;white-space:pre\">AUDREY BAILEY</td></tr><tr><td style=\"text-align:left;white-space:pre\">JESSICA BAILEY</td></tr></table></body></html>"
      ]
     },
     "metadata": {},
     "output_type": "display_data"
    }
   ],
   "source": [
    "SELECT CONCAT(s.first_name, _utf8' ',  s.last_name) AS Actor \n",
    "FROM sakila.actor as s\n",
    "order by s.last_name LIMIT 10;"
   ]
  },
  {
   "cell_type": "code",
   "execution_count": 9,
   "metadata": {},
   "outputs": [
    {
     "data": {
      "text/html": [
       "<html><body><table border=\"1\"><tr><th style=\"text-align:left;white-space:pre\">categoria</th><th style=\"text-align:left;white-space:pre\">numero_actores</th></tr><tr><td style=\"text-align:left;white-space:pre\">Sports</td><td style=\"text-align:left;white-space:pre\">441</td></tr><tr><td style=\"text-align:left;white-space:pre\">Foreign</td><td style=\"text-align:left;white-space:pre\">397</td></tr><tr><td style=\"text-align:left;white-space:pre\">Documentary</td><td style=\"text-align:left;white-space:pre\">385</td></tr><tr><td style=\"text-align:left;white-space:pre\">Action</td><td style=\"text-align:left;white-space:pre\">363</td></tr><tr><td style=\"text-align:left;white-space:pre\">Animation</td><td style=\"text-align:left;white-space:pre\">361</td></tr><tr><td style=\"text-align:left;white-space:pre\">Drama</td><td style=\"text-align:left;white-space:pre\">350</td></tr><tr><td style=\"text-align:left;white-space:pre\">Family</td><td style=\"text-align:left;white-space:pre\">347</td></tr><tr><td style=\"text-align:left;white-space:pre\">Children</td><td style=\"text-align:left;white-space:pre\">344</td></tr><tr><td style=\"text-align:left;white-space:pre\">New</td><td style=\"text-align:left;white-space:pre\">343</td></tr><tr><td style=\"text-align:left;white-space:pre\">Sci-Fi</td><td style=\"text-align:left;white-space:pre\">326</td></tr></table></body></html>"
      ]
     },
     "metadata": {},
     "output_type": "display_data"
    }
   ],
   "source": [
    "SELECT c.name as categoria, COUNT(actor_id) AS numero_actores\n",
    "FROM sakila.category AS c\n",
    "JOIN sakila.film_category as fc ON c.category_id = fc.category_id\n",
    "JOIN sakila.film as f ON fc.film_id = f.film_id\n",
    "JOIN sakila.film_actor as fa ON f.film_id = fa.film_id\n",
    "GROUP BY categoria\n",
    "ORDER BY numero_actores DESC LIMIT 10;"
   ]
  },
  {
   "cell_type": "code",
   "execution_count": 10,
   "metadata": {},
   "outputs": [
    {
     "data": {
      "text/html": [
       "<html><body><table border=\"1\"><tr><th style=\"text-align:left;white-space:pre\">tienda</th><th style=\"text-align:left;white-space:pre\">actor_estrella</th><th style=\"text-align:left;white-space:pre\">valor</th></tr><tr><td style=\"text-align:left;white-space:pre\">28 MySQL Boulevard</td><td style=\"text-align:left;white-space:pre\">PENELOPE GUINESS</td><td style=\"text-align:left;white-space:pre\">11.99</td></tr><tr><td style=\"text-align:left;white-space:pre\">47 MySakila Drive</td><td style=\"text-align:left;white-space:pre\">PENELOPE GUINESS</td><td style=\"text-align:left;white-space:pre\">11.99</td></tr></table></body></html>"
      ]
     },
     "metadata": {},
     "output_type": "display_data"
    }
   ],
   "source": [
    "SELECT  d.address as tienda,\n",
    "        CONCAT(a.first_name, _utf8' ',  a.last_name) AS actor_estrella,\n",
    "        MAX(p.amount) as valor\n",
    "FROM sakila.actor AS a\n",
    "JOIN sakila.film_actor AS fa ON a.actor_id = fa.actor_id\n",
    "JOIN sakila.film AS f ON fa.film_id = f.film_id\n",
    "JOIN sakila.inventory AS i ON f.film_id = i.film_id\n",
    "JOIN sakila.rental AS r ON i.inventory_id = r.inventory_id\n",
    "JOIN sakila.payment AS p ON r.rental_id = p.rental_id\n",
    "JOIN sakila.store AS s ON i.store_id = s.store_id\n",
    "JOIN sakila.address AS d ON s.address_id = d.address_id\n",
    "GROUP BY tienda;"
   ]
  },
  {
   "cell_type": "markdown",
   "metadata": {},
   "source": [
    "## Base de datos Menagerie:"
   ]
  },
  {
   "cell_type": "code",
   "execution_count": 13,
   "metadata": {},
   "outputs": [
    {
     "data": {
      "text/html": [
       "<html><body><table border=\"1\"><tr><th style=\"text-align:left;white-space:pre\">name</th><th style=\"text-align:left;white-space:pre\">owner</th><th style=\"text-align:left;white-space:pre\">species</th><th style=\"text-align:left;white-space:pre\">sex</th><th style=\"text-align:left;white-space:pre\">birth</th><th style=\"text-align:left;white-space:pre\">death</th></tr><tr><td style=\"text-align:left;white-space:pre\">Puffball</td><td style=\"text-align:left;white-space:pre\">Diane</td><td style=\"text-align:left;white-space:pre\">hamster</td><td style=\"text-align:left;white-space:pre\">f</td><td style=\"text-align:left;white-space:pre\">1999-03-30</td><td style=\"text-align:left;white-space:pre\">NULL</td></tr><tr><td style=\"text-align:left;white-space:pre\">Fluffy</td><td style=\"text-align:left;white-space:pre\">Harold</td><td style=\"text-align:left;white-space:pre\">cat</td><td style=\"text-align:left;white-space:pre\">f</td><td style=\"text-align:left;white-space:pre\">1993-02-04</td><td style=\"text-align:left;white-space:pre\">NULL</td></tr><tr><td style=\"text-align:left;white-space:pre\">Claws</td><td style=\"text-align:left;white-space:pre\">Gwen</td><td style=\"text-align:left;white-space:pre\">cat</td><td style=\"text-align:left;white-space:pre\">m</td><td style=\"text-align:left;white-space:pre\">1994-03-17</td><td style=\"text-align:left;white-space:pre\">NULL</td></tr><tr><td style=\"text-align:left;white-space:pre\">Buffy</td><td style=\"text-align:left;white-space:pre\">Harold</td><td style=\"text-align:left;white-space:pre\">dog</td><td style=\"text-align:left;white-space:pre\">f</td><td style=\"text-align:left;white-space:pre\">1989-05-13</td><td style=\"text-align:left;white-space:pre\">NULL</td></tr><tr><td style=\"text-align:left;white-space:pre\">Fang</td><td style=\"text-align:left;white-space:pre\">Benny</td><td style=\"text-align:left;white-space:pre\">dog</td><td style=\"text-align:left;white-space:pre\">m</td><td style=\"text-align:left;white-space:pre\">1990-08-27</td><td style=\"text-align:left;white-space:pre\">NULL</td></tr><tr><td style=\"text-align:left;white-space:pre\">Bowser</td><td style=\"text-align:left;white-space:pre\">Diane</td><td style=\"text-align:left;white-space:pre\">dog</td><td style=\"text-align:left;white-space:pre\">m</td><td style=\"text-align:left;white-space:pre\">1979-08-31</td><td style=\"text-align:left;white-space:pre\">1995-07-29</td></tr><tr><td style=\"text-align:left;white-space:pre\">Chirpy</td><td style=\"text-align:left;white-space:pre\">Gwen</td><td style=\"text-align:left;white-space:pre\">bird</td><td style=\"text-align:left;white-space:pre\">f</td><td style=\"text-align:left;white-space:pre\">1998-09-11</td><td style=\"text-align:left;white-space:pre\">NULL</td></tr><tr><td style=\"text-align:left;white-space:pre\">Whistler</td><td style=\"text-align:left;white-space:pre\">Gwen</td><td style=\"text-align:left;white-space:pre\">bird</td><td style=\"text-align:left;white-space:pre\">NULL</td><td style=\"text-align:left;white-space:pre\">1997-12-09</td><td style=\"text-align:left;white-space:pre\">NULL</td></tr><tr><td style=\"text-align:left;white-space:pre\">Slim</td><td style=\"text-align:left;white-space:pre\">Benny</td><td style=\"text-align:left;white-space:pre\">snake</td><td style=\"text-align:left;white-space:pre\">m</td><td style=\"text-align:left;white-space:pre\">1996-04-29</td><td style=\"text-align:left;white-space:pre\">NULL</td></tr></table></body></html>"
      ]
     },
     "metadata": {},
     "output_type": "display_data"
    }
   ],
   "source": [
    "SELECT * FROM menagerie.pet;"
   ]
  },
  {
   "cell_type": "code",
   "execution_count": 14,
   "metadata": {},
   "outputs": [
    {
     "data": {
      "text/html": [
       "<html><body><table border=\"1\"><tr><th style=\"text-align:left;white-space:pre\">name</th><th style=\"text-align:left;white-space:pre\">date</th><th style=\"text-align:left;white-space:pre\">type</th><th style=\"text-align:left;white-space:pre\">remark</th></tr><tr><td style=\"text-align:left;white-space:pre\">Fluffy</td><td style=\"text-align:left;white-space:pre\">1995-05-15</td><td style=\"text-align:left;white-space:pre\">litter</td><td style=\"text-align:left;white-space:pre\">4 kittens, 3 female, 1 male</td></tr><tr><td style=\"text-align:left;white-space:pre\">Buffy</td><td style=\"text-align:left;white-space:pre\">1993-06-23</td><td style=\"text-align:left;white-space:pre\">litter</td><td style=\"text-align:left;white-space:pre\">5 puppies, 2 female, 3 male</td></tr><tr><td style=\"text-align:left;white-space:pre\">Buffy</td><td style=\"text-align:left;white-space:pre\">1994-06-19</td><td style=\"text-align:left;white-space:pre\">litter</td><td style=\"text-align:left;white-space:pre\">3 puppies, 3 female</td></tr><tr><td style=\"text-align:left;white-space:pre\">Chirpy</td><td style=\"text-align:left;white-space:pre\">1999-03-21</td><td style=\"text-align:left;white-space:pre\">vet</td><td style=\"text-align:left;white-space:pre\">needed beak straightened</td></tr><tr><td style=\"text-align:left;white-space:pre\">Slim</td><td style=\"text-align:left;white-space:pre\">1997-08-03</td><td style=\"text-align:left;white-space:pre\">vet</td><td style=\"text-align:left;white-space:pre\">broken rib</td></tr><tr><td style=\"text-align:left;white-space:pre\">Bowser</td><td style=\"text-align:left;white-space:pre\">1991-10-12</td><td style=\"text-align:left;white-space:pre\">kennel</td><td style=\"text-align:left;white-space:pre\">NULL</td></tr><tr><td style=\"text-align:left;white-space:pre\">Fang</td><td style=\"text-align:left;white-space:pre\">1991-10-12</td><td style=\"text-align:left;white-space:pre\">kennel</td><td style=\"text-align:left;white-space:pre\">NULL</td></tr><tr><td style=\"text-align:left;white-space:pre\">Fang</td><td style=\"text-align:left;white-space:pre\">1998-08-28</td><td style=\"text-align:left;white-space:pre\">birthday</td><td style=\"text-align:left;white-space:pre\">Gave him a new chew toy</td></tr><tr><td style=\"text-align:left;white-space:pre\">Claws</td><td style=\"text-align:left;white-space:pre\">1998-03-17</td><td style=\"text-align:left;white-space:pre\">birthday</td><td style=\"text-align:left;white-space:pre\">Gave him a new flea collar</td></tr><tr><td style=\"text-align:left;white-space:pre\">Whistler</td><td style=\"text-align:left;white-space:pre\">1998-12-09</td><td style=\"text-align:left;white-space:pre\">birthday</td><td style=\"text-align:left;white-space:pre\">First birthday</td></tr></table></body></html>"
      ]
     },
     "metadata": {},
     "output_type": "display_data"
    }
   ],
   "source": [
    "SELECT * FROM menagerie.event;"
   ]
  },
  {
   "cell_type": "markdown",
   "metadata": {},
   "source": [
    "# Bibliografía\n",
    "\n",
    "- [1] Oracle corporation (2021) MySQL Reference Manual (Version 8.0) [Software documentation], disponible en [MySQL documentation](https://dev.mysql.com/doc/index-other.html)\n",
    "- [2] Patrick Crews, Giuseppe Maxia (2016) Código fuente de base de datos \"Employee\" [Código fuente], disponible en [MySQL documentation](https://dev.mysql.com/doc/employee/en/)\n",
    "- [3] Oracle corporation (n.d.) Código fuente de base de datos \"World\" [Código fuente], disponible en [MySQL documentation](https://dev.mysql.com/doc/world-setup/en/)\n",
    "- [4] Oracle corporation (2016) Código fuente de base de datos \"World-X\" [Código fuente], disponible en [MySQL documentation](https://dev.mysql.com/doc/world-x-setup/en/)\n",
    "- [5] Mike Hillyer, Oracle corporation (2005) Código fuente de base de datos \"Sakila\" [Código fuente], disponible en [MySQL documentation](https://dev.mysql.com/doc/sakila/en/)\n",
    "- [6] Oracle corporation (n.d.) Código fuente de base de datos \"Menagerie\" [Código fuente], disponible en [MySQL documentation](https://dev.mysql.com/doc/refman/8.0/en/database-use.html)"
   ]
  },
  {
   "cell_type": "code",
   "execution_count": null,
   "metadata": {},
   "outputs": [],
   "source": []
  }
 ],
 "metadata": {
  "kernelspec": {
   "display_name": "MariaDB",
   "language": "SQL",
   "name": "mariadb_kernel"
  },
  "language_info": {
   "file_extension": ".sql",
   "mimetype": "text/plain",
   "name": "SQL"
  },
  "toc-autonumbering": true,
  "toc-showcode": false
 },
 "nbformat": 4,
 "nbformat_minor": 4
}
